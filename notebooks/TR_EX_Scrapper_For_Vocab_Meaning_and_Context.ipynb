{
 "cells": [
  {
   "cell_type": "markdown",
   "metadata": {
    "id": "PTXb0fTW8uOV"
   },
   "source": [
    "## Install Dependencies"
   ]
  },
  {
   "cell_type": "code",
   "execution_count": 1,
   "metadata": {
    "id": "M71-aVn7zzf0"
   },
   "outputs": [
    {
     "name": "stderr",
     "output_type": "stream",
     "text": [
      "WARNING: Ignoring invalid distribution -nsorflow-gpu (d:\\2. python\\python 3.7\\lib\\site-packages)\n",
      "WARNING: Ignoring invalid distribution - (d:\\2. python\\python 3.7\\lib\\site-packages)\n",
      "WARNING: Ignoring invalid distribution -ensorflow (d:\\2. python\\python 3.7\\lib\\site-packages)\n",
      "WARNING: Ignoring invalid distribution -ensorflow-gpu (d:\\2. python\\python 3.7\\lib\\site-packages)\n",
      "WARNING: Ignoring invalid distribution -nsorflow-gpu (d:\\2. python\\python 3.7\\lib\\site-packages)\n",
      "WARNING: Ignoring invalid distribution - (d:\\2. python\\python 3.7\\lib\\site-packages)\n",
      "WARNING: Ignoring invalid distribution -ensorflow (d:\\2. python\\python 3.7\\lib\\site-packages)\n",
      "WARNING: Ignoring invalid distribution -ensorflow-gpu (d:\\2. python\\python 3.7\\lib\\site-packages)\n",
      "WARNING: Ignoring invalid distribution -nsorflow-gpu (d:\\2. python\\python 3.7\\lib\\site-packages)\n",
      "WARNING: Ignoring invalid distribution - (d:\\2. python\\python 3.7\\lib\\site-packages)\n",
      "WARNING: Ignoring invalid distribution -ensorflow (d:\\2. python\\python 3.7\\lib\\site-packages)\n",
      "WARNING: Ignoring invalid distribution -ensorflow-gpu (d:\\2. python\\python 3.7\\lib\\site-packages)\n",
      "WARNING: Ignoring invalid distribution -nsorflow-gpu (d:\\2. python\\python 3.7\\lib\\site-packages)\n",
      "WARNING: Ignoring invalid distribution - (d:\\2. python\\python 3.7\\lib\\site-packages)\n",
      "WARNING: Ignoring invalid distribution -ensorflow (d:\\2. python\\python 3.7\\lib\\site-packages)\n",
      "WARNING: Ignoring invalid distribution -ensorflow-gpu (d:\\2. python\\python 3.7\\lib\\site-packages)\n",
      "WARNING: Ignoring invalid distribution -nsorflow-gpu (d:\\2. python\\python 3.7\\lib\\site-packages)\n",
      "WARNING: Ignoring invalid distribution - (d:\\2. python\\python 3.7\\lib\\site-packages)\n",
      "WARNING: Ignoring invalid distribution -ensorflow (d:\\2. python\\python 3.7\\lib\\site-packages)\n",
      "WARNING: Ignoring invalid distribution -ensorflow-gpu (d:\\2. python\\python 3.7\\lib\\site-packages)\n",
      "WARNING: Ignoring invalid distribution -nsorflow-gpu (d:\\2. python\\python 3.7\\lib\\site-packages)\n",
      "WARNING: Ignoring invalid distribution - (d:\\2. python\\python 3.7\\lib\\site-packages)\n",
      "WARNING: Ignoring invalid distribution -ensorflow (d:\\2. python\\python 3.7\\lib\\site-packages)\n",
      "WARNING: Ignoring invalid distribution -ensorflow-gpu (d:\\2. python\\python 3.7\\lib\\site-packages)\n",
      "WARNING: You are using pip version 21.3; however, version 22.1.2 is available.\n",
      "You should consider upgrading via the 'd:\\2. python\\python 3.7\\python.exe -m pip install --upgrade pip' command.\n",
      "WARNING: Ignoring invalid distribution -nsorflow-gpu (d:\\2. python\\python 3.7\\lib\\site-packages)\n",
      "WARNING: Ignoring invalid distribution - (d:\\2. python\\python 3.7\\lib\\site-packages)\n",
      "WARNING: Ignoring invalid distribution -ensorflow (d:\\2. python\\python 3.7\\lib\\site-packages)\n",
      "WARNING: Ignoring invalid distribution -ensorflow-gpu (d:\\2. python\\python 3.7\\lib\\site-packages)\n",
      "WARNING: Ignoring invalid distribution -nsorflow-gpu (d:\\2. python\\python 3.7\\lib\\site-packages)\n",
      "WARNING: Ignoring invalid distribution - (d:\\2. python\\python 3.7\\lib\\site-packages)\n",
      "WARNING: Ignoring invalid distribution -ensorflow (d:\\2. python\\python 3.7\\lib\\site-packages)\n",
      "WARNING: Ignoring invalid distribution -ensorflow-gpu (d:\\2. python\\python 3.7\\lib\\site-packages)\n",
      "WARNING: Ignoring invalid distribution -nsorflow-gpu (d:\\2. python\\python 3.7\\lib\\site-packages)\n",
      "WARNING: Ignoring invalid distribution - (d:\\2. python\\python 3.7\\lib\\site-packages)\n",
      "WARNING: Ignoring invalid distribution -ensorflow (d:\\2. python\\python 3.7\\lib\\site-packages)\n",
      "WARNING: Ignoring invalid distribution -ensorflow-gpu (d:\\2. python\\python 3.7\\lib\\site-packages)\n",
      "WARNING: Ignoring invalid distribution -nsorflow-gpu (d:\\2. python\\python 3.7\\lib\\site-packages)\n",
      "WARNING: Ignoring invalid distribution - (d:\\2. python\\python 3.7\\lib\\site-packages)\n",
      "WARNING: Ignoring invalid distribution -ensorflow (d:\\2. python\\python 3.7\\lib\\site-packages)\n",
      "WARNING: Ignoring invalid distribution -ensorflow-gpu (d:\\2. python\\python 3.7\\lib\\site-packages)\n",
      "WARNING: Ignoring invalid distribution -nsorflow-gpu (d:\\2. python\\python 3.7\\lib\\site-packages)\n",
      "WARNING: Ignoring invalid distribution - (d:\\2. python\\python 3.7\\lib\\site-packages)\n",
      "WARNING: Ignoring invalid distribution -ensorflow (d:\\2. python\\python 3.7\\lib\\site-packages)\n",
      "WARNING: Ignoring invalid distribution -ensorflow-gpu (d:\\2. python\\python 3.7\\lib\\site-packages)\n",
      "WARNING: Ignoring invalid distribution -nsorflow-gpu (d:\\2. python\\python 3.7\\lib\\site-packages)\n",
      "WARNING: Ignoring invalid distribution - (d:\\2. python\\python 3.7\\lib\\site-packages)\n",
      "WARNING: Ignoring invalid distribution -ensorflow (d:\\2. python\\python 3.7\\lib\\site-packages)\n",
      "WARNING: Ignoring invalid distribution -ensorflow-gpu (d:\\2. python\\python 3.7\\lib\\site-packages)\n",
      "WARNING: You are using pip version 21.3; however, version 22.1.2 is available.\n",
      "You should consider upgrading via the 'd:\\2. python\\python 3.7\\python.exe -m pip install --upgrade pip' command.\n"
     ]
    }
   ],
   "source": [
    "!pip install requests -q\n",
    "!pip install beautifulsoup4 -q"
   ]
  },
  {
   "cell_type": "code",
   "execution_count": 2,
   "metadata": {
    "id": "tbdtrIBC07aN"
   },
   "outputs": [],
   "source": [
    "import numpy as np\n",
    "import pandas as pd\n",
    "import requests\n",
    "import bs4\n",
    "import lxml.etree as xml\n",
    "import re"
   ]
  },
  {
   "cell_type": "markdown",
   "metadata": {
    "id": "YiPRge2WtNPh"
   },
   "source": [
    "## Example of Scrapping"
   ]
  },
  {
   "cell_type": "code",
   "execution_count": 3,
   "metadata": {
    "colab": {
     "base_uri": "https://localhost:8080/"
    },
    "id": "zT-lzEFG2-fC",
    "outputId": "a2e041a2-f5cd-45f2-fc6d-189b1e51ee02"
   },
   "outputs": [
    {
     "data": {
      "text/plain": [
       "<Response [200]>"
      ]
     },
     "execution_count": 3,
     "metadata": {},
     "output_type": "execute_result"
    }
   ],
   "source": [
    "ID_Vocab = \"makan\"\n",
    "ID_Vocab = ID_Vocab.lower()\n",
    "URL = \"https://tr-ex.me/translation/indonesian-english/\"\n",
    "requests.get(URL + ID_Vocab)"
   ]
  },
  {
   "cell_type": "code",
   "execution_count": 4,
   "metadata": {
    "colab": {
     "base_uri": "https://localhost:8080/",
     "height": 145
    },
    "id": "Q-LfE2T433XU",
    "outputId": "27cd1ea0-a864-4b64-8628-8cfaa64d3610"
   },
   "outputs": [
    {
     "data": {
      "text/plain": [
       "'<!DOCTYPE html>\\n<html lang=\"en\" >\\n<head>\\n\\n    <meta http-equiv=\\'cache-control\\' content=\\'no-cache\\'>\\n    <meta http-equiv=\\'expires\\' content=\\'0\\'>\\n    <meta http-equiv=\\'pragma\\' content=\\'no-cache\\'>\\n    <meta http-equiv=\"x-dns-prefetch-control\" content=\"on\">\\n\\n    <link rel=\"dns-prefetch\" href=\"https://st.tr-ex.me\">\\n    <link rel=\"preconnect\" crossorigin href=\"https://st.tr-ex.me\">\\n\\n    <link rel=\"dns-prefetch\" href=\"https://fonts.googleapis.com\">\\n    <link rel=\"preconnect\" crossorigin href=\"https://fonts.googleapis.com\">\\n\\n    <link rel=\"dns-prefetch\" href=\"https://www.googletagmanager.com\">\\n    <link rel=\"preconnect\" crossorigin href=\"https://www.googletagmanager.com\">\\n\\n    <link rel=\"dns-prefetch\" href=\"https://www.google-analytics.com\">\\n    <link rel=\"preconnect\" crossorigin href=\"https://www.google-analytics.com\">\\n\\n    <link rel=\"dns-prefetch\" href=\"https://www.googletagservices.com\">\\n    <link rel=\"preconnect\" crossorigin href=\"https://www.googletagservices.com\">\\n\\n    <link rel=\"dns-prefetch\" href=\"https://googleads.g.doubleclick.net\">\\n    <link rel=\"preconnect\" crossorigin href=\"https://googleads.g.doubleclick.net\">\\n\\n    <link rel=\"dns-prefetch\" href=\"https://pagead2.googlesyndication.com\">\\n    <link rel=\"preconnect\" crossorigin href=\"https://pagead2.googlesyndication.com\">\\n\\n    <link rel=\"dns-prefetch\" href=\"https://securepubads.g.doubleclick.net\">\\n    <link rel=\"preconnect\" crossorigin href=\"https://securepubads.g.doubleclick.net\">\\n\\n    <!--suppress JSUnresolvedLibraryURL -->\\n    <link rel=\"preload\" href=\"https://pagead2.googlesyndication.com/pagead/js/adsbygoogle.js\" as=\"script\">\\n            \\n    <script>\\n\\n        window.isMobile = function () {\\n            let check = false;\\n            // noinspection JSUnresolvedVariable\\n            (function (a) {\\n                if (/(android|bb\\\\d+|meego).+mobile|avantgo|bada\\\\/|blackberry|blazer|compal|elaine|fennec|hiptop|iemobile|ip(hone|od)|iris|kindle|lge |maemo|midp|mmp|mobile.+firefox|netfront|opera m(ob|in)i|palm( os)?|phone|p(ixi|re)\\\\/|plucker|pocket|psp|series([46])0|symbian|treo|up\\\\.(browser|link)|vodafone|wap|windows ce|xda|xiino/i.test(\\n                        a) ||\\n                    /1207|6310|6590|3gso|4thp|50[1-6]i|770s|802s|a wa|abac|ac(er|oo|s-)|ai(ko|rn)|al(av|ca|co)|amoi|an(ex|ny|yw)|aptu|ar(ch|go)|as(te|us)|attw|au(di|-m|r |s )|avan|be(ck|ll|nq)|bi(lb|rd)|bl(ac|az)|br([ev])w|bumb|bw-([nu])|c55\\\\/|capi|ccwa|cdm-|cell|chtm|cldc|cmd-|co(mp|nd)|craw|da(it|ll|ng)|dbte|dc-s|devi|dica|dmob|do([cp])o|ds(12|-d)|el(49|ai)|em(l2|ul)|er(ic|k0)|esl8|ez([4-7]0|os|wa|ze)|fetc|fly([-_])|g1 u|g560|gene|gf-5|g-mo|go(\\\\.w|od)|gr(ad|un)|haie|hcit|hd-([mpt])|hei-|hi(pt|ta)|hp( i|ip)|hs-c|ht(c([- _agpst])|tp)|hu(aw|tc)|i-(20|go|ma)|i230|iac([ \\\\-\\\\/])|ibro|idea|ig01|ikom|im1k|inno|ipaq|iris|ja([tv])a|jbro|jemu|jigs|kddi|keji|kgt([ \\\\/])|klon|kpt |kwc-|kyo([ck])|le(no|xi)|lg( g|\\\\/([klu])|50|54|-[a-w])|libw|lynx|m1-w|m3ga|m50\\\\/|ma(te|ui|xo)|mc(01|21|ca)|m-cr|me(rc|ri)|mi(o8|oa|ts)|mmef|mo(01|02|bi|de|do|t([- ov])|zz)|mt(50|p1|v )|mwbp|mywa|n10[0-2]|n20[2-3]|n30([02])|n50([025])|n7(0([01])|10)|ne(([cm])-|on|tf|wf|wg|wt)|nok([6i])|nzph|o2im|op(ti|wv)|oran|owg1|p800|pan([adt])|pdxg|pg(13|-([1-8]|c))|phil|pire|pl(ay|uc)|pn-2|po(ck|rt|se)|prox|psio|pt-g|qa-a|qc(07|12|21|32|60|-[2-7]|i-)|qtek|r380|r600|raks|rim9|ro(ve|zo)|s55\\\\/|sa(ge|ma|mm|ms|ny|va)|sc(01|h-|oo|p-)|sdk\\\\/|se(c([-01])|47|mc|nd|ri)|sgh-|shar|sie([-m])|sk-0|sl(45|id)|sm(al|ar|b3|it|t5)|so(ft|ny)|sp(01|h-|v-|v )|sy(01|mb)|t2(18|50)|t6(00|10|18)|ta(gt|lk)|tcl-|tdg-|tel([im])|tim-|t-mo|to(pl|sh)|ts(70|m-|m3|m5)|tx-9|up(\\\\.b|g1|si)|utst|v400|v750|veri|vi(rg|te)|vk(40|5[0-3]|-v)|vm40|voda|vulc|vx(52|53|60|61|70|80|81|83|85|98)|w3c([- ])|webc|whit|wi(g |nc|nw)|wmlb|wonu|x700|yas-|your|zeto|zte-/i.test(\\n                        a.substring(0, 4))) check = true;\\n            })(navigator.userAgent || navigator.vendor || window.opera);\\n            let w = screen.width || window.innerWidth;\\n            return check || w < 740;\\n        };\\n\\n        window.isBot = function () {\\n            let check = false;\\n            // noinspection JSUnresolvedVariable\\n            (function (a) {\\n                if (/bot/i.test(a) || /bing/i.test(a) || /crawl/i.test(a)) check = true;\\n            })(navigator.userAgent || navigator.vendor || window.opera);\\n            return check;\\n        };\\n\\n        function ready(callbackFunc) {\\n            if (document.readyState !== \\'loading\\') {\\n                // Document is already ready, call the callback directly\\n                callbackFunc();\\n            } else if (document.addEventListener) {\\n                // All modern browsers to register DOMContentLoaded\\n                document.addEventListener(\\'DOMContentLoaded\\', callbackFunc);\\n            } else {\\n                // Old IE browsers\\n                // noinspection JSUnresolvedFunction\\n                document.attachEvent(\\'onreadystatechange\\', function () {\\n                    if (document.readyState === \\'complete\\') {\\n                        callbackFunc();\\n                    }\\n                });\\n            }\\n        }\\n\\n        // noinspection JSUnresolvedVariable\\n\\nString.prototype.hashCode = function () {\\n    let hash = 0;\\n    if (this.length === 0) {\\n        return hash;\\n    }\\n    for (let i = 0; i < this.length; i++) {\\n        let char = this.charCodeAt(i);\\n        hash = ((hash << 5) - hash) + char;\\n        hash = hash & hash; // Convert to 32bit integer\\n    }\\n    return hash;\\n};\\n\\nString.prototype.b64e = function () {\\n    return btoa(encodeURIComponent(this).replace(/%([0-9A-F]{2})/g,\\n        function toSolidBytes(match, p1) {\\n            // noinspection JSCheckFunctionSignatures\\n            return String.fromCharCode(\\'0x\\' + p1);\\n        }));\\n};\\n\\nString.prototype.b64d = function () {\\n    return decodeURIComponent(atob(this).split(\\'\\').map(function (c) {\\n        return \\'%\\' + (\\'00\\' + c.charCodeAt(0).toString(16)).slice(-2);\\n    }).join(\\'\\'));\\n};\\n\\nif (!String.prototype.hasOwnProperty(\\'replaceAll\\')) {\\n    String.prototype.replaceAll = function (search, replace) {\\n        return this.replace(new RegExp(search, \\'g\\'), replace);\\n    };\\n}\\n\\nString.prototype.capitalize = function () {\\n    return this.charAt(0).toUpperCase() + this.slice(1);\\n};\\n\\nNodeList.prototype.allAttributes = function (attribute) {\\n    let result = [];\\n    for (let element of this) {\\n        if (element instanceof Element && element.hasAttribute(attribute)) {\\n            result.push(element.getAttribute(attribute));\\n        }\\n    }\\n    return result;\\n}\\n\\nHTMLInputElement.prototype.setCaretTo = function (pos) {\\n\\n    this.focus();\\n\\n    let elem = this;\\n\\n    if (elem != null) {\\n        if (elem.hasOwnProperty(\\'createTextRange\\')) {\\n            let range = elem.createTextRange();\\n            // noinspection JSUnresolvedFunction\\n            range.move(\\'character\\', pos);\\n            range.select();\\n        } else {\\n            if (elem.selectionStart) {\\n                elem.focus();\\n                elem.setSelectionRange(pos, pos);\\n            } else\\n                elem.focus();\\n        }\\n    }\\n\\n    return this;\\n}\\n\\nElement.prototype.toggle = function () {\\n    if (this.style.display !== \\'none\\') {\\n        this.hide();\\n    } else {\\n        this.show();\\n    }\\n}\\n\\nElement.prototype.serializeArray = function () {\\n\\n    let form = this;\\n\\n    // Setup our serialized data\\n    let serialized = [];\\n\\n    // Loop through each field in the form\\n    for (let i = 0; i < form.elements.length; i++) {\\n\\n        let field = form.elements[i];\\n\\n        // Don\\'t serialize fields without a name, submits, buttons, file and reset inputs, and disabled fields\\n        if (!field.name || field.disabled || field.type === \\'file\\' ||\\n            field.type === \\'reset\\' || field.type === \\'submit\\' ||\\n            field.type === \\'button\\') continue;\\n\\n        if (field.type === \\'select-multiple\\') {\\n            for (let n = 0; n < field.options.length; n++) {\\n                if (!field.options[n].selected) continue;\\n                serialized.push({\\n                    name: field.name,\\n                    value: field.options[n].value,\\n                });\\n            }\\n        }\\n\\n        else if ((field.type !== \\'checkbox\\' && field.type !== \\'radio\\') ||\\n            field.checked) {\\n            serialized.push({\\n                name: field.name,\\n                value: field.value,\\n            });\\n        }\\n    }\\n\\n    return serialized;\\n}\\n\\nElement.prototype.appendAfter = function (newNode) {\\n    this.parentNode.insertBefore(newNode, this.nextSibling);\\n};\\n\\nElement.prototype.hide = function () {\\n    if (this instanceof Element) {\\n        let displayValue = this.style.display;\\n        if (this.style.display !== \\'none\\') {\\n            this.dataset.lastDisplayValue = displayValue;\\n            this.style.display = \\'none\\';\\n        }\\n    }\\n}\\n\\nElement.prototype.show = function () {\\n    if (this instanceof Element) {\\n        if (this.style.display === \\'none\\') {\\n            if (this.dataset.lastDisplayValue) {\\n                this.style.display = this.dataset.lastDisplayValue;\\n            } else {\\n                this.style.display = null;\\n            }\\n        }\\n    }\\n}\\n\\nElement.prototype.updateScripts = function () {\\n    Array.from(this.querySelectorAll(\"script\")).forEach(oldScript => {\\n        const newScript = document.createElement(\"script\");\\n        Array.from(oldScript.attributes)\\n            .forEach(attr => newScript.setAttribute(attr.name, attr.value));\\n        newScript.appendChild(document.createTextNode(oldScript.innerHTML));\\n        oldScript.parentNode.replaceChild(newScript, oldScript);\\n    });\\n}\\n\\nElement.prototype.lazy = function (after = null) {\\n    let element = this;\\n    let replace = document.createElement(\\'div\\');\\n    element.parentNode.replaceChild(replace, element);\\n\\n    let lazyLoadBanner = function () {\\n        let top = replace.getBoundingClientRect().top;\\n        let by = top - window.innerHeight;\\n        if (by < 0) {\\n            replace.parentNode.replaceChild(element, replace);\\n            window.removeEventListener(\\'scroll\\', lazyLoadBanner);\\n            if (after) {\\n                after();\\n            }\\n        }\\n    };\\n\\n    window.addEventListener(\\'scroll\\', lazyLoadBanner);\\n    window.dispatchEvent(new CustomEvent(\\'scroll\\'));\\n}\\n\\nRegExp.escape = function (value) {\\n    return value.replace(/[\\\\-\\\\[\\\\]{}()*+?.,\\\\\\\\^$|#\\\\s]/g, \\'\\\\\\\\$&\\');\\n};\\n\\nfunction getOffset(el) {\\n    const rect = el.getBoundingClientRect();\\n    return {\\n        left: rect.left + window.scrollX,\\n        top: rect.top + window.scrollY\\n    };\\n}\\n\\nElement.prototype.offset = function () {\\n    return getOffset(this);\\n};\\n    </script>\\n\\n    \\n            <script async src=\"https://www.googletagmanager.com/gtag/js?id=UA-124448355-1\"></script>\\n        <script>\\n            window.dataLayer = window.dataLayer || [];\\n\\n            function gtag() {\\n                dataLayer.push(arguments);\\n            }\\n\\n            gtag(\\'js\\', new Date());\\n            gtag(\\'config\\', \\'UA-124448355-1\\');\\n            gtag(\\'config\\', \\'UA-147057054-1\\');\\n        </script>\\n    \\n                    <meta http-equiv=\"Content-Type\" content=\"text/html; charset=UTF-8\"/>\\n    <!-- Force latest IE rendering engine or ChromeFrame if installed -->\\n    <!--[if IE]>\\n    <meta http-equiv=\"X-UA-Compatible\" content=\"IE=edge,chrome=1\"/>\\n    <![endif]-->\\n    <meta name=\"viewport\" content=\"width=device-width, initial-scale=1.0\"/>\\n    <meta name=\\'google\\' content=\\'notranslate\\'/>\\n        <title>Indonesian-English dictionary - translation</title>\\n                                <link rel=\"alternate\" hreflang=\"id\" href=\"https://tr-ex.me/terjemahan/bahasa+indonesia-bahasa+inggris/\"/>\\n            <link rel=\"alternate\" hreflang=\"en\" href=\"https://tr-ex.me/translation/indonesian-english/\"/>\\n                            <link rel=\"alternate\" hreflang=\"x-default\" href=\"https://tr-ex.me/translation/indonesian-english/\"/>\\n                        <link rel=\"canonical\" href=\"https://tr-ex.me/translation/indonesian-english/\"/>\\n        <style id=\"insert-style\"></style>\\n    <link rel=\"icon\" type=\"image/png\" sizes=\"192x192\" href=\"https://st.tr-ex.me/img/icons/favicon_trex/android-chrome-192x192.png\">\\n<link rel=\"icon\" type=\"image/png\" sizes=\"32x32\" href=\"https://st.tr-ex.me/img/icons/favicon_trex/favicon-32x32.png\">\\n<link rel=\"icon\" type=\"image/png\" sizes=\"96x96\" href=\"https://st.tr-ex.me/img/icons/favicon_trex/android-chrome-96x96.png\">\\n<link rel=\"icon\" type=\"image/png\" sizes=\"16x16\" href=\"https://st.tr-ex.me/img/icons/favicon_trex/favicon-16x16.png\">\\n\\n<link rel=\"apple-touch-icon\" sizes=\"57x57\" href=\"https://st.tr-ex.me/img/icons/favicon_trex/apple-touch-icon-57x57.png\">\\n<link rel=\"apple-touch-icon\" sizes=\"60x60\" href=\"https://st.tr-ex.me/img/icons/favicon_trex/apple-touch-icon-60x60.png\">\\n<link rel=\"apple-touch-icon\" sizes=\"72x72\" href=\"https://st.tr-ex.me/img/icons/favicon_trex/apple-touch-icon-72x72.png\">\\n<link rel=\"apple-touch-icon\" sizes=\"76x76\" href=\"https://st.tr-ex.me/img/icons/favicon_trex/apple-touch-icon-76x76.png\">\\n<link rel=\"apple-touch-icon\" sizes=\"114x114\" href=\"https://st.tr-ex.me/img/icons/favicon_trex/apple-touch-icon-114x114.png\">\\n<link rel=\"apple-touch-icon\" sizes=\"120x120\" href=\"https://st.tr-ex.me/img/icons/favicon_trex/apple-touch-icon-120x120.png\">\\n<link rel=\"apple-touch-icon\" sizes=\"144x144\" href=\"https://st.tr-ex.me/img/icons/favicon_trex/apple-touch-icon-144x144.png\">\\n<link rel=\"apple-touch-icon\" sizes=\"152x152\" href=\"https://st.tr-ex.me/img/icons/favicon_trex/apple-touch-icon-152x152.png\">\\n<link rel=\"apple-touch-icon\" sizes=\"180x180\" href=\"https://st.tr-ex.me/img/icons/favicon_trex/apple-touch-icon-180x180.png\">\\n\\n<meta name=\"msapplication-TileImage\" content=\"https://st.tr-ex.me/img/icons/favicon_trex/mstile-144x144.png\">\\n<meta name=\"msapplication-TileColor\" content=\"#ffffff\">\\n\\n<link rel=\"manifest\" href=\"/manifest.json\">\\n<meta name=\"theme-color\" content=\"#494f6f\">\\n<link\\n        rel=\"preload\"\\n        href=\"https://fonts.googleapis.com/css?family=Comfortaa|Roboto|Montserrat|Material+Icons|Material+Icons+Outlined&display=swap\"\\n        as=\"style\"\\n        onload=\"this.onload=null;this.rel=\\'stylesheet\\'\"\\n/>\\n<noscript>\\n    <link\\n            href=\"https://fonts.googleapis.com/css?family=Comfortaa|Roboto|Montserrat|Material+Icons|Material+Icons+Outlined&display=swap\"\\n            rel=\"stylesheet\"\\n            type=\"text/css\"\\n    />\\n</noscript>\\n<style>\\n\\n    .flag-icon {\\n        position: relative;\\n        display: inline-block;\\n        width: 1.33333em;\\n        line-height: 1em;\\n    }\\n\\n    .flag-icon-background, .flag-icon {\\n        background-size: contain;\\n        background-position: 50%;\\n        background-repeat: no-repeat;\\n    }\\n\\n    .flag-icon:before {\\n        content: \"\\\\A0\";\\n    }\\n\\n                .flag-icon-gb {\\n        background-image: url(https://st.tr-ex.me/img/flags/gb.svg);\\n    }\\n\\n                    .flag-icon-es {\\n        background-image: url(https://st.tr-ex.me/img/flags/es.svg);\\n    }\\n\\n                    .flag-icon-fr {\\n        background-image: url(https://st.tr-ex.me/img/flags/fr.svg);\\n    }\\n\\n                    .flag-icon-ru {\\n        background-image: url(https://st.tr-ex.me/img/flags/ru.svg);\\n    }\\n\\n                    .flag-icon-cz {\\n        background-image: url(https://st.tr-ex.me/img/flags/cz.svg);\\n    }\\n\\n                    .flag-icon-id {\\n        background-image: url(https://st.tr-ex.me/img/flags/id.svg);\\n    }\\n\\n                    .flag-icon-no {\\n        background-image: url(https://st.tr-ex.me/img/flags/no.svg);\\n    }\\n\\n                    .flag-icon-se {\\n        background-image: url(https://st.tr-ex.me/img/flags/se.svg);\\n    }\\n\\n                    .flag-icon-hr {\\n        background-image: url(https://st.tr-ex.me/img/flags/hr.svg);\\n    }\\n\\n                    .flag-icon-fi {\\n        background-image: url(https://st.tr-ex.me/img/flags/fi.svg);\\n    }\\n\\n                    .flag-icon-dk {\\n        background-image: url(https://st.tr-ex.me/img/flags/dk.svg);\\n    }\\n\\n                    .flag-icon-de {\\n        background-image: url(https://st.tr-ex.me/img/flags/de.svg);\\n    }\\n\\n                    .flag-icon-va {\\n        background-image: url(https://st.tr-ex.me/img/flags/va.svg);\\n    }\\n\\n                    .flag-icon-it {\\n        background-image: url(https://st.tr-ex.me/img/flags/it.svg);\\n    }\\n\\n                    .flag-icon-nl {\\n        background-image: url(https://st.tr-ex.me/img/flags/nl.svg);\\n    }\\n\\n                    .flag-icon-pt {\\n        background-image: url(https://st.tr-ex.me/img/flags/pt.svg);\\n    }\\n\\n                    .flag-icon-pl {\\n        background-image: url(https://st.tr-ex.me/img/flags/pl.svg);\\n    }\\n\\n                    .flag-icon-tr {\\n        background-image: url(https://st.tr-ex.me/img/flags/tr.svg);\\n    }\\n\\n                    .flag-icon-in {\\n        background-image: url(https://st.tr-ex.me/img/flags/in.svg);\\n    }\\n\\n                    .flag-icon-jp {\\n        background-image: url(https://st.tr-ex.me/img/flags/jp.svg);\\n    }\\n\\n                    .flag-icon-kr {\\n        background-image: url(https://st.tr-ex.me/img/flags/kr.svg);\\n    }\\n\\n                    .flag-icon-th {\\n        background-image: url(https://st.tr-ex.me/img/flags/th.svg);\\n    }\\n\\n                    .flag-icon-my {\\n        background-image: url(https://st.tr-ex.me/img/flags/my.svg);\\n    }\\n\\n                    .flag-icon-vn {\\n        background-image: url(https://st.tr-ex.me/img/flags/vn.svg);\\n    }\\n\\n                    .flag-icon-bd {\\n        background-image: url(https://st.tr-ex.me/img/flags/bd.svg);\\n    }\\n\\n                    .flag-icon-ph {\\n        background-image: url(https://st.tr-ex.me/img/flags/ph.svg);\\n    }\\n\\n                    .flag-icon-in {\\n        background-image: url(https://st.tr-ex.me/img/flags/in.svg);\\n    }\\n\\n                    .flag-icon-in {\\n        background-image: url(https://st.tr-ex.me/img/flags/in.svg);\\n    }\\n\\n                    .flag-icon-cn {\\n        background-image: url(https://st.tr-ex.me/img/flags/cn.svg);\\n    }\\n\\n                    .flag-icon-in {\\n        background-image: url(https://st.tr-ex.me/img/flags/in.svg);\\n    }\\n\\n                    .flag-icon-in {\\n        background-image: url(https://st.tr-ex.me/img/flags/in.svg);\\n    }\\n\\n                    .flag-icon-ro {\\n        background-image: url(https://st.tr-ex.me/img/flags/ro.svg);\\n    }\\n\\n                    .flag-icon-ar {\\n        background-image: url(https://st.tr-ex.me/img/ar.svg);\\n    }\\n\\n                    .flag-icon-pk {\\n        background-image: url(https://st.tr-ex.me/img/flags/pk.svg);\\n    }\\n\\n                    .flag-icon-sk {\\n        background-image: url(https://st.tr-ex.me/img/flags/sk.svg);\\n    }\\n\\n                    .flag-icon-bg {\\n        background-image: url(https://st.tr-ex.me/img/flags/bg.svg);\\n    }\\n\\n                    .flag-icon-rs {\\n        background-image: url(https://st.tr-ex.me/img/flags/rs.svg);\\n    }\\n\\n                    .flag-icon-hu {\\n        background-image: url(https://st.tr-ex.me/img/flags/hu.svg);\\n    }\\n\\n                    .flag-icon-si {\\n        background-image: url(https://st.tr-ex.me/img/flags/si.svg);\\n    }\\n\\n                    .flag-icon-il {\\n        background-image: url(https://st.tr-ex.me/img/flags/il.svg);\\n    }\\n\\n                    .flag-icon-ua {\\n        background-image: url(https://st.tr-ex.me/img/flags/ua.svg);\\n    }\\n\\n                    .flag-icon-gr {\\n        background-image: url(https://st.tr-ex.me/img/flags/gr.svg);\\n    }\\n\\n        \\n    .icon-logo {\\n        background-image: url(https://st.tr-ex.me/img/logo.svg);\\n        background-size: contain;\\n    }\\n\\n    .mobile-logo {\\n        background-image: url(https://st.tr-ex.me/img/logo_color.svg);\\n        width: 1.5rem;\\n        height: 1.5rem;\\n    }\\n</style>\\n<script>history.scrollRestoration = \"manual\"</script>\\n<script>\\n\\n    class ResourceLoader {\\n\\n        static get typeScript() {\\n            return \\'script\\';\\n        }\\n\\n        static get typeStyle() {\\n            return \\'style\\';\\n        }\\n\\n        constructor() {\\n\\n        }\\n\\n        isFunction(obj) {\\n            return !!(obj && obj.constructor && obj.call && obj.apply);\\n        }\\n\\n        load(type, href, insertBefore = null, onload = null, defer = false, async = false) {\\n            let tag = null;\\n            switch (type) {\\n                case ResourceLoader.typeScript:\\n                    tag = document.createElement(\\'script\\');\\n                    break;\\n                case ResourceLoader.typeStyle:\\n                    tag = document.createElement(\\'link\\');\\n                    break;\\n            }\\n\\n            if (tag === null) {\\n                return;\\n            }\\n\\n            if (defer) {\\n                tag.setAttribute(\"defer\", \"\");\\n            }\\n\\n            if (async) {\\n                tag.setAttribute(\"async\", \"\");\\n            }\\n\\n            if (this.isFunction(onload)) {\\n                tag.onload = onload;\\n                tag.onerror = onload;\\n            }\\n\\n            switch (type) {\\n                case ResourceLoader.typeScript:\\n                    tag.src = href;\\n                    break;\\n                case ResourceLoader.typeStyle:\\n                    tag.rel = \\'stylesheet\\';\\n                    tag.href = href;\\n                    break;\\n            }\\n\\n            tag.src = href;\\n\\n            if (insertBefore && false) {\\n                document.querySelector(insertBefore).parentElement.insertBefore(tag, document.querySelector(insertBefore));\\n            } else {\\n                document.head.appendChild(tag);\\n            }\\n        }\\n    }\\n\\n    let r = new ResourceLoader();\\n\\n    </script>\\n\\n            <script>\\n\\n                        r.load(ResourceLoader.typeScript, \"https://pagead2.googlesyndication.com/pagead/js/adsbygoogle.js\", null, () => {\\n                ready(function () {\\n                    if (window.isMobile()) {\\n                        r.load(ResourceLoader.typeScript, \"https://st.tr-ex.me/build/js/lib.p.outline.mob.js?v=4129f5a1\", null, null, true);\\n                    } else {\\n                        r.load(ResourceLoader.typeScript, \"https://st.tr-ex.me/build/js/lib.p.outline.desk.js?v=4129f5a1\", null, null, true);\\n                    }\\n                });\\n            });\\n                    </script>\\n    \\n            <style>\\n                                    html,body,div,span,applet,object,iframe,h1,h2,h3,h4,h5,h6,p,blockquote,pre,a,abbr,acronym,address,big,cite,code,del,dfn,em,img,ins,kbd,q,s,samp,small,strike,strong,sub,sup,tt,var,b,u,i,center,dl,dt,dd,ol,ul,li,fieldset,form,label,legend,table,caption,tbody,tfoot,thead,tr,th,td,article,aside,canvas,details,embed,figure,figcaption,footer,header,hgroup,menu,nav,output,ruby,section,summary,time,mark,audio,video{margin:0;padding:0;border:0;font:inherit;font-family:Montserrat,arial,sans-serif;vertical-align:baseline}article,aside,details,figcaption,figure,footer,header,hgroup,menu,nav,section{display:block}body{line-height:1.5rem}ol,ul{list-style:none}blockquote,q{quotes:none}blockquote:before,blockquote:after,q:before,q:after{content:none}table{border-collapse:collapse;border-spacing:0}*,:after,:before{box-sizing:border-box}table{border-collapse:collapse}td{vertical-align:middle}hr{border:0;background-color:#ddd;height:1px}*{font-family:Montserrat,arial,sans-serif;color:#333}body{background-color:#fafafa;line-height:1.5;font-family:Roboto,Helvetica,Arial,sans-serif}*:hover{color:#333}body,html{overflow-x:hidden !important}.span-link{cursor:pointer}a,.span-link{color:#0053f9;text-decoration:underline}a:hover,.span-link:hover{color:#0053f9;text-decoration:underline}.material-icons:before{content:attr(data-icon)}.material-icons-outlined:before{content:attr(data-icon)}.block{margin:0;border:1px solid #ddd;position:relative;border-radius:.2rem;background:white;padding:.5rem}.block>.header{display:flex;align-content:center;align-items:center;padding:0 0 .5rem;background:transparent}.block>.header>.icon{display:flex;justify-content:center;align-content:center;align-items:center;height:1.4rem;width:1.4rem;background:#0053f9;border-radius:10rem;margin-right:.5rem;color:white}.block>.header>.text{font-size:1.3rem}.block>.body{padding-top:.5rem}.block>.body .text{display:inline-block}@media(min-width:740px){.block{margin-bottom:.5rem;padding:.75rem 1rem}.block>.header{border-bottom:1px solid #ddd;padding-bottom:1rem}.block>.header>.text{font-size:.8rem}}.icon-logo{background-image:url(https://st.tr-ex.me/img/logo.svg);background-size:contain;width:2rem;height:2rem}.icon-logo-color{background-image:url(https://st.tr-ex.me/img/logo_color.svg);background-size:contain;width:2rem;height:2rem}.index-round-flag{height:2em;width:2em;background-size:cover;border-radius:2rem;vertical-align:middle;border:3px solid #e1e6ff}.scrollable{max-height:22.5rem;overflow-y:scroll;overflow-x:hidden}.highlight{background-color:#0053f933;color:#0053f9}.query-highlight{color:#2b9af3}.query-highlight-zh{color:#f32b2b}.total-found-wrapper,.total-found-wrapper *{text-align:center;font-size:.8rem;color:#989898;margin-top:1rem;margin-bottom:1rem}.android-badge-img{width:300px}.text-hl{color:#ff6262}.mod-rtl{direction:rtl}*[lang]:not([lang=\"ar\"]),*[lang]:not([lang=\"ur\"]),*[lang]:not([lang=\"he\"]){direction:ltr;text-align:left !important}*[lang][lang=\"ar\"],*[lang][lang=\"ur\"],*[lang][lang=\"he\"]{direction:rtl;text-align:right !important}#alphabet .body a{margin:.5rem .4rem;font-size:1.1rem;text-decoration:none;color:#333;display:inline-block;width:2.2rem;padding-right:0;height:2.2rem;border-radius:.5rem;text-align:center;border:3px solid #fff}#alphabet .body a:hover{color:#333;background-color:#f1f1f1;border:3px solid #e8e8e8;text-decoration:none}#alphabet .body{text-align:center}#alphabet .header h1{font-size:.9rem;font-weight:bold}@media(min-width:740px){#alphabet .body{text-align:left}#alphabet .header h1{font-size:1.1rem;font-weight:bold}}.mob-flag{height:1em;width:1em;background-size:cover;border-radius:2rem}.round-flag{height:1em;width:1em;background-size:cover;border-radius:100rem;vertical-align:middle;border:3px solid white}.index-round-flag{height:2em;width:2em;background-size:cover;border-radius:2rem;vertical-align:middle;border:3px solid #e1e6ff}.index-direction-link{font-size:2rem;vertical-align:middle;width:100%;display:inline-block;background-color:#ffffffaa}.index-direction-block{text-align:center;margin:.5rem;border-radius:.3rem;text-decoration:none;padding:3rem 0}.index-direction-block-small{text-align:center;margin:.25rem;border-radius:.3rem;text-decoration:none;position:relative;overflow:hidden;display:flex;align-items:center;justify-content:left;padding:.5rem 1rem}.index-direction-link-small{font-size:1.5rem;vertical-align:middle;display:inline-block;padding-left:.7rem}.icon-back-blend-small{background-size:cover;background-position:center;background-color:#fff;background-blend-mode:overlay;transition:background-color .2s ease,box-shadow .3s ease}.icon-back-blend-small:hover{background-color:#eee;text-decoration:none;box-shadow:0 .1rem .3rem rgba(0,0,0,0.15) !important}.icon-back-blend{background-size:cover;background-position:center;background-color:#f1f1f1;background-blend-mode:overlay;transition:background-color .2s ease,box-shadow .3s ease}.icon-back-blend:hover{background-color:#ccc;text-decoration:none;box-shadow:0 .1rem .3rem rgba(0,0,0,0.15) !important}.index-direction-block-2{text-align:center;margin:.5rem;border-radius:.3rem;text-decoration:none;padding:3rem 0;display:inline-block}.icon-back-blend-2{background-size:cover;background-position:center;background-color:#f1f1f1;background-blend-mode:overlay;transition:background-color .2s ease,box-shadow .3s ease}.direction-blocks{display:grid;grid-template-columns:1fr}@media(min-width:740px){.direction-blocks{grid-template-columns:1fr 1fr}}.popular-keywords .body{display:grid;grid-template-columns:repeat(1,1fr)}.popular-keywords .header .text{font-weight:700;font-size:1rem}.popular-keywords .body a{text-decoration:underline;cursor:pointer;color:#333;padding:.25rem}@media(min-width:740px){.popular-keywords .body{display:grid;grid-template-columns:repeat(3,1fr)}}#top-dictionary-queries>.body{display:flex;justify-content:center}#top-dictionary-queries>.body .icon{height:1.5rem;width:1.5rem;background-size:cover;border-radius:2rem;vertical-align:middle;border:3px solid white}#top-dictionary-queries>.body h3{margin-bottom:.5rem}#top-dictionary-queries>.body .queries-links{font-size:.8rem}#top-dictionary-queries>.body .queries-links a{margin-right:.4rem;color:#333;display:inline-block}#top-dictionary-queries>.body .queries-links a:hover{color:#333}#top-dictionary-queries .queries-lists{text-align:center}#top-dictionary-queries .queries-lists:nth-child(2){border-left:1px solid #ddd}.mod-rtl #top-dictionary-queries .queries-lists:nth-child(2){border-left:0 solid #ddd}.mod-rtl #top-dictionary-queries .queries-lists:nth-child(1){border-left:1px solid #ddd}#top-dictionary-queries .queries-links span{font-weight:bold;margin-right:.4rem;white-space:nowrap;display:block;margin-top:.5rem}@media(min-width:740px){#top-dictionary-queries .queries-links span{display:initial;margin-top:initial}}footer{padding:15px;position:relative;background-color:#f1f1f1;border-top:1px solid #ddd}footer p{margin-bottom:1rem}footer p>span,footer p>a{color:#666 !important;font-size:.8rem;padding:0 1rem;text-decoration:underline;white-space:nowrap;display:inline-block}footer .android-banner{display:flex;justify-content:center;margin-bottom:1rem;align-items:center}.footer-logo-site-name{color:#bbb;font-size:1.5rem;display:inline-block;left:39px;top:0;font-family:\\'Comfortaa\\',cursive}.footer-logo-text-wrapper{display:inline-block;position:relative;top:-6px;left:0}.footer-logo-text{color:#999;font-size:.6rem;display:inline-block;left:1px;position:relative;top:2px;font-family:\\'Comfortaa\\',cursive;border-left:1px solid #bbb;border-right:1px solid #bbb;padding-left:.45rem;padding-right:.45rem;line-height:.8rem;margin-left:.25rem}.footer-logo-text span{color:#999}.footer-logo-icon{filter:invert(30%);font-size:2rem;display:inline-flex;color:#bbb;background-color:transparent}.footer-logo-date{display:inline-block;position:relative;top:-8px;color:#aaa;left:3px}footer .line>div{margin-right:.25rem;display:inline-block}@media(min-width:740px){footer{margin-top:1rem}}.jumping-arrow{filter:invert(1);color:white;width:1.25rem;overflow:hidden;-webkit-animation:jump 1.5s ease 0s infinite normal;animation:jump 1.5s ease 0s infinite normal}@-webkit-keyframes jump{0%{-webkit-transform:translateX(0);transform:translateX(0)}20%{-webkit-transform:translateX(0);transform:translateX(0)}40%{-webkit-transform:translateX(-10px);transform:translateX(-10px)}50%{-webkit-transform:translateX(0);transform:translateX(0)}60%{-webkit-transform:translateX(-5px);transform:translateX(-5px)}80%{-webkit-transform:translateX(0);transform:translateX(0)}100%{-webkit-transform:translateX(0);transform:translateX(0)}}@keyframes jump{0%{transform:translateX(0)}20%{transform:translateX(0)}40%{transform:translateX(-4px)}50%{transform:translateX(0)}60%{transform:translateX(-5px)}80%{transform:translateX(0)}100%{transform:translateX(0)}}#header{background:whitesmoke;width:100%;z-index:1000}.form,.form .input,.form .input .input-field,.form .input .buttons,.submit,.direction{display:flex;align-items:center;justify-content:space-between}.form .input{background:#fff;padding:.4rem .8rem;overflow:hidden;border-radius:.2rem 0 0 .2rem;margin:.2rem 0 .2rem .2rem}.mod-rtl .form .input{border-radius:0 .2rem .2rem 0}.form .filter{cursor:pointer;font-weight:bold;font-size:.9rem;line-height:.9rem;width:1rem}.form .input input{text-decoration:none;outline:0;border:0;font-size:1rem;width:100%;text-overflow:ellipsis}.form .input textarea{text-decoration:none;outline:0;border:0;font-size:1rem;width:100%;resize:none;padding:0;line-height:1.5rem}.home-url{font-size:0;line-height:0;margin-right:.5rem;margin-left:.5rem;text-decoration:none;align-items:center;justify-content:center;width:2rem}.controls{display:none}.icon-logo{background-color:transparent;width:1.5rem;height:1.5rem;display:block;background-image:url(https://st.tr-ex.me/img/logo_color.svg);background-size:contain}.form .submit{background:#0053f9;border-radius:0 .2rem .2rem 0;overflow:hidden;padding:0 .5rem;cursor:pointer;margin:.2rem 0}.mod-rtl .form .submit{border-radius:.2rem 0 0 .2rem}.form .submit span{color:#fff}.dir-switch{padding:0 .5rem}.dir-switch img{width:1.5rem;height:1.5rem;overflow:hidden}.dd{padding:0;font-size:.8rem;flex:1 0 auto;display:flex;justify-content:center}#header .toggle::after{display:inline-block;margin-left:.255em;vertical-align:.255em;content:\"\";border-top:.3em solid;border-right:.3em solid transparent;border-bottom:0;border-left:.3em solid transparent}.direction{background:#fff;align-items:stretch}.direction>div{display:flex;align-items:center}#header .btn{cursor:pointer;transition:color .15s ease-in-out,background-color .15s ease-in-out,border-color .15s ease-in-out,box-shadow .15s ease-in-out}#header .btn:hover{background-color:#00000018}#header .font,#header .lang{background:transparent;display:flex;align-items:center;padding:0 .5rem;margin-right:.5rem}.font img{font-size:1.5rem;width:1.5rem;filter:invert(1)}.lang span{text-transform:uppercase;color:#333;font-size:.8rem;margin-right:.2rem}#header .lang{padding:.5rem 1rem;font-size:.9rem;color:#333}.form{align-items:stretch;flex-wrap:wrap;width:100%}.form .input{order:2;flex:1 1 auto;border:1px solid #ddd}.form .direction{order:1;flex:1 0 100%;background:#fafafa;border:1px solid #ddd}.form .submit{order:3;flex:0 1 auto}.direction .menu{flex:0 1 auto;display:flex;align-items:center;justify-content:center;padding:.4rem}.dd .text{text-transform:uppercase;font-size:.6rem;font-weight:bold}.dd .flag-icon{margin-right:.2rem}.btn-size{font-size:1rem;font-weight:bold;height:1.5rem;width:1.5rem;background:#ddd;display:flex;align-items:center;justify-content:center;border-radius:1rem;cursor:pointer}.dropdown-menu{display:block;z-index:1000;padding:0;margin:0;font-size:1rem;color:#212529;text-align:left;list-style:none;background-color:#fff;background-clip:padding-box;border-radius:.125rem}.dropdown-item:first-child{border-top-left-radius:calc(.125rem - 1px);border-top-right-radius:calc(.125rem - 1px)}.dropdown-menu .dropdown-item{font-size:.8rem;display:flex;padding:.5rem .375rem;margin:0;cursor:pointer;text-decoration:none !important;text-align:left;flex-direction:column;justify-content:center;align-items:center;border-bottom:1px solid #ddd}.direction-option-lang-name{text-decoration:underline;font-size:.9rem;margin-left:.2rem}.dropdown-item:hover{background-color:#00000011}.lang-select{display:flex}.input-field{flex:1 1 auto}.header-content{display:flex;flex-direction:column}.aa-suggestion strong{font-weight:bold}.direction-list{z-index:3000}.dropdown-menu .direction-option-2-lang{display:block;text-align:center}@media(min-width:740px){.dropdown-menu .direction-option-2-lang{display:block;text-align:left}.dropdown-menu .dropdown-item{white-space:nowrap;text-align:left;display:block;border:0}#header .lang,#header .lang span{color:#fff}.header-content{display:initial;flex-direction:initial}.input-field{flex:initial}#header{background:#494f6f}.icon-logo{width:2rem;height:2rem;background-image:url(https://st.tr-ex.me/img/logo.svg);color:white}.dd{padding:0 1rem;flex:initial}.dd .flag-icon{margin-right:0}.dd .text{display:none}.dd-s{border-left:1px solid #ddd}.dd-t{border-right:1px solid #ddd}.direction .menu{display:none}.header-content{display:flex;align-items:center;justify-content:space-between}.controls{display:flex}.form{padding:.5rem;align-items:stretch;flex-direction:row;flex-wrap:nowrap}.form .input{flex:initial;order:1;margin:0;border:0}.form .direction{background:#fff;flex:initial;order:2;border:0}.form .submit{flex:initial;order:3;margin:0}.home-url{width:initial}.form .input input{width:25rem}}#not-found{width:100%;text-align:center}.desktop,.desktop-inline,.desktop-block,.desktop-flex{display:none !important}.mobile{display:inherit !important}.mobile-block{display:block !important}.mobile-inline{display:inline-block !important}.mobile-flex{display:flex !important}.container{margin:0 auto}#content{display:flex;justify-content:center}#content>.c:nth-child(1){display:none;margin-right:.25rem}@media(min-width:740px){.container{width:100%}#content{margin-top:.25rem}.mobile-block,.mobile,.mobile-inline,.mobile-flex{display:none !important}.desktop{display:block !important}.desktop-inline{display:inline-block !important}.desktop-block{display:block !important}.desktop-flex{display:flex !important}}@media not all and (width:1366px) and (height:768px){@media not all and (width:1920px) and (height:1080px){@media not all and (width:1600px) and (height:900px){@media not all and (width:1536px) and (height:864px){@media not all and (width:1280px) and (height:720px){@media not all and (width:1440px) and (height:900px){@media not all and (width:2560px) and (height:1440px){@media not all and (width:768px) and (height:1024px){@media not all and (width:1920px) and (height:1200px){@media not all and (width:1680px) and (height:1050px){@media(min-width:960px){#content>.c:nth-child(2){max-width:800px}#content>.c:nth-child(1){min-width:160px;display:block;margin-right:.25rem}.container{max-width:960px}}@media(min-width:1150px){#content>.c:nth-child(2){max-width:850px}#content>.c:nth-child(1){min-width:300px;display:block;margin-right:.25rem}.container{max-width:1150px}}}}}}}}}}}}@media(width:1536px) and (height:864px),(width:1280px) and (height:720px),(width:1440px) and (height:900px),(width:2560px) and (height:1440px),(width:768px) and (height:1024px),(width:1680px) and (height:1050px),(width:1920px) and (height:1200px){@media(min-width:749px){.block{border-left-width:0;border-right-width:0}}@media(min-width:751px){.block{border-left-width:1px;border-right-width:1px}#content>.c:nth-child(2){width:751px}#content>.c:nth-child(1){display:none}.container{max-width:751px}}@media(min-width:920px){#content>.c:nth-child(1){min-width:160px;display:block;margin-right:.25rem}.container{max-width:940px}}@media(min-width:1060px){#content>.c:nth-child(1){min-width:300px;display:block}.container{max-width:1080px}}}@media(width:1366px) and (height:768px),(width:1920px) and (height:1080px),(width:1600px) and (height:900px){@media(min-width:960px){#content>.c:nth-child(2){max-width:800px}#content>.c:nth-child(1){min-width:160px;display:block;margin-right:.25rem}.container{max-width:960px}}@media(min-width:1150px){#content>.c:nth-child(2){max-width:850px}#content>.c:nth-child(1){min-width:300px;display:block;margin-right:.25rem}.container{max-width:1150px}}}.popover{top:0;left:0;z-index:999999;max-width:276px;padding:0;font-family:Montserrat,Helvetica,Arial,sans-serif;font-style:normal;font-weight:400;line-height:1.5;text-align:start;text-decoration:none;text-shadow:none;text-transform:none;letter-spacing:normal;word-break:normal;word-spacing:normal;white-space:normal;line-break:auto;font-size:.875rem;word-wrap:break-word;background-color:#fff;background-clip:padding-box;border:1px solid rgba(0,0,0,.1);border-radius:.25rem;box-shadow:0 0 0 rgba(0,0,0,0)}.bs-popover-auto[x-placement^=top] .arrow,.bs-popover-top .arrow{bottom:calc((.5rem + 1px) * -1)}.popover-body{color:#212529;font-size:.8rem}.arrow,.arrow::before{position:absolute;width:16px;height:16px;background:inherit}.arrow{visibility:hidden}.arrow::before{visibility:visible;content:\\'\\';transform:rotate(45deg)}.bs-popover-auto[data-popper-placement^=\\'top\\']>.arrow{bottom:-8px}.bs-popover-auto[data-popper-placement^=\\'bottom\\']>.arrow{top:-8px}.bs-popover-auto[data-popper-placement^=\\'left\\']>.arrow{right:-8px}.bs-popover-auto[data-popper-placement^=\\'right\\']>.arrow{left:-8px}@media(min-width:740px){.popover{max-width:512px}}.index-round-flag{height:2em;width:2em;background-size:cover;border-radius:2rem;vertical-align:middle;border:3px solid #e1e6ff}#return-to-top{justify-content:center;align-items:center;position:fixed;bottom:1.5rem;right:1.5rem;background:#494f6f;width:3rem;height:3rem;text-decoration:none;-webkit-border-radius:35px;-moz-border-radius:35px;border-radius:35px;display:none;-webkit-transition:all .3s linear;-moz-transition:all .3s ease;-ms-transition:all .3s ease;-o-transition:all .3s ease;transition:all .3s ease}#return-to-top img{color:#fff;filter:invert();margin:0;font-size:2rem;width:2rem;-webkit-transition:all .3s ease;-moz-transition:all .3s ease;-ms-transition:all .3s ease;-o-transition:all .3s ease;transition:all .3s ease}#return-to-top:hover{background:rgba(0,0,0,1);margin-top:.5rem}#return-to-top:hover img{color:#fff;filter:invert(1);top:0}.share-dialog-title{margin-right:.5rem;font-size:.8rem;color:#666}.share-dialog-wrapper{position:fixed;left:0;top:0;width:100%;height:100%;background-color:rgba(0,0,0,0.25);z-index:10000000;display:flex;align-items:center;justify-content:center}.share-dialog-wrapper .svg-main{width:20px;height:20px;margin-right:7px}.share-dialog-wrapper .main-button{display:inline-flex;align-items:center;justify-content:center;height:auto;padding-top:.25rem;padding-bottom:.25rem;color:#777;text-align:center;font-size:1rem;font-weight:500;line-height:1.1;letter-spacing:2px;text-transform:capitalize;text-decoration:none;white-space:nowrap;border-radius:.3rem;border:1px solid #ddd;cursor:pointer}.share-dialog-wrapper .main-button:hover,.button:hover{border-color:#cdd}.share-dialog-wrapper .share-button,.copy-link{padding-left:.5rem;padding-right:.5rem}.share-dialog-wrapper .share-dialog{width:95%;max-width:600px;box-shadow:0 8px 16px rgba(0,0,0,.15);z-index:-1;border:1px solid #ddd;padding:1rem;border-radius:.3rem;background-color:#fff}.share-dialog-wrapper .share-dialog.is-open{display:block;z-index:15}.share-dialog-wrapper .header{display:flex;justify-content:space-between}.share-dialog-wrapper .targets{display:grid;grid-template-rows:1fr 1fr;grid-template-columns:1fr 1fr;grid-gap:20px;margin-bottom:20px}.share-dialog-wrapper .close-button{background-color:transparent;border:0;padding:0}.share-dialog-wrapper .close-button svg{margin-right:0}.share-dialog-wrapper .link{display:flex;justify-content:center;align-items:center;padding:.7rem;border-radius:.3rem;background-color:#eee}.share-dialog-wrapper .pen-url{margin-right:15px;overflow:hidden;text-overflow:ellipsis;white-space:nowrap;display:block;font-size:1rem;width:100%;border-radius:.3rem;border:0;padding:.5rem}.share-dialog-wrapper .message{font-size:.8rem;color:#666;padding:.3rem .6rem}#floating-search-button img{font-size:1.5rem;width:1.5rem;height:1.5rem;overflow:hidden;filter:invert(1)}#floating-search-button{position:fixed;right:1rem;bottom:1rem;width:3rem;height:3rem;display:flex;background:#0053f9;border-radius:10rem;z-index:100000;align-content:center;justify-content:center;align-items:center;box-shadow:0 .125rem .25rem #00000082 !important}#floating-search-button{cursor:pointer;right:1.5rem;bottom:5rem}.shield{position:fixed;background:rgba(0,0,0,0.6);z-index:10;display:block;height:100%;width:100%;top:0;left:0}.autocomplete-place{text-align:left;height:0;margin-left:1.75rem;margin-right:.5rem;position:relative;left:0;top:-20px}.aa-suggestions{background:white;display:flex;flex-direction:column;border:1px solid #ddd;border-radius:.2rem;overflow:hidden}.aa-suggestion{cursor:pointer;padding:5px 4px;z-index:11}.aa-suggestion.hover{background:#2b9af399}.report-wrapper{position:fixed;top:0;left:0;height:100%;width:100%;background:rgba(0,0,0,0.25);display:flex;align-items:center;justify-content:center;z-index:10000}#report-form{margin:0 1rem;background:white;padding:1rem;border:1px solid #ddd;border-radius:.5rem}.form-group{margin-bottom:0}.form-group{text-align:left}.btn-report{padding:.5rem 1rem;margin-right:.5rem}.btn-success{color:whitesmoke;background:#6dc94d}.btn-danger{color:whitesmoke !important;background:#ca413f !important}.row{display:flex}.custom-file-control,.form-control,.is-focused .custom-file-control,.is-focused .form-control{background-image:linear-gradient(0,#2b9af3 2px,rgba(0,150,136,0) 0),linear-gradient(0,rgba(0,0,0,.0) 1px,transparent 0)}.custom-file-control,.form-control{background:no-repeat bottom,50% calc(100% - 1px);background-size:0 100%,100% 100%;border:0;transition:background 0s ease-out;padding-left:0;padding-right:0;width:100%}.ads{margin-top:.3125rem !important}.text-selection-button{display:flex;padding:.5rem;text-decoration:none !important;outline:0;margin-right:.5rem;cursor:pointer}.text-selection-button img{color:#333;text-decoration:none !important;filter:invert(19%) sepia(3%) saturate(0) hue-rotate(240deg) brightness(102%) contrast(98%);border:0;font-size:1.25rem;width:1.25rem;margin-right:.5rem}.text-selection-button span{color:#333;font-size:.9rem}.alerts{position:fixed;left:0;bottom:0;z-index:1000;width:100%}.alert-dismissable,.alert-dismissible{padding-right:35px}.trex-alert b,strong{font-weight:700}.cookie-alert-hidden{display:inline}.trex-alert .btn,.trex-alert .nav{margin-bottom:0}.trex-alert .btn{display:inline-block;font-weight:400;text-align:center;white-space:nowrap;border:1px solid transparent;border-radius:4px}.trex-alert .btn{box-shadow:rgba(0,0,0,0.1) 0 1px 1px}.trex-alert .btn{display:inline-block;padding:.125rem .23rem;margin-bottom:0;font-size:.7rem;font-weight:400;line-height:1.42857143;text-align:center;white-space:nowrap;vertical-align:middle;cursor:pointer;-webkit-user-select:none;-moz-user-select:none;-ms-user-select:none;user-select:none;background-image:none;border:1px solid transparent;border-radius:4px}.trex-alert .btn{box-shadow:0 1px 1px rgba(0,0,0,0.1)}.trex-alert .btn-primary,.trex-alert .btn-success{color:#fff}.trex-alert #close-cookie-alert{margin:0 .5rem;width:50px}#close-cookie-alert{margin-top:10px;width:50px}.trex-alert .btn.btn-primary{background:#494f6f;border-color:#494f6f}.alert{padding:.2rem;border:1px solid transparent;border-radius:4px}.trex-alert{font-size:.7rem;box-sizing:border-box;width:100%;text-align:left;margin-bottom:0;color:#494f6f;background-color:#fff;border-radius:0;line-height:1rem;border:0 #494f6f;border-top:1px solid #ddd}@media(min-width:740px){.alert{padding:.9rem}}.ba{word-break:break-all}.hidden,.h{display:none !important}.no-padding{padding:0}.no-margin{margin:0}.no-border{border:0}.flex{display:flex}.flex-center{justify-content:center;align-items:center;align-content:center}.as-content{flex:0 1 auto}.fit-rest{flex:1 0 auto}.inner-shadow{-moz-box-shadow:inset 0 .125rem .25rem #0053f970;-webkit-box-shadow:inset 0 .125rem .25rem #0053f970;box-shadow:inset 0 .075rem .25rem #33333370}.shadow-sm{box-shadow:0 .125rem .25rem rgba(0,0,0,0.075) !important}.shadow{box-shadow:0 .5rem 1rem rgba(0,0,0,0.15) !important}.text-cut{white-space:nowrap;overflow:hidden;text-overflow:ellipsis}.loader{display:flex;justify-content:center}.ad-loading{border:1px solid #ddd;color:#ddd;display:flex;align-items:center;justify-items:center;justify-content:center;height:300px;background:white}@media(min-width:550px) and (max-width:660px){.ad-loading{height:312px}}@media(width:360px) and (height:800px){.ad-loading{height:300px}}@media(width:414px) and (height:896px){.ad-loading{height:345px}}@media(width:376px) and (height:667px){.ad-loading{height:312px}}@media(width:360px) and (height:760px){.ad-loading{height:300px}}@media(width:360px) and (height:780px){.ad-loading{height:300px}}@media(width:360px) and (height:640px){.ad-loading{height:312px}}@media(width:375px) and (height:812px){.ad-loading{height:312px}}@media(width:412px) and (height:915px){.ad-loading{height:343px}}@media(width:393px) and (height:851px){.ad-loading{height:327px}}@media(width:414px) and (height:736px){.ad-loading{height:343px}}ins{text-decoration:none}ins.adsbygoogle .ad-loading{display:flex}ins.adsbygoogle[data-ad-status=\"filled\"] .ad-loading{display:none !important}ins.adsbygoogle[data-ad-status=\"unfilled\"] .ad-loading{display:none !important}@media(min-width:740px){.ad-loading{display:none !important}}\\n        </style>\\n    \\n    </head>\\n<body style=\"background: #fafafa; overflow-x: hidden;\" >\\n<div id=\"wrapfabtest\">\\n    <div class=\"adBanner\">\\n    </div>\\n</div>\\n\\n    <!--suppress HtmlRequiredAltAttribute, HtmlRequiredAltAttribute --><div id=\"header\" ><div class=\"container\"><div class=\"header-content\"><div class=\"flex flex-center\"><a class=\"home-url desktop\"\\n                       href=\"/\"><i class=\"icon-logo\"></i></a><!--suppress HtmlFormInputWithoutLabel, HtmlRequiredAltAttribute --><div class=\"form\"><div class=\"input fit-rest\"><div class=\"input-field fit-rest\"><input type=\"text\" size=\"10\"\\n                   autocomplete=\"off\"\\n                   placeholder=\"Enter text (Indonesian)\"\\n                   value=\"\" ><textarea class=\"h\"></textarea></div><div class=\"buttons desktop-flex as-content\"><div class=\"filter\" data-insert-text=\"{-}\"></div></div><div class=\"mobile-buttons mobile-flex\"><img class=\"btn-clear h\" src=\"https://st.tr-ex.me/img/material-icons/svg/close/baseline.svg\" width=\"24\" height=\"24\"></div></div><div class=\"direction\"><a class=\"home-url mobile-flex\"\\n           href=\"/\"><i class=\"icon-logo\"></i></a><div class=\"dd dd-s btn toggle\"><div class=\"flag-icon flag-icon-id icon\"></div><span class=\"text\">indonesian</span></div><div class=\"dir-switch btn\"><img src=\"https://st.tr-ex.me/img/material-icons/svg/compare_arrows/baseline.svg\" width=\"24\" height=\"24\"></div><div class=\"dd dd-t btn toggle\"><div class=\"flag-icon flag-icon-gb icon\"></div><span class=\"text\">english</span></div><div class=\"menu btn\"><img class=\"icon\" src=\"https://st.tr-ex.me/img/material-icons/svg/menu/baseline.svg\" width=\"24\" height=\"24\"></div></div><div class=\"submit\"><span>Translate</span><img src=\"https://st.tr-ex.me/img/material-icons/svg/chevron_right/baseline.svg\" width=\"24\" height=\"24\" class=\"jumping-arrow\"></div></div></div><div class=\"controls\"><div class=\"font btn\" id=\"desktop-text-size\"><img src=\"https://st.tr-ex.me/img/material-icons/svg/format_size/baseline.svg\" width=\"24\" height=\"24\"></div><div class=\"lang btn toggle\"><span class=\"flag-icon flag-icon-gb\"></span><span>English</span><div class=\"lang-list h\"><a data-locale=\"id\" href=\"/terjemahan/bahasa+indonesia-bahasa+inggris/\">\\n            Bahasa indonesia\\n        </a><span data-locale=\"zh\" data-href=\"/%E7%BF%BB%E8%AF%91/%E5%8D%B0%E5%BA%A6%E5%B0%BC%E8%A5%BF%E4%BA%9A-%E8%8B%B1%E8%AF%AD/\">\\n            中文\\n        </span><span data-locale=\"ar\" data-href=\"/%D8%AA%D8%B1%D8%AC%D9%85%D8%A9/%D8%A5%D9%86%D8%AF%D9%88%D9%86%D9%8A%D8%B3%D9%8A-%D8%A5%D9%86%D8%AC%D9%84%D9%8A%D8%B2%D9%8A/\">\\n            عربى\\n        </span><span data-locale=\"bg\" data-href=\"/%D0%BF%D1%80%D0%B5%D0%B2%D0%BE%D0%B4/%D0%B8%D0%BD%D0%B4%D0%BE%D0%BD%D0%B5%D0%B7%D0%B8%D0%B9%D1%81%D0%BA%D0%B8-%D0%B0%D0%BD%D0%B3%D0%BB%D0%B8%D0%B9%D1%81%D0%BA%D0%B8/\">\\n            Български\\n        </span><span data-locale=\"bn\" data-href=\"/%E0%A6%85%E0%A6%A8%E0%A7%81%E0%A6%AC%E0%A6%BE%E0%A6%A6/%E0%A6%87%E0%A6%A8%E0%A7%8D%E0%A6%A6%E0%A7%8B%E0%A6%A8%E0%A7%87%E0%A6%B6%E0%A6%BF%E0%A6%AF%E0%A6%BC%E0%A6%BE%E0%A6%A8-%E0%A6%87%E0%A6%82%E0%A6%B0%E0%A7%87%E0%A6%9C%E0%A6%BF/\">\\n            বাংলা\\n        </span><span data-locale=\"cs\" data-href=\"/p%C5%99eklad/indon%C3%A9sk%C3%BD-anglick%C3%BD/\">\\n            Český\\n        </span><span data-locale=\"da\" data-href=\"/overs%C3%A6ttelse/indonesisk-engelsk/\">\\n            Dansk\\n        </span><span data-locale=\"de\" data-href=\"/%C3%BCbersetzung/indonesisch-englisch/\">\\n            Deutsch\\n        </span><span data-locale=\"el\" data-href=\"/%CE%BC%CE%B5%CF%84%CE%AC%CF%86%CF%81%CE%B1%CF%83%CE%B7/%CE%B9%CE%BD%CE%B4%CE%BF%CE%BD%CE%B7%CF%83%CE%B9%CE%B1%CE%BA%CF%8C%CF%82-%CE%B1%CE%B3%CE%B3%CE%BB%CE%B9%CE%BA%CE%AC/\">\\n            Ελληνικά\\n        </span><span data-locale=\"es\" data-href=\"/traduccion/indonesio-ingl%C3%A9s/\">\\n            Español\\n        </span><span data-locale=\"fi\" data-href=\"/k%C3%A4%C3%A4nn%C3%B6s/indonesia-englanti/\">\\n            Suomi\\n        </span><span data-locale=\"fr\" data-href=\"/traduction/indon%C3%A9sienne-anglais/\">\\n            Français\\n        </span><span data-locale=\"he\" data-href=\"/%D7%AA%D6%B4%D7%A8%D7%92%D7%95%D6%BC%D7%9D/%D7%90%D7%99%D7%A0%D7%93%D7%95%D7%A0%D7%96%D7%99%D7%AA-%D7%90%D7%A0%D7%92%D7%9C%D7%99%D7%AA/\">\\n            עִברִית\\n        </span><span data-locale=\"hi\" data-href=\"/%E0%A4%85%E0%A4%A8%E0%A5%81%E0%A4%B5%E0%A4%BE%E0%A4%A6/%E0%A4%87%E0%A4%82%E0%A4%A1%E0%A5%8B%E0%A4%A8%E0%A5%87%E0%A4%B6%E0%A4%BF%E0%A4%AF%E0%A4%BE%E0%A4%88-%E0%A4%85%E0%A4%82%E0%A4%97%E0%A5%8D%E0%A4%B0%E0%A5%87%E0%A4%9C%E0%A4%BC%E0%A5%80/\">\\n            हिंदी\\n        </span><span data-locale=\"hr\" data-href=\"/prijevod/indonezijski-engleski/\">\\n            Hrvatski\\n        </span><span data-locale=\"hu\" data-href=\"/ford%C3%ADt%C3%A1s/indon%C3%A9z-angol/\">\\n            Magyar\\n        </span><span data-locale=\"it\" data-href=\"/traduzione/indonesiano-inglese/\">\\n            Italiano\\n        </span><span data-locale=\"ja\" data-href=\"/%E7%BF%BB%E8%A8%B3/%E3%82%A4%E3%83%B3%E3%83%89%E3%83%8D%E3%82%B7%E3%82%A2-%E8%8B%B1%E8%AA%9E/\">\\n            日本語\\n        </span><span data-locale=\"ko\" data-href=\"/%EB%B2%88%EC%97%AD/%EC%9D%B8%EB%8F%84%EB%84%A4%EC%8B%9C%EC%95%84+%EC%9D%B8-%EC%98%81%EC%96%B4/\">\\n            한국어\\n        </span><span data-locale=\"ml\" data-href=\"/%E0%B4%B5%E0%B4%BF%E0%B4%B5%E0%B5%BC%E0%B4%A4%E0%B5%8D%E0%B4%A4%E0%B4%A8%E0%B4%82/%E0%B4%87%E0%B4%A8%E0%B5%8D%E0%B4%A4%E0%B5%87%E0%B4%BE%E0%B4%A8%E0%B5%87%E0%B4%B7%E0%B5%8D%E0%B4%AF%E0%B5%BB-%E0%B4%87%E0%B4%82%E0%B4%97%E0%B5%8D%E0%B4%B2%E0%B5%80%E0%B4%B7%E0%B5%8D/\">\\n            മലയാളം\\n        </span><span data-locale=\"mr\" data-href=\"/%E0%A4%AD%E0%A4%BE%E0%A4%B7%E0%A4%BE%E0%A4%82%E0%A4%A4%E0%A4%B0/%E0%A4%87%E0%A4%82%E0%A4%A1%E0%A5%8B%E0%A4%A8%E0%A5%87%E0%A4%B6%E0%A4%BF%E0%A4%AF%E0%A4%A8-%E0%A4%87%E0%A4%82%E0%A4%97%E0%A5%8D%E0%A4%B0%E0%A4%9C%E0%A5%80/\">\\n            मराठी\\n        </span><span data-locale=\"ms\" data-href=\"/terjemahkan/bahasa+indonesian-bahasa+inggeris/\">\\n            Bahasa malay\\n        </span><span data-locale=\"nl\" data-href=\"/vertaling/indonesisch-engels/\">\\n            Nederlands\\n        </span><span data-locale=\"no\" data-href=\"/oversettelse/indonesisk-engelsk/\">\\n            Norsk\\n        </span><span data-locale=\"pl\" data-href=\"/t%C5%82umaczenie/indonezyjski-angielski/\">\\n            Polski\\n        </span><span data-locale=\"pt\" data-href=\"/tradu%C3%A7%C3%A3o/indon%C3%A9sio-ingl%C3%AAs/\">\\n            Português\\n        </span><span data-locale=\"ro\" data-href=\"/traducere/indonezian%C4%83-englez%C4%83/\">\\n            Română\\n        </span><span data-locale=\"ru\" data-href=\"/%D0%BF%D0%B5%D1%80%D0%B5%D0%B2%D0%BE%D0%B4/%D0%B8%D0%BD%D0%B4%D0%BE%D0%BD%D0%B5%D0%B7%D0%B8%D0%B9%D1%81%D0%BA%D0%B8%D0%B9-%D0%B0%D0%BD%D0%B3%D0%BB%D0%B8%D0%B9%D1%81%D0%BA%D0%B8%D0%B9/\">\\n            Русский\\n        </span><span data-locale=\"sk\" data-href=\"/preklad/indon%C3%A9zsky-anglick%C3%BD/\">\\n            Slovenský\\n        </span><span data-locale=\"sl\" data-href=\"/prevod/indonezijski-angle%C5%A1%C4%8Dina/\">\\n            Slovenščina\\n        </span><span data-locale=\"sr\" data-href=\"/%D0%BF%D1%80%D0%B5%D0%B2%D0%BE%D1%92%D0%B5%D1%9A%D0%B5/%D0%B8%D0%BD%D0%B4%D0%BE%D0%BD%D0%B5%D0%B7%D0%B8%D1%98%D1%81%D0%BA%D0%B8-%D0%B5%D0%BD%D0%B3%D0%BB%D0%B5%D1%81%D0%BA%D0%B8/\">\\n            Српски\\n        </span><span data-locale=\"sv\" data-href=\"/%C3%B6vers%C3%A4ttning/indonesiska-engelsk/\">\\n            Svenska\\n        </span><span data-locale=\"ta\" data-href=\"/%E0%AE%AE%E0%AF%8A%E0%AE%B4%E0%AE%BF%E0%AE%AA%E0%AF%86%E0%AE%AF%E0%AE%B0%E0%AF%8D%E0%AE%AA%E0%AF%8D%E0%AE%AA%E0%AF%81/%E0%AE%87%E0%AE%A8%E0%AF%8D%E0%AE%A4%E0%AF%8B%E0%AE%A9%E0%AF%87%E0%AE%9A%E0%AE%BF%E0%AE%AF%E0%AE%BE-%E0%AE%86%E0%AE%99%E0%AF%8D%E0%AE%95%E0%AE%BF%E0%AE%B2%E0%AE%AE%E0%AF%8D/\">\\n            தமிழ்\\n        </span><span data-locale=\"te\" data-href=\"/%E0%B0%85%E0%B0%A8%E0%B1%81%E0%B0%B5%E0%B0%BE%E0%B0%A6%E0%B0%82/%E0%B0%87%E0%B0%82%E0%B0%A1%E0%B1%8B%E0%B0%A8%E0%B1%87%E0%B0%B7%E0%B0%BF%E0%B0%AF%E0%B0%BE-%E0%B0%86%E0%B0%82%E0%B0%97%E0%B1%8D%E0%B0%B2/\">\\n            తెలుగు\\n        </span><span data-locale=\"th\" data-href=\"/%E0%B8%81%E0%B8%B2%E0%B8%A3%E0%B9%81%E0%B8%9B%E0%B8%A5/%E0%B8%8A%E0%B8%B2%E0%B8%A7%E0%B8%AD%E0%B8%B4%E0%B8%99%E0%B9%82%E0%B8%94%E0%B8%99%E0%B8%B5%E0%B9%80%E0%B8%8B%E0%B8%B5%E0%B8%A2-%E0%B8%AD%E0%B8%B1%E0%B8%87%E0%B8%81%E0%B8%A4%E0%B8%A9/\">\\n            ไทย\\n        </span><span data-locale=\"tl\" data-href=\"/pagsasalin/indonesiyo-ingles/\">\\n            Tagalog\\n        </span><span data-locale=\"tr\" data-href=\"/terc%C3%BCme/endonezyaca-ingilizce/\">\\n            Turkce\\n        </span><span data-locale=\"uk\" data-href=\"/%D0%BF%D0%B5%D1%80%D0%B5%D0%BA%D0%BB%D0%B0%D0%B4/%D1%96%D0%BD%D0%B4%D0%BE%D0%BD%D0%B5%D0%B7%D1%96%D0%B9%D1%81%D1%8C%D0%BA%D0%B0-%D0%B0%D0%BD%D0%B3%D0%BB%D1%96%D0%B9%D1%81%D1%8C%D0%BA%D0%B0/\">\\n            Український\\n        </span><span data-locale=\"ur\" data-href=\"/%D8%AA%D8%B1%D8%AC%D9%85%DB%81/%D8%A7%D9%86%DA%88%D9%88%D9%86%DB%8C%D8%B4%DB%8C%D9%86-%D8%A7%D9%86%DA%AF%D8%B1%DB%8C%D8%B2%DB%8C/\">\\n            اردو\\n        </span><span data-locale=\"vi\" data-href=\"/d%E1%BB%8Bch/ti%E1%BA%BFng+indonesia-ti%E1%BA%BFng+anh/\">\\n            Tiếng việt\\n        </span></div></div></div></div></div></div>    <div class=\"desktop\" style=\"margin-top: 0.5rem;\"></div>\\n    <div class=\"container\">\\n            <div id=\"alphabet\" class=\"block\"><div class=\"header\"><div class=\"text\"><h1>Search the Indonesian-English dictionary by letter</h1></div></div><div class=\"body\"><a\\n                            href=\"/translation/indonesian-english/a\"\\n                            class=\"dictionary-letter\">A</a><a\\n                            href=\"/translation/indonesian-english/b\"\\n                            class=\"dictionary-letter\">B</a><a\\n                            href=\"/translation/indonesian-english/c\"\\n                            class=\"dictionary-letter\">C</a><a\\n                            href=\"/translation/indonesian-english/d\"\\n                            class=\"dictionary-letter\">D</a><a\\n                            href=\"/translation/indonesian-english/e\"\\n                            class=\"dictionary-letter\">E</a><a\\n                            href=\"/translation/indonesian-english/f\"\\n                            class=\"dictionary-letter\">F</a><a\\n                            href=\"/translation/indonesian-english/g\"\\n                            class=\"dictionary-letter\">G</a><a\\n                            href=\"/translation/indonesian-english/h\"\\n                            class=\"dictionary-letter\">H</a><a\\n                            href=\"/translation/indonesian-english/i\"\\n                            class=\"dictionary-letter\">I</a><a\\n                            href=\"/translation/indonesian-english/j\"\\n                            class=\"dictionary-letter\">J</a><a\\n                            href=\"/translation/indonesian-english/k\"\\n                            class=\"dictionary-letter\">K</a><a\\n                            href=\"/translation/indonesian-english/l\"\\n                            class=\"dictionary-letter\">L</a><a\\n                            href=\"/translation/indonesian-english/m\"\\n                            class=\"dictionary-letter\">M</a><a\\n                            href=\"/translation/indonesian-english/n\"\\n                            class=\"dictionary-letter\">N</a><a\\n                            href=\"/translation/indonesian-english/o\"\\n                            class=\"dictionary-letter\">O</a><a\\n                            href=\"/translation/indonesian-english/p\"\\n                            class=\"dictionary-letter\">P</a><a\\n                            href=\"/translation/indonesian-english/q\"\\n                            class=\"dictionary-letter\">Q</a><a\\n                            href=\"/translation/indonesian-english/r\"\\n                            class=\"dictionary-letter\">R</a><a\\n                            href=\"/translation/indonesian-english/s\"\\n                            class=\"dictionary-letter\">S</a><a\\n                            href=\"/translation/indonesian-english/t\"\\n                            class=\"dictionary-letter\">T</a><a\\n                            href=\"/translation/indonesian-english/u\"\\n                            class=\"dictionary-letter\">U</a><a\\n                            href=\"/translation/indonesian-english/v\"\\n                            class=\"dictionary-letter\">V</a><a\\n                            href=\"/translation/indonesian-english/w\"\\n                            class=\"dictionary-letter\">W</a><a\\n                            href=\"/translation/indonesian-english/x\"\\n                            class=\"dictionary-letter\">X</a><a\\n                            href=\"/translation/indonesian-english/y\"\\n                            class=\"dictionary-letter\">Y</a><a\\n                            href=\"/translation/indonesian-english/z\"\\n                            class=\"dictionary-letter\">Z</a></div></div>\\n                    <div style=\"display: flex;\\njustify-content: center;\\nalign-items: center;\">\\n                <span rel=\"nofollow\" data-target=\"_blank\" class=\"span-link android-badge-link\" data-href=\\'https://play.google.com/store/apps/details?id=me.tr_ex.app&referrer=utm_source%3Dtr-ex.me%26utm_medium%3Ddirection_page_badge&hl=en&pcampaignid=pcampaignidMKT-Other-global-all-co-prtnr-py-PartBadge-Mar2515-1\\'><img\\n            class=\"android-badge-img\"\\n            alt=\\'Get it on Google Play\\'\\n            src=\\'https://play.google.com/intl/en_us/badges/static/images/badges/en_badge_web_generic.png\\'/></span>\\n            </div>\\n                        <div class=\"direction-blocks\" style=\"display: grid\">\\n                                                                                                                                                                                                    <a class=\"flag-icon-id icon-back-blend shadow index-direction-block\"\\n   style=\"position: relative; overflow: hidden\"\\n   href=\"/translation/english-indonesian/\">\\n    <span class=\"flag-icon flag-icon-gb index-round-flag\"></span>\\n    <span class=\"flag-icon flag-icon-id index-round-flag\"></span>\\n    <div class=\"index-direction-link\"\\n         style=\"text-decoration: underline; margin-top: 0.5rem; padding-bottom: 0.3rem\">English\\n        - Indonesian\\n        <div style=\"font-size: 0.7rem\">Explore dictionary</div>\\n    </div>\\n</a>                                                                                                                                                                                                            <a class=\"flag-icon-gb icon-back-blend shadow index-direction-block\"\\n   style=\"position: relative; overflow: hidden\"\\n   href=\"/translation/indonesian-english/\">\\n    <span class=\"flag-icon flag-icon-id index-round-flag\"></span>\\n    <span class=\"flag-icon flag-icon-gb index-round-flag\"></span>\\n    <div class=\"index-direction-link\"\\n         style=\"text-decoration: underline; margin-top: 0.5rem; padding-bottom: 0.3rem\">Indonesian\\n        - English\\n        <div style=\"font-size: 0.7rem\">Explore dictionary</div>\\n    </div>\\n</a>                                                                                                                                                                                                                        <a class=\"icon-back-blend-small shadow index-direction-block-small\"\\n   href=\"/terjemahan/bahasa+indonesia-bahasa+cina/\">\\n    <span class=\"flag-icon flag-icon-id index-round-flag\"></span>\\n    <span class=\"flag-icon flag-icon-cn index-round-flag\"></span>\\n    <div class=\"index-direction-link-small\">Indonesian - Chinese\\n    </div>\\n</a>                                                                                                                                                                                                                    <a class=\"icon-back-blend-small shadow index-direction-block-small\"\\n   href=\"/%E7%BF%BB%E8%AF%91/%E4%B8%AD%E6%96%87-%E5%8D%B0%E5%BA%A6%E5%B0%BC%E8%A5%BF%E4%BA%9A/\">\\n    <span class=\"flag-icon flag-icon-cn index-round-flag\"></span>\\n    <span class=\"flag-icon flag-icon-id index-round-flag\"></span>\\n    <div class=\"index-direction-link-small\">Chinese - Indonesian\\n    </div>\\n</a>                                                                                </div>\\n        <div class=\"desktop\" style=\"height: 2rem\"></div>\\n\\n        <div class=\"block popular-keywords\"><div class=\"header\"><div class=\"text\"><strong>60 popular words to translate from indonesian to english</strong></div></div><div class=\"body\"><a href=\"/translation/indonesian-english/luar\">luar</a><a href=\"/translation/indonesian-english/stabil\">stabil</a><a href=\"/translation/indonesian-english/grup\">grup</a><a href=\"/translation/indonesian-english/kreatif\">kreatif</a><a href=\"/translation/indonesian-english/kendali\">kendali</a><a href=\"/translation/indonesian-english/saham\">saham</a><a href=\"/translation/indonesian-english/bunga\">bunga</a><a href=\"/translation/indonesian-english/sehat\">sehat</a><a href=\"/translation/indonesian-english/saran\">saran</a><a href=\"/translation/indonesian-english/desember\">desember</a><a href=\"/translation/indonesian-english/senior\">senior</a><a href=\"/translation/indonesian-english/master\">master</a><a href=\"/translation/indonesian-english/istilah\">istilah</a><a href=\"/translation/indonesian-english/metode\">metode</a><a href=\"/translation/indonesian-english/kembali\">kembali</a><a href=\"/translation/indonesian-english/abad\">abad</a><a href=\"/translation/indonesian-english/dapat\">dapat</a><a href=\"/translation/indonesian-english/fisik\">fisik</a><a href=\"/translation/indonesian-english/posting\">posting</a><a href=\"/translation/indonesian-english/favorit\">favorit</a><a href=\"/translation/indonesian-english/terapi\">terapi</a><a href=\"/translation/indonesian-english/mahasiswa\">mahasiswa</a><a href=\"/translation/indonesian-english/jatuh\">jatuh</a><a href=\"/translation/indonesian-english/mimpi\">mimpi</a><a href=\"/translation/indonesian-english/mesir\">mesir</a><a href=\"/translation/indonesian-english/dengar\">dengar</a><a href=\"/translation/indonesian-english/peran\">peran</a><a href=\"/translation/indonesian-english/otoritas\">otoritas</a><a href=\"/translation/indonesian-english/akses\">akses</a><a href=\"/translation/indonesian-english/kaya\">kaya</a></div></div>        <div class=\"block popular-keywords\"><div class=\"header\"><div class=\"text\"><strong>60 popular expressions to translate from indonesian to english</strong></div></div><div class=\"body\"><a href=\"/translation/indonesian-english/perangkat+akan\">perangkat akan</a><a href=\"/translation/indonesian-english/kembali+sekarang\">kembali sekarang</a><a href=\"/translation/indonesian-english/orang+indonesia\">orang indonesia</a><a href=\"/translation/indonesian-english/dapat+pergi\">dapat pergi</a><a href=\"/translation/indonesian-english/bisa+kamu\">bisa kamu</a><a href=\"/translation/indonesian-english/kamu+sedang\">kamu sedang</a><a href=\"/translation/indonesian-english/sudah+lama\">sudah lama</a><a href=\"/translation/indonesian-english/adalah+benar\">adalah benar</a><a href=\"/translation/indonesian-english/inggris+akan\">inggris akan</a><a href=\"/translation/indonesian-english/anak+bisa\">anak bisa</a><a href=\"/translation/indonesian-english/adalah+jantung\">adalah jantung</a><a href=\"/translation/indonesian-english/siswa+akan\">siswa akan</a><a href=\"/translation/indonesian-english/aplikasi+online\">aplikasi online</a><a href=\"/translation/indonesian-english/dunia+poker\">dunia poker</a><a href=\"/translation/indonesian-english/akan+biaya\">akan biaya</a><a href=\"/translation/indonesian-english/akan+telah\">akan telah</a><a href=\"/translation/indonesian-english/teknologi+dapat\">teknologi dapat</a><a href=\"/translation/indonesian-english/akan+baik\">akan baik</a><a href=\"/translation/indonesian-english/bisa+hidup\">bisa hidup</a><a href=\"/translation/indonesian-english/adalah+tingkat\">adalah tingkat</a><a href=\"/translation/indonesian-english/internasional+utama\">internasional utama</a><a href=\"/translation/indonesian-english/ekonomi+inggris\">ekonomi inggris</a><a href=\"/translation/indonesian-english/industri+film\">industri film</a><a href=\"/translation/indonesian-english/kamu+punya\">kamu punya</a><a href=\"/translation/indonesian-english/punya+masalah\">punya masalah</a><a href=\"/translation/indonesian-english/pasar+jepang\">pasar jepang</a><a href=\"/translation/indonesian-english/kata+dokter\">kata dokter</a><a href=\"/translation/indonesian-english/presiden+akan\">presiden akan</a><a href=\"/translation/indonesian-english/datang+kembali\">datang kembali</a><a href=\"/translation/indonesian-english/game+telah\">game telah</a></div></div>        <div class=\"block popular-keywords\"><div class=\"header\"><div class=\"text\"><strong>60 popular phrases to translate from indonesian to english</strong></div></div><div class=\"body\"><a href=\"/translation/indonesian-english/banyak+orang+tidak+tahu\">banyak orang tidak tahu</a><a href=\"/translation/indonesian-english/pasar+mata+uang\">pasar mata uang</a><a href=\"/translation/indonesian-english/semua+orang+bisa\">semua orang bisa</a><a href=\"/translation/indonesian-english/rencana+masa+depan\">rencana masa depan</a><a href=\"/translation/indonesian-english/perangkat+lunak+gratis\">perangkat lunak gratis</a><a href=\"/translation/indonesian-english/adalah+waktu+yang+tepat\">adalah waktu yang tepat</a><a href=\"/translation/indonesian-english/proses+kontrol+kualitas\">proses kontrol kualitas</a><a href=\"/translation/indonesian-english/adalah+sesuatu+yang+harus+anda\">adalah sesuatu yang harus anda</a><a href=\"/translation/indonesian-english/hanya+masalah+waktu\">hanya masalah waktu</a><a href=\"/translation/indonesian-english/kamu+tidak+akan+pernah\">kamu tidak akan pernah</a><a href=\"/translation/indonesian-english/sistem+operasi+android\">sistem operasi android</a><a href=\"/translation/indonesian-english/amerika+serikat+dan+eropa\">amerika serikat dan eropa</a><a href=\"/translation/indonesian-english/anda+bisa+tahu\">anda bisa tahu</a><a href=\"/translation/indonesian-english/bisa+memakan+waktu\">bisa memakan waktu</a><a href=\"/translation/indonesian-english/ini+adalah+masalah\">ini adalah masalah</a><a href=\"/translation/indonesian-english/orang+yang+akan\">orang yang akan</a><a href=\"/translation/indonesian-english/adalah+contoh+yang+bagus\">adalah contoh yang bagus</a><a href=\"/translation/indonesian-english/mata+uang+negara\">mata uang negara</a><a href=\"/translation/indonesian-english/waktu+untuk+diri+sendiri\">waktu untuk diri sendiri</a><a href=\"/translation/indonesian-english/kamar+mandi+pribadi\">kamar mandi pribadi</a><a href=\"/translation/indonesian-english/indonesia+nama+domain+,+anda\">indonesia nama domain , anda</a><a href=\"/translation/indonesian-english/situs+bingo+online\">situs bingo online</a><a href=\"/translation/indonesian-english/dengan+cara+ini+,+anda+dapat\">dengan cara ini , anda dapat</a><a href=\"/translation/indonesian-english/bisa+jadi+karena\">bisa jadi karena</a><a href=\"/translation/indonesian-english/windows+server+hosting\">windows server hosting</a><a href=\"/translation/indonesian-english/adalah+penting+untuk\">adalah penting untuk</a><a href=\"/translation/indonesian-english/perangkat+lunak+dapat\">perangkat lunak dapat</a><a href=\"/translation/indonesian-english/yang+dapat+kamu\">yang dapat kamu</a><a href=\"/translation/indonesian-english/beberapa+orang+telah\">beberapa orang telah</a><a href=\"/translation/indonesian-english/sistem+operasi+komputer\">sistem operasi komputer</a></div></div>        <div class=\"block popular-keywords\"><div class=\"header\"><div class=\"text\"><strong>What people are translating right now</strong></div></div><div class=\"body\"><a href=\"/translation/indonesian-english/di+kaki+gunung+merapi\">di kaki gunung merapi</a><a href=\"/translation/indonesian-english/aku+sudah+sabar\">aku sudah sabar</a><a href=\"/translation/indonesian-english/kaki+gunung\">kaki gunung</a><a href=\"/translation/indonesian-english/kesalahan\">kesalahan</a><a href=\"/translation/indonesian-english/bertahan+hidup\">bertahan hidup</a><a href=\"/translation/indonesian-english/kamu+tidak+keberatan\">kamu tidak keberatan</a><a href=\"/translation/indonesian-english/tuhan+menunjukkan\">tuhan menunjukkan</a><a href=\"/translation/indonesian-english/uang+transportasi\">uang transportasi</a><a href=\"/translation/indonesian-english/dengan+gaun+pengantin\">dengan gaun pengantin</a><a href=\"/translation/indonesian-english/perkiraan\">perkiraan</a><a href=\"/translation/indonesian-english/jeruk+asam\">jeruk asam</a><a href=\"/translation/indonesian-english/menjagamu\">menjagamu</a><a href=\"/translation/indonesian-english/belahan+jiwaku\">belahan jiwaku</a><a href=\"/translation/indonesian-english/pergi+ke+kampus\">pergi ke kampus</a><a href=\"/translation/indonesian-english/daya+beli\">daya beli</a><a href=\"/translation/indonesian-english/bacot\">bacot</a><a href=\"/translation/indonesian-english/untuk+menutupi+kelemahan\">untuk menutupi kelemahan</a><a href=\"/translation/indonesian-english/kepala+,+badan\">kepala , badan</a><a href=\"/translation/indonesian-english/angel%27s\">angel&#039;s</a><a href=\"/translation/indonesian-english/ya+begitulah\">ya begitulah</a></div></div>        <div class=\"desktop\" style=\"height: 2rem\"></div>\\n        <div id=\"top-dictionary-queries\" class=\"block\"><div class=\"header mobile\"><div class=\"text\">\\n                    Top dictionary queries\\n                </div></div><div class=\"body\"><div class=\"queries-lists\"><h3><span class=\"flag-icon flag-icon-id icon shadow-sm\"></span>Indonesian\\n        -\\n        <span class=\"flag-icon flag-icon-gb icon shadow-sm\"></span>English\\n    </h3><div class=\"queries-links\"><span>Word index:</span><a href=\"/queries/indonesian-english/words/0-200.html\"\\n                        >200</a><a href=\"/queries/indonesian-english/words/200-1000.html\"\\n                        >1k</a><a href=\"/queries/indonesian-english/words/1000-2000.html\"\\n                        >2k</a><a href=\"/queries/indonesian-english/words/2000-3000.html\"\\n                        >3k</a><a href=\"/queries/indonesian-english/words/3000-4000.html\"\\n                        >4k</a><a href=\"/queries/indonesian-english/words/4000-5000.html\"\\n                        >5k</a><a href=\"/queries/indonesian-english/words/range/5000-7000.html\"\\n                        >7k</a><a href=\"/queries/indonesian-english/words/range/7000-10000.html\"\\n                        >10k</a><a href=\"/queries/indonesian-english/words/range/10000-20000.html\"\\n                        >20k</a><a href=\"/queries/indonesian-english/words/range/20000-40000.html\"\\n                        >40k</a><a href=\"/queries/indonesian-english/words/range/40000-100000.html\"\\n                        >100k</a><a href=\"/queries/indonesian-english/words/range/100000-200000.html\"\\n                        >200k</a><a href=\"/queries/indonesian-english/words/range/200000-500000.html\"\\n                        >500k</a><a href=\"/queries/indonesian-english/words.html\"\\n                >More</a><br><span>Expression index:</span><a href=\"/queries/indonesian-english/expressions/0-200.html\"\\n                        >200</a><a href=\"/queries/indonesian-english/expressions/200-1000.html\"\\n                        >1k</a><a href=\"/queries/indonesian-english/expressions/1000-2000.html\"\\n                        >2k</a><a href=\"/queries/indonesian-english/expressions/2000-3000.html\"\\n                        >3k</a><a href=\"/queries/indonesian-english/expressions/3000-4000.html\"\\n                        >4k</a><a href=\"/queries/indonesian-english/expressions/4000-5000.html\"\\n                        >5k</a><a href=\"/queries/indonesian-english/expressions/range/5000-7000.html\"\\n                        >7k</a><a href=\"/queries/indonesian-english/expressions/range/7000-10000.html\"\\n                        >10k</a><a href=\"/queries/indonesian-english/expressions/range/10000-20000.html\"\\n                        >20k</a><a href=\"/queries/indonesian-english/expressions/range/20000-40000.html\"\\n                        >40k</a><a href=\"/queries/indonesian-english/expressions/range/40000-100000.html\"\\n                        >100k</a><a href=\"/queries/indonesian-english/expressions/range/100000-200000.html\"\\n                        >200k</a><a href=\"/queries/indonesian-english/expressions/range/200000-500000.html\"\\n                        >500k</a><a href=\"/queries/indonesian-english/expressions/range/500000-1000000.html\"\\n                        >1000k+</a><a href=\"/queries/indonesian-english/expressions.html\"\\n                >More</a><br><span>Phrase index:</span><a href=\"/queries/indonesian-english/phrases/0-200.html\"\\n                        >200</a><a href=\"/queries/indonesian-english/phrases/200-1000.html\"\\n                        >1k</a><a href=\"/queries/indonesian-english/phrases/1000-2000.html\"\\n                        >2k</a><a href=\"/queries/indonesian-english/phrases/2000-3000.html\"\\n                        >3k</a><a href=\"/queries/indonesian-english/phrases/3000-4000.html\"\\n                        >4k</a><a href=\"/queries/indonesian-english/phrases/4000-5000.html\"\\n                        >5k</a><a href=\"/queries/indonesian-english/phrases/range/5000-7000.html\"\\n                        >7k</a><a href=\"/queries/indonesian-english/phrases/range/7000-10000.html\"\\n                        >10k</a><a href=\"/queries/indonesian-english/phrases/range/10000-20000.html\"\\n                        >20k</a><a href=\"/queries/indonesian-english/phrases/range/20000-40000.html\"\\n                        >40k</a><a href=\"/queries/indonesian-english/phrases/range/40000-100000.html\"\\n                        >100k</a><a href=\"/queries/indonesian-english/phrases/range/100000-200000.html\"\\n                        >200k</a><a href=\"/queries/indonesian-english/phrases/range/200000-500000.html\"\\n                        >500k</a><a href=\"/queries/indonesian-english/phrases/range/500000-1000000.html\"\\n                        >1000k+</a><a href=\"/queries/indonesian-english/phrases.html\"\\n                >More</a><br></div></div><div class=\"queries-lists\"><h3><span class=\"flag-icon flag-icon-gb icon shadow-sm\"></span>English\\n        -\\n        <span class=\"flag-icon flag-icon-id icon shadow-sm\"></span>Indonesian\\n    </h3><div class=\"queries-links\"><span>Word index:</span><a href=\"/queries/english-indonesian/words/0-200.html\"\\n                        >200</a><a href=\"/queries/english-indonesian/words/200-1000.html\"\\n                        >1k</a><a href=\"/queries/english-indonesian/words/1000-2000.html\"\\n                        >2k</a><a href=\"/queries/english-indonesian/words/2000-3000.html\"\\n                        >3k</a><a href=\"/queries/english-indonesian/words/3000-4000.html\"\\n                        >4k</a><a href=\"/queries/english-indonesian/words/4000-5000.html\"\\n                        >5k</a><a href=\"/queries/english-indonesian/words/range/5000-7000.html\"\\n                        >7k</a><a href=\"/queries/english-indonesian/words/range/7000-10000.html\"\\n                        >10k</a><a href=\"/queries/english-indonesian/words/range/10000-20000.html\"\\n                        >20k</a><a href=\"/queries/english-indonesian/words/range/20000-40000.html\"\\n                        >40k</a><a href=\"/queries/english-indonesian/words/range/40000-100000.html\"\\n                        >100k</a><a href=\"/queries/english-indonesian/words/range/100000-200000.html\"\\n                        >200k</a><a href=\"/queries/english-indonesian/words/range/200000-500000.html\"\\n                        >500k</a><a href=\"/queries/english-indonesian/words.html\"\\n                >More</a><br><span>Expression index:</span><a href=\"/queries/english-indonesian/expressions/0-200.html\"\\n                        >200</a><a href=\"/queries/english-indonesian/expressions/200-1000.html\"\\n                        >1k</a><a href=\"/queries/english-indonesian/expressions/1000-2000.html\"\\n                        >2k</a><a href=\"/queries/english-indonesian/expressions/2000-3000.html\"\\n                        >3k</a><a href=\"/queries/english-indonesian/expressions/3000-4000.html\"\\n                        >4k</a><a href=\"/queries/english-indonesian/expressions/4000-5000.html\"\\n                        >5k</a><a href=\"/queries/english-indonesian/expressions/range/5000-7000.html\"\\n                        >7k</a><a href=\"/queries/english-indonesian/expressions/range/7000-10000.html\"\\n                        >10k</a><a href=\"/queries/english-indonesian/expressions/range/10000-20000.html\"\\n                        >20k</a><a href=\"/queries/english-indonesian/expressions/range/20000-40000.html\"\\n                        >40k</a><a href=\"/queries/english-indonesian/expressions/range/40000-100000.html\"\\n                        >100k</a><a href=\"/queries/english-indonesian/expressions/range/100000-200000.html\"\\n                        >200k</a><a href=\"/queries/english-indonesian/expressions/range/200000-500000.html\"\\n                        >500k</a><a href=\"/queries/english-indonesian/expressions/range/500000-1000000.html\"\\n                        >1000k+</a><a href=\"/queries/english-indonesian/expressions.html\"\\n                >More</a><br><span>Phrase index:</span><a href=\"/queries/english-indonesian/phrases/0-200.html\"\\n                        >200</a><a href=\"/queries/english-indonesian/phrases/200-1000.html\"\\n                        >1k</a><a href=\"/queries/english-indonesian/phrases/1000-2000.html\"\\n                        >2k</a><a href=\"/queries/english-indonesian/phrases/2000-3000.html\"\\n                        >3k</a><a href=\"/queries/english-indonesian/phrases/3000-4000.html\"\\n                        >4k</a><a href=\"/queries/english-indonesian/phrases/4000-5000.html\"\\n                        >5k</a><a href=\"/queries/english-indonesian/phrases/range/5000-7000.html\"\\n                        >7k</a><a href=\"/queries/english-indonesian/phrases/range/7000-10000.html\"\\n                        >10k</a><a href=\"/queries/english-indonesian/phrases/range/10000-20000.html\"\\n                        >20k</a><a href=\"/queries/english-indonesian/phrases/range/20000-40000.html\"\\n                        >40k</a><a href=\"/queries/english-indonesian/phrases/range/40000-100000.html\"\\n                        >100k</a><a href=\"/queries/english-indonesian/phrases/range/100000-200000.html\"\\n                        >200k</a><a href=\"/queries/english-indonesian/phrases/range/200000-500000.html\"\\n                        >500k</a><a href=\"/queries/english-indonesian/phrases/range/500000-1000000.html\"\\n                        >1000k+</a><a href=\"/queries/english-indonesian/phrases.html\"\\n                >More</a><br></div></div></div></div>    </div>\\n    <footer><div class=\"container\"><div class=\"android-banner desktop\"></div><p><span class=\"span-link\"\\n                  data-href=\"/contact\">Contact</span><span class=\"span-link\"\\n                      data-href=\"/about\">About</span><span class=\"span-link\" data-href=\"/privacy\">Privacy Policy</span></p><p style=\"padding-top: 1rem; border-top: 1px solid #ccc;\"><a href=\"/terjemahan\">Bahasa indonesia</a><a href=\"/%E7%BF%BB%E8%AF%91\">中文</a><a href=\"/overs%C3%A6ttelse\">Dansk</a><a href=\"/traduction\">Français</a><a href=\"/traduzione\">Italiano</a><a href=\"/prevod\">Slovenščina</a><a href=\"/%D0%BF%D1%80%D0%B5%D0%B2%D0%BE%D0%B4\">Български</a><a href=\"/traducere\">Română</a><a href=\"/traduccion\">Español</a><a href=\"/vertaling\">Nederlands</a><a href=\"/%CE%BC%CE%B5%CF%84%CE%AC%CF%86%CF%81%CE%B1%CF%83%CE%B7\">Ελληνικά</a><a href=\"/terc%C3%BCme\">Turkce</a><a href=\"/%D0%BF%D0%B5%D1%80%D0%B5%D0%BA%D0%BB%D0%B0%D0%B4\">Український</a><a href=\"/p%C5%99eklad\">Český</a><a href=\"/t%C5%82umaczenie\">Polski</a><a href=\"/%D7%AA%D6%B4%D7%A8%D7%92%D7%95%D6%BC%D7%9D\">עִברִית</a><a href=\"/ford%C3%ADt%C3%A1s\">Magyar</a><a href=\"/%D0%BF%D1%80%D0%B5%D0%B2%D0%BE%D1%92%D0%B5%D1%9A%D0%B5\">Српски</a><a href=\"/preklad\">Slovenský</a><a href=\"/%D8%AA%D8%B1%D8%AC%D9%85%DB%81\">اردو</a><a href=\"/%D8%AA%D8%B1%D8%AC%D9%85%D8%A9\">عربى</a><a href=\"/tradu%C3%A7%C3%A3o\">Português</a><a href=\"/%E0%A4%AD%E0%A4%BE%E0%A4%B7%E0%A4%BE%E0%A4%82%E0%A4%A4%E0%A4%B0\">मराठी</a><a href=\"/%E0%B0%85%E0%B0%A8%E0%B1%81%E0%B0%B5%E0%B0%BE%E0%B0%A6%E0%B0%82\">తెలుగు</a><a href=\"/%E0%AE%AE%E0%AF%8A%E0%AE%B4%E0%AE%BF%E0%AE%AA%E0%AF%86%E0%AE%AF%E0%AE%B0%E0%AF%8D%E0%AE%AA%E0%AF%8D%E0%AE%AA%E0%AF%81\">தமிழ்</a><a href=\"/%E0%B4%B5%E0%B4%BF%E0%B4%B5%E0%B5%BC%E0%B4%A4%E0%B5%8D%E0%B4%A4%E0%B4%A8%E0%B4%82\">മലയാളം</a><a href=\"/pagsasalin\">Tagalog</a><a href=\"/%E0%A6%85%E0%A6%A8%E0%A7%81%E0%A6%AC%E0%A6%BE%E0%A6%A6\">বাংলা</a><a href=\"/d%E1%BB%8Bch\">Tiếng việt</a><a href=\"/terjemahkan\">Bahasa malay</a><a href=\"/%E0%B8%81%E0%B8%B2%E0%B8%A3%E0%B9%81%E0%B8%9B%E0%B8%A5\">ไทย</a><a href=\"/%EB%B2%88%EC%97%AD\">한국어</a><a href=\"/%E7%BF%BB%E8%A8%B3\">日本語</a><a href=\"/%C3%BCbersetzung\">Deutsch</a><a href=\"/%D0%BF%D0%B5%D1%80%D0%B5%D0%B2%D0%BE%D0%B4\">Русский</a><a href=\"/%E0%A4%85%E0%A4%A8%E0%A5%81%E0%A4%B5%E0%A4%BE%E0%A4%A6\">हिंदी</a><a href=\"/prijevod\">Hrvatski</a><a href=\"/%C3%B6vers%C3%A4ttning\">Svenska</a><a href=\"/k%C3%A4%C3%A4nn%C3%B6s\">Suomi</a><a href=\"/oversettelse\">Norsk</a></p><div class=\"line\"><div><i class=\"icon-logo footer-logo-icon\" style=\"background-color: transparent\"></i></div><div class=\"footer-logo-text-wrapper\"><div class=\"footer-logo-site-name\">TREX</div><div class=\"footer-logo-text\"><span>Tr</span>anslate<br><span>Ex</span>amples\\n                    </div></div><div class=\"footer-logo-date\">2022</div></div></div></footer>\\n<!--suppress HtmlRequiredAltAttribute -->\\n<script>\\n                    // let config = {};\\n    if (typeof config === \\'undefined\\') {\\n        config = {};\\n    }\\n    let configAppend = {\\n        swapLanguages: function () {\\n            let tmp = this.from;\\n            this.from = this.to;\\n            this.to = tmp;\\n        },\\n        \\'app_banner_small\\': `ICAgICAgICA=`,\\n        \\'app_banner_small_2\\': `ICAgICAgICA=`,\\n        \\'app_banner_small_place\\': `top`,\\n                \\'act\\': \\'translations\\',\\n        \\'ricc\\': 0,\\n        \\'rc\\': 0,\\n        \\'static_host\\': \\'https://st.tr-ex.me\\',\\n        \\'action\\': \\'translations\\',\\n        \\'page_direction\\': {\"sl\":\"id\",\"tl\":\"en\",\"from\":\"id\",\"to\":\"en\"},\\n        \\'country_code\\': \\'id\\',\\n        \\'ads_calls\\': {},\\n        \\'poppers\\': [],\\n        \\'rem\\': getComputedStyle(document.body).fontSize.replace(\\'px\\', \\'\\'),\\n        \\'is_context_expanded\\': false,\\n        \\'is_context_clicked\\': false,\\n        \\'canonical\\': \\'\\',\\n                \\'context_clicked_id\\': \\'\\',\\n        \\'is_mobile\\': window.isMobile(),\\n        \\'from\\': \\'id\\',\\n        \\'to\\': \\'en\\',\\n        \\'lang\\': \\'en\\',\\n        \\'body_text_size\\': window.getComputedStyle(document.body).fontSize || \\'16px\\',\\n        \\'body_text_size_mul\\': 1,\\n        \\'urls\\': {\\n            // \\'suggests\\': \\'https://api.tr-ex.me/search/suggests\\',\\n            \\'suggests\\': \\'https://api.tr-ex.me/search/suggests\\',\\n            \\'report\\': \\'/ctx_report/%sl%-%tl%/%keyword%/%id%\\',\\n            \\'ad_stat\\': \\'/ad_stat/%sl%-%tl%/%keyword%\\',\\n        },\\n        \\'test_static_header\\': false,\\n        \\'test_static_translations\\': false,\\n        \\'lang_to_country\\':{\"ar\":\"ar\",\"cs\":\"cz\",\"en\":\"gb\",\"da\":\"dk\",\"sv\":\"se\",\"la\":\"va\",\"hi\":\"in\",\"ja\":\"jp\",\"ko\":\"kr\",\"vi\":\"vn\",\"ms\":\"my\",\"bn\":\"bd\",\"tl\":\"ph\",\"ur\":\"pk\",\"ta\":\"in\",\"ml\":\"in\",\"mr\":\"in\",\"te\":\"in\",\"zh\":\"cn\",\"sr\":\"rs\",\"el\":\"gr\",\"ak\":\"gh\",\"sq\":\"al\",\"am\":\"et\",\"hy\":\"am\",\"as\":\"in\",\"bm\":\"ml\",\"eu\":\"es\",\"be\":\"by\",\"bs\":\"ba\",\"my\":\"mm\",\"ca\":\"es\",\"kw\":\"gb\",\"et\":\"ee\",\"ff\":\"sn\",\"gl\":\"es\",\"lg\":\"ug\",\"ka\":\"ge\",\"gu\":\"in\",\"he\":\"il\",\"ig\":\"ng\",\"ga\":\"ie\",\"kl\":\"gl\",\"kn\":\"in\",\"km\":\"kh\",\"ki\":\"ke\",\"gv\":\"gb\",\"nd\":\"zw\",\"nb\":\"no\",\"nn\":\"no\",\"or\":\"in\",\"ps\":\"af\",\"rm\":\"ch\",\"sg\":\"cf\",\"sn\":\"zw\",\"ii\":\"cn\",\"si\":\"lk\",\"sl\":\"si\",\"uk\":\"ua\",\"cy\":\"gb\",\"yo\":\"ng\",\"zu\":\"za\"},\\n        \\'query_original\\': \\'\\',\\n        \\'rt\\': \\'\\',\\n        \\'translation_method\\': \\'\\',\\n        \\'page_hash\\': \\'\\',\\n        \\'page\\': 0,\\n        \\'is_fallback\\': 0,\\n        \\'pagination\\': 1,\\n        \\'has_next_page\\': false,\\n        \\'strings\\': {\"lookup_for\":\"Lookup for\",\"suggest_as_translation\":\"Suggest as translation\",\"votes_negative_1\":\"Bad example\",\"votes_negative_5\":\"Small mistakes\",\"votes_negative_4\":\"Bad highlighting\",\"votes_negative_3\":\"Rude words\",\"votes_negative_6\":\"Other\",\"votes_add_comment\":\"Additional information or comment (optional):\",\"votes_popup_title\":\"Please specify the reason of your choice\",\"translation\":\"translation\",\"method_word_translation\":\"translation\",\"trex\":\"trex\",\"copy\":\"Copy\",\"results_copied_translation\":\"Translation copied to your clipboard!\",\"enter_text\":\"Enter text (%lang%)\",\"contacts_error_1\":\"Sorry, verification failed. Try again later...\",\"contacts_error_2\":\"Captcha not verified\",\"contacts_error_3\":\"No captcha verification data specified\",\"sentence_copied_to_your_clipboard\":\"Sentence copied to your clipboard!\",\"translation_not_found\":\"translation not found\",\"more\":\"More\",\"translation_aligned_with_QUERY_N_times\":\"Translation aligned with <strong>%query%<\\\\/strong> <span class=\\\\\"translation-results-count\\\\\">%n%<\\\\/span> times\",\"share\":\"share\",\"reverse_translation\":\"Reverse translation\",\"report_a_problem_new\":\"Report a problem\",\"link_to_source\":\"link to source\",\"other_directions\":\"other directions\",\"back\":\"Back\",\"target_filter_tooltip_message\":\"You can obtain even more precise results by indicating the word(s) that the translation should have. This will allow you to show only the examples that contain those words.\",\"filter_finer_tooltip_message_2\":\"Click <strong>{-}<\\\\/strong> to exclude some words from your search. For instance, word1 -{word2} : will search phrases that contain word1 and NOT word2\",\"filter_finer_tooltip_message\":\"Click here to exclude some words from your search. For instance, word1 -{word2} : will search phrases that contain word1 and NOT word2\",\"clear_filter\":\"Clear filter\",\"copy_the_translated_sentence\":\"Copy the translated sentence\",\"copy_the_sentence\":\"Copy the sentence\",\"shared_result_copied\":\"Link to this result copied to your clipboard\",\"share_result\":\"Share result\",\"translations\":\"translations\",\"language\":\"Language\",\"text_size\":\"Text size\",\"report_an_error\":\"report an error\",\"comment_optional\":\"comment (optional)\",\"report\":\"report\",\"report_incorrect_example_or_translation\":\"report incorrect example or translation\",\"click_on_a_bad_fragment\":\"click on a bad fragment\",\"choose_selected_area\":\"choose selected area\",\"cancel\":\"cancel\",\"thanks_for_your_help\":\"thanks for your help!\",\"thanks_message_2\":\"with your help we become better.\",\"lang.en\":\"english\",\"lang.es\":\"spanish\",\"lang.fr\":\"french\",\"lang.ru\":\"russian\",\"lang.cs\":\"czech\",\"lang.id\":\"indonesian\",\"lang.no\":\"norwegian\",\"lang.sv\":\"swedish\",\"lang.hr\":\"croatian\",\"lang.fi\":\"finnish\",\"lang.da\":\"danish\",\"lang.de\":\"german\",\"lang.la\":\"latin\",\"lang.it\":\"italian\",\"lang.nl\":\"dutch\",\"lang.pt\":\"portuguese\",\"lang.pl\":\"polish\",\"lang.tr\":\"turkish\",\"lang.hi\":\"hindi\",\"lang.ja\":\"japanese\",\"lang.ko\":\"korean\",\"lang.th\":\"thai\",\"lang.ms\":\"malay\",\"lang.vi\":\"vietnamese\",\"lang.bn\":\"bengali\",\"lang.tl\":\"tagalog\",\"lang.ml\":\"malayalam\",\"lang.ta\":\"tamil\",\"lang.zh\":\"chinese\",\"lang.te\":\"telugu\",\"lang.mr\":\"marathi\",\"lang.ro\":\"romanian\",\"lang.ar\":\"arabic\",\"lang.ur\":\"urdu\",\"lang.sk\":\"slovak\",\"lang.bg\":\"bulgarian\",\"lang.sr\":\"serbian\",\"lang.hu\":\"hungarian\",\"lang.sl\":\"slovenian\",\"lang.he\":\"hebrew\",\"lang.uk\":\"ukrainian\",\"lang.el\":\"greek\"},\\n        \\'query\\': \\'\\',\\n                \\'ab_test_index\\':0,\\n                                \\'noindex\\': false,\\n                \\'is\\': false,\\n                        \\'translation\\': \\'\\',\\n        \\'target_filter\\': \\'\\',\\n        \\'force_translation\\': \\'\\',\\n        \\'need_to_warn_of_cookies\\': false,\\n        \\'need_to_warn_of_personal_info\\': false,\\n        \\'locale\\': \\'en\\',\\n        \\'keyboard\\': [],\\n                        \\'directions\\': {\"data\":{\"id\":{\"value\":\"id\",\"icon\":\"id\"},\"zh\":{\"value\":\"zh\",\"icon\":\"cn\"},\"da\":{\"value\":\"da\",\"icon\":\"dk\"},\"fr\":{\"value\":\"fr\",\"icon\":\"fr\"},\"it\":{\"value\":\"it\",\"icon\":\"it\"},\"sl\":{\"value\":\"sl\",\"icon\":\"si\"},\"bg\":{\"value\":\"bg\",\"icon\":\"bg\"},\"ro\":{\"value\":\"ro\",\"icon\":\"ro\"},\"es\":{\"value\":\"es\",\"icon\":\"es\"},\"nl\":{\"value\":\"nl\",\"icon\":\"nl\"},\"en\":{\"value\":\"en\",\"icon\":\"gb\"},\"el\":{\"value\":\"el\",\"icon\":\"gr\"},\"tr\":{\"value\":\"tr\",\"icon\":\"tr\"},\"uk\":{\"value\":\"uk\",\"icon\":\"ua\"},\"cs\":{\"value\":\"cs\",\"icon\":\"cz\"},\"pl\":{\"value\":\"pl\",\"icon\":\"pl\"},\"he\":{\"value\":\"he\",\"icon\":\"il\"},\"hu\":{\"value\":\"hu\",\"icon\":\"hu\"},\"sr\":{\"value\":\"sr\",\"icon\":\"rs\"},\"sk\":{\"value\":\"sk\",\"icon\":\"sk\"},\"ur\":{\"value\":\"ur\",\"icon\":\"pk\"},\"ar\":{\"value\":\"ar\",\"icon\":\"ar\"},\"pt\":{\"value\":\"pt\",\"icon\":\"pt\"},\"mr\":{\"value\":\"mr\",\"icon\":\"in\"},\"te\":{\"value\":\"te\",\"icon\":\"in\"},\"ta\":{\"value\":\"ta\",\"icon\":\"in\"},\"ml\":{\"value\":\"ml\",\"icon\":\"in\"},\"tl\":{\"value\":\"tl\",\"icon\":\"ph\"},\"bn\":{\"value\":\"bn\",\"icon\":\"bd\"},\"vi\":{\"value\":\"vi\",\"icon\":\"vn\"},\"ms\":{\"value\":\"ms\",\"icon\":\"my\"},\"th\":{\"value\":\"th\",\"icon\":\"th\"},\"ko\":{\"value\":\"ko\",\"icon\":\"kr\"},\"ja\":{\"value\":\"ja\",\"icon\":\"jp\"},\"de\":{\"value\":\"de\",\"icon\":\"de\"},\"ru\":{\"value\":\"ru\",\"icon\":\"ru\"},\"hi\":{\"value\":\"hi\",\"icon\":\"in\"},\"hr\":{\"value\":\"hr\",\"icon\":\"hr\"},\"sv\":{\"value\":\"sv\",\"icon\":\"se\"},\"la\":{\"value\":\"la\",\"icon\":\"va\"},\"fi\":{\"value\":\"fi\",\"icon\":\"fi\"},\"no\":{\"value\":\"no\",\"icon\":\"no\"}},\"raw\":[{\"sl\":{\"value\":\"id\",\"icon\":\"id\"},\"tl\":{\"value\":\"zh\",\"icon\":\"cn\"}},{\"sl\":{\"value\":\"zh\",\"icon\":\"cn\"},\"tl\":{\"value\":\"id\",\"icon\":\"id\"}},{\"sl\":{\"value\":\"da\",\"icon\":\"dk\"},\"tl\":{\"value\":\"fr\",\"icon\":\"fr\"}},{\"sl\":{\"value\":\"fr\",\"icon\":\"fr\"},\"tl\":{\"value\":\"da\",\"icon\":\"dk\"}},{\"sl\":{\"value\":\"it\",\"icon\":\"it\"},\"tl\":{\"value\":\"sl\",\"icon\":\"si\"}},{\"sl\":{\"value\":\"sl\",\"icon\":\"si\"},\"tl\":{\"value\":\"it\",\"icon\":\"it\"}},{\"sl\":{\"value\":\"bg\",\"icon\":\"bg\"},\"tl\":{\"value\":\"ro\",\"icon\":\"ro\"}},{\"sl\":{\"value\":\"ro\",\"icon\":\"ro\"},\"tl\":{\"value\":\"bg\",\"icon\":\"bg\"}},{\"sl\":{\"value\":\"es\",\"icon\":\"es\"},\"tl\":{\"value\":\"nl\",\"icon\":\"nl\"}},{\"sl\":{\"value\":\"nl\",\"icon\":\"nl\"},\"tl\":{\"value\":\"es\",\"icon\":\"es\"}},{\"sl\":{\"value\":\"en\",\"icon\":\"gb\"},\"tl\":{\"value\":\"el\",\"icon\":\"gr\"}},{\"sl\":{\"value\":\"el\",\"icon\":\"gr\"},\"tl\":{\"value\":\"en\",\"icon\":\"gb\"}},{\"sl\":{\"value\":\"bg\",\"icon\":\"bg\"},\"tl\":{\"value\":\"tr\",\"icon\":\"tr\"}},{\"sl\":{\"value\":\"tr\",\"icon\":\"tr\"},\"tl\":{\"value\":\"bg\",\"icon\":\"bg\"}},{\"sl\":{\"value\":\"en\",\"icon\":\"gb\"},\"tl\":{\"value\":\"uk\",\"icon\":\"ua\"}},{\"sl\":{\"value\":\"uk\",\"icon\":\"ua\"},\"tl\":{\"value\":\"en\",\"icon\":\"gb\"}},{\"sl\":{\"value\":\"cs\",\"icon\":\"cz\"},\"tl\":{\"value\":\"pl\",\"icon\":\"pl\"}},{\"sl\":{\"value\":\"pl\",\"icon\":\"pl\"},\"tl\":{\"value\":\"cs\",\"icon\":\"cz\"}},{\"sl\":{\"value\":\"en\",\"icon\":\"gb\"},\"tl\":{\"value\":\"sl\",\"icon\":\"si\"}},{\"sl\":{\"value\":\"sl\",\"icon\":\"si\"},\"tl\":{\"value\":\"en\",\"icon\":\"gb\"}},{\"sl\":{\"value\":\"en\",\"icon\":\"gb\"},\"tl\":{\"value\":\"he\",\"icon\":\"il\"}},{\"sl\":{\"value\":\"he\",\"icon\":\"il\"},\"tl\":{\"value\":\"en\",\"icon\":\"gb\"}},{\"sl\":{\"value\":\"en\",\"icon\":\"gb\"},\"tl\":{\"value\":\"hu\",\"icon\":\"hu\"}},{\"sl\":{\"value\":\"hu\",\"icon\":\"hu\"},\"tl\":{\"value\":\"en\",\"icon\":\"gb\"}},{\"sl\":{\"value\":\"en\",\"icon\":\"gb\"},\"tl\":{\"value\":\"sr\",\"icon\":\"rs\"}},{\"sl\":{\"value\":\"sr\",\"icon\":\"rs\"},\"tl\":{\"value\":\"en\",\"icon\":\"gb\"}},{\"sl\":{\"value\":\"en\",\"icon\":\"gb\"},\"tl\":{\"value\":\"bg\",\"icon\":\"bg\"}},{\"sl\":{\"value\":\"bg\",\"icon\":\"bg\"},\"tl\":{\"value\":\"en\",\"icon\":\"gb\"}},{\"sl\":{\"value\":\"en\",\"icon\":\"gb\"},\"tl\":{\"value\":\"sk\",\"icon\":\"sk\"}},{\"sl\":{\"value\":\"sk\",\"icon\":\"sk\"},\"tl\":{\"value\":\"en\",\"icon\":\"gb\"}},{\"sl\":{\"value\":\"en\",\"icon\":\"gb\"},\"tl\":{\"value\":\"ur\",\"icon\":\"pk\"}},{\"sl\":{\"value\":\"ur\",\"icon\":\"pk\"},\"tl\":{\"value\":\"en\",\"icon\":\"gb\"}},{\"sl\":{\"value\":\"en\",\"icon\":\"gb\"},\"tl\":{\"value\":\"ar\",\"icon\":\"ar\"}},{\"sl\":{\"value\":\"ar\",\"icon\":\"ar\"},\"tl\":{\"value\":\"en\",\"icon\":\"gb\"}},{\"sl\":{\"value\":\"en\",\"icon\":\"gb\"},\"tl\":{\"value\":\"ro\",\"icon\":\"ro\"}},{\"sl\":{\"value\":\"ro\",\"icon\":\"ro\"},\"tl\":{\"value\":\"en\",\"icon\":\"gb\"}},{\"sl\":{\"value\":\"es\",\"icon\":\"es\"},\"tl\":{\"value\":\"pt\",\"icon\":\"pt\"}},{\"sl\":{\"value\":\"pt\",\"icon\":\"pt\"},\"tl\":{\"value\":\"es\",\"icon\":\"es\"}},{\"sl\":{\"value\":\"en\",\"icon\":\"gb\"},\"tl\":{\"value\":\"mr\",\"icon\":\"in\"}},{\"sl\":{\"value\":\"mr\",\"icon\":\"in\"},\"tl\":{\"value\":\"en\",\"icon\":\"gb\"}},{\"sl\":{\"value\":\"en\",\"icon\":\"gb\"},\"tl\":{\"value\":\"te\",\"icon\":\"in\"}},{\"sl\":{\"value\":\"te\",\"icon\":\"in\"},\"tl\":{\"value\":\"en\",\"icon\":\"gb\"}},{\"sl\":{\"value\":\"en\",\"icon\":\"gb\"},\"tl\":{\"value\":\"zh\",\"icon\":\"cn\"}},{\"sl\":{\"value\":\"zh\",\"icon\":\"cn\"},\"tl\":{\"value\":\"en\",\"icon\":\"gb\"}},{\"sl\":{\"value\":\"en\",\"icon\":\"gb\"},\"tl\":{\"value\":\"ta\",\"icon\":\"in\"}},{\"sl\":{\"value\":\"ta\",\"icon\":\"in\"},\"tl\":{\"value\":\"en\",\"icon\":\"gb\"}},{\"sl\":{\"value\":\"en\",\"icon\":\"gb\"},\"tl\":{\"value\":\"ml\",\"icon\":\"in\"}},{\"sl\":{\"value\":\"ml\",\"icon\":\"in\"},\"tl\":{\"value\":\"en\",\"icon\":\"gb\"}},{\"sl\":{\"value\":\"en\",\"icon\":\"gb\"},\"tl\":{\"value\":\"tl\",\"icon\":\"ph\"}},{\"sl\":{\"value\":\"tl\",\"icon\":\"ph\"},\"tl\":{\"value\":\"en\",\"icon\":\"gb\"}},{\"sl\":{\"value\":\"en\",\"icon\":\"gb\"},\"tl\":{\"value\":\"bn\",\"icon\":\"bd\"}},{\"sl\":{\"value\":\"bn\",\"icon\":\"bd\"},\"tl\":{\"value\":\"en\",\"icon\":\"gb\"}},{\"sl\":{\"value\":\"en\",\"icon\":\"gb\"},\"tl\":{\"value\":\"vi\",\"icon\":\"vn\"}},{\"sl\":{\"value\":\"vi\",\"icon\":\"vn\"},\"tl\":{\"value\":\"en\",\"icon\":\"gb\"}},{\"sl\":{\"value\":\"en\",\"icon\":\"gb\"},\"tl\":{\"value\":\"ms\",\"icon\":\"my\"}},{\"sl\":{\"value\":\"ms\",\"icon\":\"my\"},\"tl\":{\"value\":\"en\",\"icon\":\"gb\"}},{\"sl\":{\"value\":\"en\",\"icon\":\"gb\"},\"tl\":{\"value\":\"th\",\"icon\":\"th\"}},{\"sl\":{\"value\":\"th\",\"icon\":\"th\"},\"tl\":{\"value\":\"en\",\"icon\":\"gb\"}},{\"sl\":{\"value\":\"en\",\"icon\":\"gb\"},\"tl\":{\"value\":\"ko\",\"icon\":\"kr\"}},{\"sl\":{\"value\":\"ko\",\"icon\":\"kr\"},\"tl\":{\"value\":\"en\",\"icon\":\"gb\"}},{\"sl\":{\"value\":\"en\",\"icon\":\"gb\"},\"tl\":{\"value\":\"ja\",\"icon\":\"jp\"}},{\"sl\":{\"value\":\"ja\",\"icon\":\"jp\"},\"tl\":{\"value\":\"en\",\"icon\":\"gb\"}},{\"sl\":{\"value\":\"de\",\"icon\":\"de\"},\"tl\":{\"value\":\"ru\",\"icon\":\"ru\"}},{\"sl\":{\"value\":\"ru\",\"icon\":\"ru\"},\"tl\":{\"value\":\"de\",\"icon\":\"de\"}},{\"sl\":{\"value\":\"de\",\"icon\":\"de\"},\"tl\":{\"value\":\"tr\",\"icon\":\"tr\"}},{\"sl\":{\"value\":\"tr\",\"icon\":\"tr\"},\"tl\":{\"value\":\"de\",\"icon\":\"de\"}},{\"sl\":{\"value\":\"de\",\"icon\":\"de\"},\"tl\":{\"value\":\"pl\",\"icon\":\"pl\"}},{\"sl\":{\"value\":\"pl\",\"icon\":\"pl\"},\"tl\":{\"value\":\"de\",\"icon\":\"de\"}},{\"sl\":{\"value\":\"en\",\"icon\":\"gb\"},\"tl\":{\"value\":\"hi\",\"icon\":\"in\"}},{\"sl\":{\"value\":\"hi\",\"icon\":\"in\"},\"tl\":{\"value\":\"en\",\"icon\":\"gb\"}},{\"sl\":{\"value\":\"en\",\"icon\":\"gb\"},\"tl\":{\"value\":\"tr\",\"icon\":\"tr\"}},{\"sl\":{\"value\":\"tr\",\"icon\":\"tr\"},\"tl\":{\"value\":\"en\",\"icon\":\"gb\"}},{\"sl\":{\"value\":\"en\",\"icon\":\"gb\"},\"tl\":{\"value\":\"pl\",\"icon\":\"pl\"}},{\"sl\":{\"value\":\"pl\",\"icon\":\"pl\"},\"tl\":{\"value\":\"en\",\"icon\":\"gb\"}},{\"sl\":{\"value\":\"en\",\"icon\":\"gb\"},\"tl\":{\"value\":\"pt\",\"icon\":\"pt\"}},{\"sl\":{\"value\":\"pt\",\"icon\":\"pt\"},\"tl\":{\"value\":\"en\",\"icon\":\"gb\"}},{\"sl\":{\"value\":\"fr\",\"icon\":\"fr\"},\"tl\":{\"value\":\"nl\",\"icon\":\"nl\"}},{\"sl\":{\"value\":\"nl\",\"icon\":\"nl\"},\"tl\":{\"value\":\"fr\",\"icon\":\"fr\"}},{\"sl\":{\"value\":\"hr\",\"icon\":\"hr\"},\"tl\":{\"value\":\"it\",\"icon\":\"it\"}},{\"sl\":{\"value\":\"it\",\"icon\":\"it\"},\"tl\":{\"value\":\"hr\",\"icon\":\"hr\"}},{\"sl\":{\"value\":\"fr\",\"icon\":\"fr\"},\"tl\":{\"value\":\"sv\",\"icon\":\"se\"}},{\"sl\":{\"value\":\"sv\",\"icon\":\"se\"},\"tl\":{\"value\":\"fr\",\"icon\":\"fr\"}},{\"sl\":{\"value\":\"de\",\"icon\":\"de\"},\"tl\":{\"value\":\"sv\",\"icon\":\"se\"}},{\"sl\":{\"value\":\"sv\",\"icon\":\"se\"},\"tl\":{\"value\":\"de\",\"icon\":\"de\"}},{\"sl\":{\"value\":\"de\",\"icon\":\"de\"},\"tl\":{\"value\":\"nl\",\"icon\":\"nl\"}},{\"sl\":{\"value\":\"nl\",\"icon\":\"nl\"},\"tl\":{\"value\":\"de\",\"icon\":\"de\"}},{\"sl\":{\"value\":\"cs\",\"icon\":\"cz\"},\"tl\":{\"value\":\"de\",\"icon\":\"de\"}},{\"sl\":{\"value\":\"de\",\"icon\":\"de\"},\"tl\":{\"value\":\"cs\",\"icon\":\"cz\"}},{\"sl\":{\"value\":\"de\",\"icon\":\"de\"},\"tl\":{\"value\":\"hr\",\"icon\":\"hr\"}},{\"sl\":{\"value\":\"hr\",\"icon\":\"hr\"},\"tl\":{\"value\":\"de\",\"icon\":\"de\"}},{\"sl\":{\"value\":\"de\",\"icon\":\"de\"},\"tl\":{\"value\":\"it\",\"icon\":\"it\"}},{\"sl\":{\"value\":\"it\",\"icon\":\"it\"},\"tl\":{\"value\":\"de\",\"icon\":\"de\"}},{\"sl\":{\"value\":\"en\",\"icon\":\"gb\"},\"tl\":{\"value\":\"nl\",\"icon\":\"nl\"}},{\"sl\":{\"value\":\"nl\",\"icon\":\"nl\"},\"tl\":{\"value\":\"en\",\"icon\":\"gb\"}},{\"sl\":{\"value\":\"fr\",\"icon\":\"fr\"},\"tl\":{\"value\":\"it\",\"icon\":\"it\"}},{\"sl\":{\"value\":\"it\",\"icon\":\"it\"},\"tl\":{\"value\":\"fr\",\"icon\":\"fr\"}},{\"sl\":{\"value\":\"es\",\"icon\":\"es\"},\"tl\":{\"value\":\"it\",\"icon\":\"it\"}},{\"sl\":{\"value\":\"it\",\"icon\":\"it\"},\"tl\":{\"value\":\"es\",\"icon\":\"es\"}},{\"sl\":{\"value\":\"es\",\"icon\":\"es\"},\"tl\":{\"value\":\"fr\",\"icon\":\"fr\"}},{\"sl\":{\"value\":\"fr\",\"icon\":\"fr\"},\"tl\":{\"value\":\"es\",\"icon\":\"es\"}},{\"sl\":{\"value\":\"en\",\"icon\":\"gb\"},\"tl\":{\"value\":\"it\",\"icon\":\"it\"}},{\"sl\":{\"value\":\"it\",\"icon\":\"it\"},\"tl\":{\"value\":\"en\",\"icon\":\"gb\"}},{\"sl\":{\"value\":\"da\",\"icon\":\"dk\"},\"tl\":{\"value\":\"de\",\"icon\":\"de\"}},{\"sl\":{\"value\":\"de\",\"icon\":\"de\"},\"tl\":{\"value\":\"da\",\"icon\":\"dk\"}},{\"sl\":{\"value\":\"en\",\"icon\":\"gb\"},\"tl\":{\"value\":\"la\",\"icon\":\"va\"}},{\"sl\":{\"value\":\"la\",\"icon\":\"va\"},\"tl\":{\"value\":\"en\",\"icon\":\"gb\"}},{\"sl\":{\"value\":\"en\",\"icon\":\"gb\"},\"tl\":{\"value\":\"de\",\"icon\":\"de\"}},{\"sl\":{\"value\":\"de\",\"icon\":\"de\"},\"tl\":{\"value\":\"en\",\"icon\":\"gb\"}},{\"sl\":{\"value\":\"de\",\"icon\":\"de\"},\"tl\":{\"value\":\"es\",\"icon\":\"es\"}},{\"sl\":{\"value\":\"es\",\"icon\":\"es\"},\"tl\":{\"value\":\"de\",\"icon\":\"de\"}},{\"sl\":{\"value\":\"de\",\"icon\":\"de\"},\"tl\":{\"value\":\"fr\",\"icon\":\"fr\"}},{\"sl\":{\"value\":\"fr\",\"icon\":\"fr\"},\"tl\":{\"value\":\"de\",\"icon\":\"de\"}},{\"sl\":{\"value\":\"fi\",\"icon\":\"fi\"},\"tl\":{\"value\":\"sv\",\"icon\":\"se\"}},{\"sl\":{\"value\":\"sv\",\"icon\":\"se\"},\"tl\":{\"value\":\"fi\",\"icon\":\"fi\"}},{\"sl\":{\"value\":\"no\",\"icon\":\"no\"},\"tl\":{\"value\":\"sv\",\"icon\":\"se\"}},{\"sl\":{\"value\":\"sv\",\"icon\":\"se\"},\"tl\":{\"value\":\"no\",\"icon\":\"no\"}},{\"sl\":{\"value\":\"fi\",\"icon\":\"fi\"},\"tl\":{\"value\":\"no\",\"icon\":\"no\"}},{\"sl\":{\"value\":\"no\",\"icon\":\"no\"},\"tl\":{\"value\":\"fi\",\"icon\":\"fi\"}},{\"sl\":{\"value\":\"ru\",\"icon\":\"ru\"},\"tl\":{\"value\":\"cs\",\"icon\":\"cz\"}},{\"sl\":{\"value\":\"cs\",\"icon\":\"cz\"},\"tl\":{\"value\":\"ru\",\"icon\":\"ru\"}},{\"sl\":{\"value\":\"en\",\"icon\":\"gb\"},\"tl\":{\"value\":\"no\",\"icon\":\"no\"}},{\"sl\":{\"value\":\"no\",\"icon\":\"no\"},\"tl\":{\"value\":\"en\",\"icon\":\"gb\"}},{\"sl\":{\"value\":\"en\",\"icon\":\"gb\"},\"tl\":{\"value\":\"ru\",\"icon\":\"ru\"}},{\"sl\":{\"value\":\"ru\",\"icon\":\"ru\"},\"tl\":{\"value\":\"en\",\"icon\":\"gb\"}},{\"sl\":{\"value\":\"en\",\"icon\":\"gb\"},\"tl\":{\"value\":\"es\",\"icon\":\"es\"}},{\"sl\":{\"value\":\"es\",\"icon\":\"es\"},\"tl\":{\"value\":\"en\",\"icon\":\"gb\"}},{\"sl\":{\"value\":\"en\",\"icon\":\"gb\"},\"tl\":{\"value\":\"fr\",\"icon\":\"fr\"}},{\"sl\":{\"value\":\"fr\",\"icon\":\"fr\"},\"tl\":{\"value\":\"en\",\"icon\":\"gb\"}},{\"sl\":{\"value\":\"cs\",\"icon\":\"cz\"},\"tl\":{\"value\":\"en\",\"icon\":\"gb\"}},{\"sl\":{\"value\":\"en\",\"icon\":\"gb\"},\"tl\":{\"value\":\"cs\",\"icon\":\"cz\"}},{\"sl\":{\"value\":\"en\",\"icon\":\"gb\"},\"tl\":{\"value\":\"id\",\"icon\":\"id\"}},{\"sl\":{\"value\":\"id\",\"icon\":\"id\"},\"tl\":{\"value\":\"en\",\"icon\":\"gb\"}},{\"sl\":{\"value\":\"en\",\"icon\":\"gb\"},\"tl\":{\"value\":\"sv\",\"icon\":\"se\"}},{\"sl\":{\"value\":\"sv\",\"icon\":\"se\"},\"tl\":{\"value\":\"en\",\"icon\":\"gb\"}},{\"sl\":{\"value\":\"en\",\"icon\":\"gb\"},\"tl\":{\"value\":\"hr\",\"icon\":\"hr\"}},{\"sl\":{\"value\":\"hr\",\"icon\":\"hr\"},\"tl\":{\"value\":\"en\",\"icon\":\"gb\"}},{\"sl\":{\"value\":\"en\",\"icon\":\"gb\"},\"tl\":{\"value\":\"fi\",\"icon\":\"fi\"}},{\"sl\":{\"value\":\"fi\",\"icon\":\"fi\"},\"tl\":{\"value\":\"en\",\"icon\":\"gb\"}},{\"sl\":{\"value\":\"en\",\"icon\":\"gb\"},\"tl\":{\"value\":\"da\",\"icon\":\"dk\"}},{\"sl\":{\"value\":\"da\",\"icon\":\"dk\"},\"tl\":{\"value\":\"en\",\"icon\":\"gb\"}}],\"rel\":{\"id\":{\"zh\":[\"id\",\"zh\"],\"en\":[\"id\",\"en\"]},\"zh\":{\"id\":[\"zh\",\"id\"],\"en\":[\"zh\",\"en\"]},\"da\":{\"fr\":[\"da\",\"fr\"],\"de\":[\"da\",\"de\"],\"en\":[\"da\",\"en\"]},\"fr\":{\"da\":[\"fr\",\"da\"],\"nl\":[\"fr\",\"nl\"],\"sv\":[\"fr\",\"sv\"],\"it\":[\"fr\",\"it\"],\"es\":[\"fr\",\"es\"],\"de\":[\"fr\",\"de\"],\"en\":[\"fr\",\"en\"]},\"it\":{\"sl\":[\"it\",\"sl\"],\"hr\":[\"it\",\"hr\"],\"de\":[\"it\",\"de\"],\"fr\":[\"it\",\"fr\"],\"es\":[\"it\",\"es\"],\"en\":[\"it\",\"en\"]},\"sl\":{\"it\":[\"sl\",\"it\"],\"en\":[\"sl\",\"en\"]},\"bg\":{\"ro\":[\"bg\",\"ro\"],\"tr\":[\"bg\",\"tr\"],\"en\":[\"bg\",\"en\"]},\"ro\":{\"bg\":[\"ro\",\"bg\"],\"en\":[\"ro\",\"en\"]},\"es\":{\"nl\":[\"es\",\"nl\"],\"pt\":[\"es\",\"pt\"],\"it\":[\"es\",\"it\"],\"fr\":[\"es\",\"fr\"],\"de\":[\"es\",\"de\"],\"en\":[\"es\",\"en\"]},\"nl\":{\"es\":[\"nl\",\"es\"],\"fr\":[\"nl\",\"fr\"],\"de\":[\"nl\",\"de\"],\"en\":[\"nl\",\"en\"]},\"en\":{\"el\":[\"en\",\"el\"],\"uk\":[\"en\",\"uk\"],\"sl\":[\"en\",\"sl\"],\"he\":[\"en\",\"he\"],\"hu\":[\"en\",\"hu\"],\"sr\":[\"en\",\"sr\"],\"bg\":[\"en\",\"bg\"],\"sk\":[\"en\",\"sk\"],\"ur\":[\"en\",\"ur\"],\"ar\":[\"en\",\"ar\"],\"ro\":[\"en\",\"ro\"],\"mr\":[\"en\",\"mr\"],\"te\":[\"en\",\"te\"],\"zh\":[\"en\",\"zh\"],\"ta\":[\"en\",\"ta\"],\"ml\":[\"en\",\"ml\"],\"tl\":[\"en\",\"tl\"],\"bn\":[\"en\",\"bn\"],\"vi\":[\"en\",\"vi\"],\"ms\":[\"en\",\"ms\"],\"th\":[\"en\",\"th\"],\"ko\":[\"en\",\"ko\"],\"ja\":[\"en\",\"ja\"],\"hi\":[\"en\",\"hi\"],\"tr\":[\"en\",\"tr\"],\"pl\":[\"en\",\"pl\"],\"pt\":[\"en\",\"pt\"],\"nl\":[\"en\",\"nl\"],\"it\":[\"en\",\"it\"],\"la\":[\"en\",\"la\"],\"de\":[\"en\",\"de\"],\"no\":[\"en\",\"no\"],\"ru\":[\"en\",\"ru\"],\"es\":[\"en\",\"es\"],\"fr\":[\"en\",\"fr\"],\"cs\":[\"en\",\"cs\"],\"id\":[\"en\",\"id\"],\"sv\":[\"en\",\"sv\"],\"hr\":[\"en\",\"hr\"],\"fi\":[\"en\",\"fi\"],\"da\":[\"en\",\"da\"]},\"el\":{\"en\":[\"el\",\"en\"]},\"tr\":{\"bg\":[\"tr\",\"bg\"],\"de\":[\"tr\",\"de\"],\"en\":[\"tr\",\"en\"]},\"uk\":{\"en\":[\"uk\",\"en\"]},\"cs\":{\"pl\":[\"cs\",\"pl\"],\"de\":[\"cs\",\"de\"],\"ru\":[\"cs\",\"ru\"],\"en\":[\"cs\",\"en\"]},\"pl\":{\"cs\":[\"pl\",\"cs\"],\"de\":[\"pl\",\"de\"],\"en\":[\"pl\",\"en\"]},\"he\":{\"en\":[\"he\",\"en\"]},\"hu\":{\"en\":[\"hu\",\"en\"]},\"sr\":{\"en\":[\"sr\",\"en\"]},\"sk\":{\"en\":[\"sk\",\"en\"]},\"ur\":{\"en\":[\"ur\",\"en\"]},\"ar\":{\"en\":[\"ar\",\"en\"]},\"pt\":{\"es\":[\"pt\",\"es\"],\"en\":[\"pt\",\"en\"]},\"mr\":{\"en\":[\"mr\",\"en\"]},\"te\":{\"en\":[\"te\",\"en\"]},\"ta\":{\"en\":[\"ta\",\"en\"]},\"ml\":{\"en\":[\"ml\",\"en\"]},\"tl\":{\"en\":[\"tl\",\"en\"]},\"bn\":{\"en\":[\"bn\",\"en\"]},\"vi\":{\"en\":[\"vi\",\"en\"]},\"ms\":{\"en\":[\"ms\",\"en\"]},\"th\":{\"en\":[\"th\",\"en\"]},\"ko\":{\"en\":[\"ko\",\"en\"]},\"ja\":{\"en\":[\"ja\",\"en\"]},\"de\":{\"ru\":[\"de\",\"ru\"],\"tr\":[\"de\",\"tr\"],\"pl\":[\"de\",\"pl\"],\"sv\":[\"de\",\"sv\"],\"nl\":[\"de\",\"nl\"],\"cs\":[\"de\",\"cs\"],\"hr\":[\"de\",\"hr\"],\"it\":[\"de\",\"it\"],\"da\":[\"de\",\"da\"],\"en\":[\"de\",\"en\"],\"es\":[\"de\",\"es\"],\"fr\":[\"de\",\"fr\"]},\"ru\":{\"de\":[\"ru\",\"de\"],\"cs\":[\"ru\",\"cs\"],\"en\":[\"ru\",\"en\"]},\"hi\":{\"en\":[\"hi\",\"en\"]},\"hr\":{\"it\":[\"hr\",\"it\"],\"de\":[\"hr\",\"de\"],\"en\":[\"hr\",\"en\"]},\"sv\":{\"fr\":[\"sv\",\"fr\"],\"de\":[\"sv\",\"de\"],\"fi\":[\"sv\",\"fi\"],\"no\":[\"sv\",\"no\"],\"en\":[\"sv\",\"en\"]},\"la\":{\"en\":[\"la\",\"en\"]},\"fi\":{\"sv\":[\"fi\",\"sv\"],\"no\":[\"fi\",\"no\"],\"en\":[\"fi\",\"en\"]},\"no\":{\"sv\":[\"no\",\"sv\"],\"fi\":[\"no\",\"fi\"],\"en\":[\"no\",\"en\"]}}},\\n                        \\'end\\': true,\\n    };\\n    for (let k in configAppend) {\\n        config[k] = configAppend[k];\\n    }\\n\\n        function sleep(timeout) {\\n    return new Promise(function (resolve) {\\n        setTimeout(function () {\\n            resolve();\\n        }, timeout);\\n    });\\n}\\n\\nfunction lazyLoad(target, cb) {\\n    const obs = new IntersectionObserver((entries, observer) => {\\n        entries.forEach(entry => {\\n            if (entry.isIntersecting) {\\n                cb(entry.target);\\n\\n                observer.disconnect();\\n            }\\n        });\\n    });\\n    obs.observe(target);\\n}\\n\\nfunction getFirstBrowserLanguage() {\\n    let nav = window.navigator,\\n        browserLanguagePropertyKeys = [\\n            \\'language\\',\\n            \\'browserLanguage\\',\\n            \\'systemLanguage\\',\\n            \\'userLanguage\\'],\\n        i,\\n        language = \\'\\',\\n        len,\\n        shortLanguage = null;\\n\\n    // support for HTML 5.1 \"navigator.languages\"\\n    if (Array.isArray(nav.languages)) {\\n        for (i = 0; i < nav.languages.length; i++) {\\n            language = nav.languages[i];\\n            if (!language) {\\n                continue;\\n            }\\n            len = language.length;\\n            if (!shortLanguage && len) {\\n                shortLanguage = language;\\n            }\\n            if (language && len > 2) {\\n                return language.substring(0, 2);\\n            }\\n        }\\n    }\\n\\n    // support for other well known properties in browsers\\n    for (i = 0; i < browserLanguagePropertyKeys.length; i++) {\\n        language = nav[browserLanguagePropertyKeys[i]];\\n        if (!language) {\\n            continue;\\n        }\\n        len = language.length;\\n        if (!shortLanguage && len) {\\n            shortLanguage = language;\\n        }\\n        if (language && len > 2) {\\n            return language.substring(0, 2);\\n        }\\n    }\\n\\n    if (!shortLanguage) {\\n        return \\'en\\';\\n    }\\n\\n    return shortLanguage.substring(0, 2);\\n}\\n\\nfunction uriParam(name) {\\n    let res = (new RegExp(\\n        \\'[?&]\\' + encodeURIComponent(name) + \\'=([^&]*)\\')).exec(location.search);\\n    if (res)\\n        return decodeURIComponent(res[1]);\\n}\\n\\nfunction iOS() {\\n    // noinspection JSDeprecatedSymbols\\n    return [\\n            \\'iPad Simulator\\',\\n            \\'iPhone Simulator\\',\\n            \\'iPod Simulator\\',\\n            \\'iPad\\',\\n            \\'iPhone\\',\\n            \\'iPod\\'\\n        ].includes(navigator.platform)\\n        // iPad on iOS 13 detection\\n        || (navigator.userAgent.includes(\"Mac\") && \"ontouchend\" in document)\\n}\\n\\nfunction isObject(obj) {\\n    let type = typeof obj;\\n    return type === \\'function\\' || type === \\'object\\' && !!obj;\\n}\\n\\nfunction swapLanguages() {\\n    let tmp = config.from;\\n    config.from = config.to;\\n    config.to = tmp;\\n}\\n\\nfunction getCaretPosition(oField) {\\n\\n    // Initialize\\n    let iCaretPos = 0;\\n\\n    // IE Support\\n    // noinspection JSUnresolvedVariable\\n    if (document.selection) {\\n\\n        // Set focus on the element\\n        oField.focus();\\n\\n        // To get cursor position, get empty slection range\\n        let oSel = document.selection.createRange();\\n\\n        // Move slection start to 0 position\\n        // noinspection JSUnresolvedFunction\\n        oSel.moveStart(\\'character\\', -oField.value.length);\\n\\n        // The caret position is slection length\\n        iCaretPos = oSel.text.length;\\n    }\\n\\n    // Firefox support\\n    else { // noinspection EqualityComparisonWithCoercionJS\\n        if (oField.selectionStart || oField.selectionStart == \\'0\\')\\n                iCaretPos = oField.selectionDirection === \\'backward\\' ? oField.selectionStart : oField.selectionEnd;\\n    }\\n\\n    // Return results\\n    return iCaretPos;\\n}\\n\\nconst colSplit = (a, m) => {\\n    let n = Math.ceil(a.length / m);\\n    let out = [];\\n    for (let i = 0; i < m; i++) {\\n        let col = [];\\n        for (let j = 0; j < n; j++) {\\n            let idx = i * n + j;\\n            if (idx >= a.length) {\\n                continue;\\n            }\\n            let v = a[idx];\\n            col.push(v);\\n        }\\n        out.push(col);\\n    }\\n    return out;\\n}\\nclass Api {\\n\\n    constructor() {\\n        this._useCache = false;\\n        this._cache = {};\\n    }\\n\\n    useCache(useCache) {\\n        this._useCache = useCache;\\n        return this;\\n    }\\n\\n    ajax(options) {\\n\\n        return new Promise(function (resolve, reject) {\\n            options.error = reject;\\n\\n            fetch(options.url, options).then((response) => response.json()).then((data) => {\\n                resolve(data);\\n                options.complete();\\n            }).catch((error) => {\\n                reject(error);\\n            });\\n        });\\n    }\\n\\n    call(uri, force = false) {\\n        if (this._useCache && force === false) {\\n            let hash = uri.hashCode();\\n            if (this._cache.hasOwnProperty(hash)) {\\n                let data = this._cache[hash];\\n                return new Promise((resolve) => {\\n                    resolve(data);\\n                });\\n            } else {\\n                let that = this;\\n\\n                return new Promise((resolve, reject) => {\\n                    that.call(uri, true).then((data) => {\\n                        that._cache[hash] = data;\\n                        resolve(data);\\n                    }, reject);\\n                });\\n            }\\n        }\\n\\n        let request = {\\n            url: uri,\\n        };\\n\\n        return this.ajax(request);\\n    }\\n}\\nclass AutoComplete {\\n\\n    render(data) {\\n        this.data = data;\\n        this.element.classList.add(\\'h\\');\\n\\n        this.element.innerHTML = \\'<div class=\"aa-suggestions\"></div>\\';\\n        let sl = this.element.querySelector(\\'.aa-suggestions\\');\\n\\n        let i = 0;\\n        this.hoverByArrowIndex = -1;\\n        for (let suggestion of data) {\\n            sl.append(this.renderSuggest(suggestion, i));\\n            i++;\\n        }\\n\\n        let inputBox = document.querySelector(\\'.input\\').getBoundingClientRect();\\n\\n        if (config.is_mobile) {\\n            this.element.style.left = \\'0px\\';\\n            this.element.style.top = (inputBox.top + inputBox.height) + \\'px\\';\\n            this.element.style.width = \\'100%\\';\\n        } else {\\n            this.element.style.left = inputBox.left + \\'px\\';\\n            this.element.style.top = (inputBox.top + inputBox.height) + \\'px\\';\\n            this.element.style.width = inputBox.width + \\'px\\';\\n        }\\n\\n        this.element.classList.remove(\\'h\\');\\n    }\\n\\n    goToSuggestion(suggestion) {\\n        config.query = suggestion.keyword;\\n        if (config.from !== suggestion.lang) {\\n            swapLanguages();\\n        }\\n        navigation.input.value = suggestion.keyword;\\n        let label = config.query;\\n        label += \\'|\\' + window.location.href;\\n\\n        let gTagLinkLabel = \\'Search Input Submit (Suggest)\\';\\n\\n        gtag(\\'event\\', \\'click\\', {\\n            \\'event_category\\': gTagLinkLabel,\\n            \\'event_label\\': label,\\n        });\\n\\n        if (config.action === \\'translation\\') {\\n            sendStat(\\'a_click\\', \\'a_click\\', gTagLinkLabel, label);\\n        }\\n\\n        changeLocation(true);\\n    }\\n\\n    renderSuggest(suggestion, index) {\\n        let ret = \\'<span class=\"flag-icon flag-icon-\\'\\n            + suggestion.icon + \\'\"></span>&nbsp;\\' + suggestion.highlighted;\\n        if (suggestion.debug) {\\n            ret = ret + \\' - \\' + suggestion.debug;\\n        }\\n        let out = document.createElement(\\'span\\');\\n        out.innerHTML = ret;\\n        out.classList.add(\\'aa-suggestion\\');\\n        // out.classList.add(\\'span-link\\');\\n        out.setAttribute(\\'role\\', \\'option\\');\\n        out.addEventListener(\\'click\\', () => {\\n            this.goToSuggestion(suggestion);\\n        });\\n        out.addEventListener(\\'mouseenter\\', () => {\\n            let suggests = document.querySelectorAll(\\'.aa-suggestion\\');\\n            for (let s of suggests) {\\n                s.classList.remove(\\'hover\\');\\n            }\\n            out.classList.add(\\'hover\\');\\n            this.hoverByArrowIndex = index;\\n        });\\n        return out;\\n    }\\n\\n    clear() {\\n        this.element.style.position = \\'absolute\\';\\n    }\\n\\n    makeFixed() {\\n        this.element.style.position = \\'fixed\\';\\n    }\\n\\n    constructor(selector) {\\n\\n        this.data = [];\\n        this.hoverByArrowIndex = -1;\\n\\n        this.input = document.querySelector(selector);\\n\\n        this.autocompleteTimer = (() => {\\n\\n            let timer = -1;\\n            let primaryLang = \\'\\';\\n            let freeTextOff = false;\\n\\n            const convertSuggest = (suggest) => {\\n                let out = \\'\\';\\n                let text = \\'\\';\\n                for (let i = 0; i < suggest.length; i++) {\\n                    let part = suggest[i];\\n                    if (typeof part == \\'undefined\\') {\\n                        continue;\\n                    }\\n                    text += part[0].toString();\\n                    if (part[1] === 1) {\\n                        out += \\'<strong>\\' + part[0].toString() + \\'</strong>\\';\\n                    } else {\\n                        out += part[0].toString();\\n                    }\\n                }\\n                return {highlighted: out, keyword: text};\\n            }\\n\\n            let fun = (query, callback) => {\\n                if (!query || query.trim().length === 0) {\\n                    return;\\n                }\\n                let url = config.urls.suggests + \\'/\\' + config.from + \\'-\\' +\\n                    config.to +\\n                    \\'/\\' + encodeURIComponent(query) + \\'?pl=\\' + primaryLang + \\'&v=a&client_type=1\\';\\n                if (freeTextOff) {\\n                    url = url + \\'&fto=1\\';\\n                }\\n                fetch(url).then((response) => {\\n                    return response.json();\\n                }).then((data) => {\\n                    if (timer !== -1) {\\n                        clearTimeout(timer);\\n                    }\\n                    timer = setTimeout(() => {\\n                        primaryLang = \\'\\';\\n                        freeTextOff = false;\\n                    }, 1000);\\n\\n                    data = data[\\'results\\'][0];\\n                    freeTextOff = (data[\\'docs\\'].length === 0 || data[\\'freeTextOff\\'] === true);\\n                    let docs = [];\\n                    let docsSL = [];\\n                    if (data[\\'docs\\'][config.from]) {\\n                        docsSL = Object.values(data[\\'docs\\'][config.from]);\\n                    }\\n                    let docsTL = [];\\n                    if (data[\\'docs\\'][config.to]) {\\n                        docsTL = Object.values(data[\\'docs\\'][config.to]);\\n                    }\\n\\n                    for (let i = 0; i < docsSL.length; i++) {\\n                        let suggest = convertSuggest(docsSL[i]);\\n                        suggest.lang = config.from;\\n                        suggest.icon = config.lang_to_country[config.from] || config.from;\\n                        docs.push(suggest);\\n                    }\\n                    for (let i = 0; i < docsTL.length; i++) {\\n                        let suggest = convertSuggest(docsTL[i]);\\n                        suggest.lang = config.to;\\n                        suggest.icon = config.lang_to_country[config.to] || config.to;\\n                        docs.push(suggest);\\n                    }\\n                    data = docs;\\n                    data = data.slice(0, 10);\\n                    for (let i = 0; i < data.length; i++) {\\n                        if (i === 0) {\\n                            primaryLang = data[i].lang;\\n                        }\\n                        if (config.from === \\'hi\\') {\\n                            data[i].highlighted = data[i].keyword;\\n                        }\\n                    }\\n                    callback(data);\\n                });\\n            }\\n\\n            let reset = (query, callback) => {\\n                fun(query, callback);\\n                // if (timer !== -1) {\\n                //     clearTimeout(timer);\\n                // }\\n                // timer = setTimeout(fun, 300); // wait 300 before send suggest\\n            };\\n\\n            return {reset: reset};\\n        })();\\n\\n        this.element = document.createElement(\\'div\\');\\n        this.element.classList.add(\\'h\\');\\n        this.element.style.position = \\'absolute\\';\\n        this.element.style.zIndex = \\'10000\\';\\n        document.body.append(this.element);\\n\\n        this.input.addEventListener(\\'input\\', () => {\\n            this.autocompleteTimer.reset(this.input.value, (data) => {\\n                this.render(data);\\n            })\\n        });\\n\\n        document.body.addEventListener(\\'keydown\\', (e) => {\\n            if (config.is_mobile) {\\n                return;\\n            }\\n            if (e.key === \\'ArrowDown\\') {\\n                if (this.element.classList.contains(\\'h\\')) {\\n                    return;\\n                }\\n                let suggests = document.querySelectorAll(\\'.aa-suggestion\\');\\n                if (suggests.length <= 0) {\\n                    return;\\n                }\\n                e.preventDefault();\\n                e.stopPropagation();\\n                this.hoverByArrowIndex++;\\n                if (this.hoverByArrowIndex >= suggests.length) {\\n                    this.hoverByArrowIndex = 0;\\n                }\\n                for (let s of suggests) {\\n                    s.classList.remove(\\'hover\\');\\n                }\\n                suggests[this.hoverByArrowIndex].classList.add(\\'hover\\');\\n                navigation.input.value = this.data[this.hoverByArrowIndex].keyword;\\n            }\\n            if (e.key === \\'ArrowUp\\') {\\n                if (this.element.classList.contains(\\'h\\')) {\\n                    return;\\n                }\\n                let suggests = document.querySelectorAll(\\'.aa-suggestion\\');\\n                if (suggests.length <= 0) {\\n                    return;\\n                }\\n                e.preventDefault();\\n                e.stopPropagation();\\n                this.hoverByArrowIndex--;\\n                if (this.hoverByArrowIndex < 0) {\\n                    this.hoverByArrowIndex = suggests.length - 1;\\n                }\\n                for (let s of suggests) {\\n                    s.classList.remove(\\'hover\\');\\n                }\\n                suggests[this.hoverByArrowIndex].classList.add(\\'hover\\');\\n                navigation.input.value = this.data[this.hoverByArrowIndex].keyword;\\n            }\\n            if (e.key === \\'Enter\\') {\\n                if (this.element.classList.contains(\\'h\\')) {\\n                    return;\\n                }\\n                let suggests = document.querySelectorAll(\\'.aa-suggestion\\');\\n                if (suggests.length <= 0) {\\n                    return;\\n                }\\n                if (this.hoverByArrowIndex < 0) {\\n                    return;\\n                }\\n                suggests[this.hoverByArrowIndex].dispatchEvent(new Event(\\'click\\'));\\n            }\\n        });\\n    }\\n\\n    hide() {\\n        this.element.classList.add(\\'h\\');\\n        this.hoverByArrowIndex = -1;\\n    }\\n\\n    show() {\\n        this.element.classList.remove(\\'h\\');\\n    }\\n}\\nlet trackVisibleContextsTimer = null;\\n\\nlet tStart = Date.now();\\n\\nlet sendScrollStat = (visibleContexts) => {\\n\\n    // return;\\n\\n    let ref = getJailQuery();\\n\\n    // noinspection JSUnresolvedVariable\\n    let ua = navigator.userAgent || navigator.vendor || window.opera;\\n\\n    let info = {\\n        ur: document.referrer,\\n        u: document.location.href,\\n        res: [screen.width, screen.height],\\n        vp: [window.innerWidth, window.innerHeight],\\n        ua: ua,\\n        tm: config.translation_method,\\n        vc: visibleContexts,\\n        sy: window.scrollY,\\n        dt: (Date.now() - tStart) / 1000,\\n        ph: config.page_hash,\\n    };\\n\\n    let q = config.query;\\n    if (q === \\'\\') {\\n        q = \\'NO_QUERY\\';\\n    }\\n\\n    let uri = \\'/\\' + \\'ba3\\' + \\'/\\' + config.from + \\'-\\' + config.to + \\'/\\' +\\n        q + \\'?r=\\' + ref + \\'&i=\\' + JSON.stringify(info).b64e();\\n    api.call(uri).then(() => {\\n    });\\n};\\n\\nlet trackVisibleContextShot = () => {\\n    if (window.isBot()) {\\n        return;\\n    }\\n    let ctxs = document.querySelectorAll(\\'.ctx\\') || [];\\n    let visibleContexts = 0;\\n    for (let ctx of ctxs) {\\n        let ctxBox = ctx.getBoundingClientRect();\\n        if (ctxBox.y - window.innerHeight < 0) {\\n            visibleContexts++;\\n        }\\n    }\\n    sendScrollStat(visibleContexts);\\n};\\n\\nlet trackVisibleContexts = () => {\\n    if (trackVisibleContextsTimer) {\\n        clearTimeout(trackVisibleContextsTimer);\\n    }\\n    trackVisibleContextsTimer = setTimeout(trackVisibleContextShot, 200);\\n};const navigation = function () {\\n    let header = document.getElementById(\\'header\\');\\n    let input = header ? header.querySelector(\\'input\\') : null;\\n    let inputField = header ? header.querySelector(\\'.input-field\\') : null;\\n    let inputTextArea = header ? header.querySelector(\\'textarea\\') : null;\\n    let form = header ? header.querySelector(\\'.form\\') : null;\\n    let inputWrapper = header ? header.querySelector(\\'.input\\') : null;\\n    let filter = header ? header.querySelector(\\'.filter\\') : null;\\n    let submit = header ? header.querySelector(\\'.submit\\') : null;\\n    let direction = header ? header.querySelector(\\'.direction\\') : null;\\n    let autocompleteInputWrapper = null;\\n    let controls = header ? header.querySelector(\\'.controls\\') : null;\\n    let languageButton = controls ? controls.querySelector(\\'.lang\\') : null;\\n    let menuButton = direction ? direction.querySelector(\\'.menu\\') : null;\\n    let clearQueryButton = header ? header.querySelector(\\'.btn-clear\\') : null;\\n    let space = null;\\n\\n    let lastScroll = 0;\\n    let headerTop = 0;\\n    let directionHeight = 0;\\n    let isRealScroll = false;\\n\\n    let updateNavigation = () => {\\n\\n        trackVisibleContexts();\\n\\n        directionHeight = direction.getBoundingClientRect().height;\\n\\n        updateAutocomplete();\\n\\n        if (config.is_mobile) {\\n            if (window.scrollY > 0) {\\n                form.style.borderBottom = \\'2px solid #ddd\\';\\n            } else {\\n                form.style.borderBottom = \\'2px solid transparent\\';\\n            }\\n        }\\n\\n        let dy = (lastScroll - window.scrollY);\\n        lastScroll = window.scrollY;\\n\\n        headerTop += dy;\\n        if (headerTop < -1 * (directionHeight)) {\\n            headerTop = -1 * (directionHeight);\\n        }\\n        if (headerTop > 0) {\\n            headerTop = 0;\\n        }\\n\\n        let headerBox = header.getBoundingClientRect();\\n        if (headerBox.y < 0 && window.scrollY <= 0 && config.is_mobile && isRealScroll) {\\n            headerTop = 0;\\n        }\\n\\n        if (config.is_mobile && !iOS()) {\\n            header.style.top = headerTop + \\'px\\';\\n            config.search.element.style.top = (headerBox.height + headerTop) + \\'px\\';\\n        }\\n    }\\n\\n    let createDDShow = (dd) => {\\n        dd.show = (el) => {\\n            let offset = el.offset();\\n            let br = el.getBoundingClientRect();\\n            dd.classList.remove(\\'h\\');\\n            let rect = dd.getBoundingClientRect();\\n            dd.classList.add(\\'h\\');\\n\\n            if (config.is_mobile) {\\n\\n            } else {\\n                let left = offset.left;\\n                if (left + rect.width > window.innerWidth) {\\n                    left = offset.left - 20 - (left + rect.width - window.innerWidth);\\n                }\\n                dd.style.left = left + \\'px\\';\\n                dd.style.top = (offset.top + br.height) + \\'px\\';\\n            }\\n\\n            dd.classList.remove(\\'h\\');\\n        };\\n    }\\n\\n    let createLanguageDropDrown = () => {\\n        let dd = document.createElement(\\'div\\');\\n        dd.classList.add(\\'dropdown-menu\\', \\'shadow\\', \\'lang-select\\', \\'h\\');\\n        if (!config.is_mobile) {\\n            dd.style.position = \\'absolute\\';\\n        } else {\\n            dd.style.display = \"flex\";\\n            dd.style.justifyContent = \"space-evenly\";\\n        }\\n        document.body.append(dd);\\n\\n        let languageLinks = header.querySelectorAll(\\'.lang-list a, .lang-list span\\');\\n\\n        // draw langauge option in Nx3 table\\n\\n        let m = 3;\\n        let n = Math.ceil(languageLinks.length / m);\\n\\n        for (let i = 0; i < m; i++) {\\n            let wrp = document.createElement(\\'div\\');\\n            for (let j = 0; j < n; j++) {\\n                let idx = i * n + j;\\n                if (idx >= languageLinks.length) {\\n                    continue;\\n                }\\n\\n                let l = languageLinks[idx];\\n\\n                let option = document.createElement(l.tagName);\\n                option.classList.add(\\'dropdown-item\\');\\n                let ic = config.lang_to_country[l.dataset.locale] || l.dataset.locale;\\n                let text = l.innerText;\\n\\n                if (l.tagName.toLowerCase() === \\'a\\') {\\n                    option.setAttribute(\\'href\\', l.getAttribute(\\'href\\'));\\n                } else {\\n                    option.setAttribute(\\'data-href\\', l.getAttribute(\\'data-href\\'));\\n                    option.classList.add(\\'span-link\\');\\n                }\\n\\n                option.innerHTML = `\\n<span class=\"flag-icon flag-icon-${ic}\"></span>\\n<span class=\"direction-option-lang-name\">${text}</span>          \\n            `;\\n                wrp.append(option);\\n            }\\n            dd.append(wrp);\\n        }\\n\\n        createDDShow(dd);\\n\\n        dd.hide = () => {\\n            dd.classList.remove(\\'h\\');\\n            dd.classList.add(\\'h\\');\\n        };\\n\\n        dd.visible = () => {\\n            return dd.classList.contains(\\'h\\');\\n        };\\n\\n        return dd;\\n    };\\n\\n    let createDirectionDropDown = () => {\\n        let dd = document.createElement(\\'div\\');\\n        dd.classList.add(\\'direction-list\\', \\'h\\');\\n        if (!config.is_mobile) {\\n            dd.style.position = \\'absolute\\';\\n        }\\n        document.body.append(dd);\\n\\n        createDDShow(dd);\\n\\n        dd.hide = () => {\\n            dd.classList.remove(\\'h\\');\\n            dd.classList.add(\\'h\\');\\n        };\\n\\n        dd.visible = () => {\\n            return dd.classList.contains(\\'h\\');\\n        };\\n\\n        return dd;\\n    };\\n\\n    let showMobileDropDown = (dropDownMenu) => {\\n\\n        let div = document.createElement(\\'div\\');\\n        div.style.overflowX = \\'hidden\\';\\n        div.style.overflowY = \\'scroll\\';\\n        div.style.position = \\'relative\\';\\n        div.style.height = Math.min(window.innerHeight, 30 * 16) + \\'px\\';\\n        let items = dropDownMenu.querySelectorAll(\\'.dropdown-item\\');\\n\\n        div.append(dropDownMenu);\\n        dropDownMenu.classList.remove(\\'shadow\\');\\n        if (dropDownMenu.querySelector(\\'.dropdown-menu\\')) {\\n            dropDownMenu.querySelector(\\'.dropdown-menu\\').classList.remove(\\'shadow\\');\\n        }\\n\\n        if (items.length > 0) {\\n\\n            let closeButton = document.createElement(\\'i\\');\\n            closeButton.classList.add(\\'material-icons\\', \\'shadow\\');\\n            closeButton.innerText = \\'close\\';\\n            closeButton.style.position = \\'fixed\\';\\n            closeButton.style.top = \\'1.5rem\\';\\n            closeButton.style.right = \\'0\\';\\n            closeButton.style.padding = \\'0.25rem\\';\\n            closeButton.style.borderRadius = \\'10rem\\';\\n            closeButton.style.zIndex = \\'1000\\';\\n            closeButton.style.background = \\'white\\';\\n\\n            closeButton.addEventListener(\\'click\\', () => {\\n                selectDialog.hide();\\n            });\\n\\n            div.append(closeButton);\\n\\n            dropDownMenu.show(div);\\n            selectDialog.showElement(div);\\n            selectDialog.getDialog().style.padding = \\'0\\';\\n            selectDialog.lastMenu = dropDownMenu;\\n        }\\n    };\\n\\n    let ddL = null;\\n    let ddS = null;\\n    let ddT = null;\\n\\n    let hideTextArea = () => {\\n        input.classList.remove(\\'h\\');\\n        inputTextArea.classList.add(\\'h\\');\\n        if (clearQueryButton) {\\n            clearQueryButton.classList.remove(\\'h\\');\\n            clearQueryButton.classList.add(\\'h\\');\\n        }\\n    };\\n\\n    let clear = () => {\\n        ddS.hide();\\n        ddT.hide();\\n        ddL.hide();\\n        hideTextArea();\\n    };\\n\\n    let updateDirectionButton = (btn, lang) => {\\n        let ic = btn.querySelector(\\'.icon\\');\\n        let text = btn.querySelector(\\'.text\\');\\n        ic.setAttribute(\\'class\\', \\'\\');\\n        ic.classList.add(\\'flag-icon\\', \\'flag-icon-\\' + config.directions.data[lang].icon, \\'icon\\');\\n        text.innerText = config.strings[\\'lang.\\' + lang].capitalize();\\n    };\\n\\n    let update = () => {\\n\\n        if (space) {\\n            space.style.height = header.getBoundingClientRect().height + \\'px\\';\\n        }\\n\\n        if (direction) {\\n            let ddSBtn = direction.querySelector(\\'.dd-s\\');\\n            updateDirectionButton(ddSBtn, config.from);\\n\\n            let ddTBtn = direction.querySelector(\\'.dd-t\\');\\n            updateDirectionButton(ddTBtn, config.to);\\n\\n            // update placeholders\\n            let placeholder = config.strings[\\'enter_text\\'].replace(\\'%lang%\\',\\n                config.strings[\\'lang.\\' + config.from].capitalize());\\n            input.setAttribute(\\'placeholder\\', placeholder);\\n            for (let ta of header.querySelectorAll(\\'textarea\\')) {\\n                ta.setAttribute(\\'placeholder\\', placeholder);\\n            }\\n        }\\n    };\\n\\n    let renderDropDown = (dd, type) => {\\n        let options = {\\n            dir: {\\n                value: config.to,\\n                icon: config.directions.data[config.to].icon,\\n            },\\n            direction: {\\n                sl: config.from,\\n                tl: config.to\\n            },\\n            dirs: config.directions.rel[config.from],\\n            locale: config.locale,\\n            strings: config.strings,\\n            directions: config.directions,\\n        };\\n        if (type === \\'s\\') {\\n            options = {\\n                dir: {\\n                    value: config.from,\\n                    icon: config.directions.data[config.from].icon,\\n                },\\n                direction: {\\n                    sl: config.from,\\n                    tl: config.to\\n                },\\n                dirs: config.directions.rel,\\n                locale: config.locale,\\n                strings: config.strings,\\n                directions: config.directions,\\n            };\\n        }\\n        if (config.action === \\'index\\') {\\n            options.dropdown_height = \\'3rem\\';\\n        }\\n\\n        let ddBody = document.createElement(\\'div\\');\\n        ddBody.classList.add(\\'dropdown-menu\\', \\'shadow\\', \\'clean\\');\\n\\n        let renderDoubleOptions = (ddBody, values, tl) => {\\n            for (let value of values) {\\n                let ddOption = document.createElement(\\'a\\');\\n                ddOption.classList.add(\\'dropdown-item\\', \\'direction-option\\', \\'direction-option-2-lang\\');\\n                ddOption.setAttribute(\\'href\\', \\'#\\');\\n                ddOption.dataset.value = value;\\n                if (tl === \\'en\\') {\\n                    ddOption.innerHTML = `\\n<span class=\"flag-icon flag-icon-${options.directions.data[value].icon}\"></span>\\n<span class=\"direction-option-lang-name\">${config.strings[\\'lang.\\' + value].capitalize()}</span>      \\n                `;\\n                } else {\\n                    ddOption.innerHTML = `\\n<span class=\"flag-icon flag-icon-${options.directions.data[value].icon}\"></span>\\n<span class=\"direction-option-lang-name\">${config.strings[\\'lang.\\' + value].capitalize()}</span>    \\n&nbsp;-&nbsp;\\n<span class=\"flag-icon flag-icon-${options.directions.data[tl].icon}\"></span>\\n<span class=\"direction-option-lang-name\">${config.strings[\\'lang.\\' + tl].capitalize()}</span>     \\n                `;\\n                }\\n                ddBody.append(ddOption);\\n            }\\n        }\\n\\n        let renderList = (ddBody, values) => {\\n            let list = document.createElement(\\'div\\');\\n            list.style.display = \\'flex\\';\\n            list.style.justifyContent = \\'space-evenly\\';\\n            for (let col of colSplit(values, 3)) {\\n                let wrp = document.createElement(\\'div\\');\\n                for (let value of col) {\\n                    let ddOption = document.createElement(\\'a\\');\\n                    ddOption.classList.add(\\'dropdown-item\\', \\'direction-option\\');\\n                    ddOption.setAttribute(\\'href\\', \\'#\\');\\n                    ddOption.dataset.value = value;\\n                    ddOption.innerHTML = `\\n<span class=\"flag-icon flag-icon-${options.directions.data[value].icon}\"></span>\\n<span class=\"direction-option-lang-name\">${config.strings[\\'lang.\\' + value].capitalize()}</span>         \\n                `;\\n                    wrp.append(ddOption);\\n                }\\n                list.append(wrp);\\n            }\\n            ddBody.append(list);\\n        }\\n\\n        if (options.dir.value === options.direction.sl) {\\n            if (options.direction.tl !== \\'en\\') {\\n                let values = [];\\n                for (let v in options.dirs[options.direction.tl]) {\\n                    if (v === options.dir.value) {\\n                        continue;\\n                    }\\n                    values.push(v);\\n                }\\n                renderDoubleOptions(ddBody, values, options.direction.tl);\\n\\n                let delimiter = document.createElement(\\'div\\');\\n                delimiter.classList.add(\\'dropdown-item\\', \\'dropdown-delimiter\\');\\n                delimiter.style.background = \\'#ddd\\';\\n                delimiter.style.width = \\'100%\\';\\n                delimiter.style.padding = \\'0 0.3rem\\';\\n                delimiter.style.fontSize = \\'0.8rem\\';\\n                delimiter.innerText = config.strings[\\'other_directions\\'].capitalize();\\n                ddBody.append(delimiter);\\n\\n                values = [];\\n                let related = options.dirs[options.direction.tl];\\n                for (let v in options.dirs) {\\n                    if (v === options.dir.value || v in related) {\\n                        continue;\\n                    }\\n                    values.push(v);\\n                }\\n\\n                renderList(ddBody, values);\\n            } else {\\n                let values = [];\\n                for (let v in options.dirs[options.direction.tl]) {\\n                    if (v === options.dir.value) {\\n                        continue;\\n                    }\\n                    values.push(v);\\n                }\\n                renderList(ddBody, values);\\n            }\\n        } else {\\n            let values = [];\\n            for (let v in options.dirs) {\\n                if (v === options.dir.value) {\\n                    continue;\\n                }\\n                values.push(v);\\n            }\\n            renderList(ddBody, values);\\n        }\\n        dd.innerHTML = \\'\\';\\n        dd.append(ddBody);\\n    };\\n\\n    let updateAutocomplete = () => {\\n        let inputOffset = inputWrapper.offset();\\n        let inputWrapperCR = inputWrapper.getBoundingClientRect();\\n        if (config.is_mobile) {\\n            autocompleteInputWrapper.style.left = \\'0\\';\\n            autocompleteInputWrapper.style.top = (inputOffset.top + inputWrapperCR.height + 2) + \\'px\\';\\n            autocompleteInputWrapper.style.width = \\'100%\\';\\n            autocompleteInputWrapper.style.height = \\'0\\';\\n        } else {\\n            autocompleteInputWrapper.style.left = inputOffset.left + \\'px\\';\\n            autocompleteInputWrapper.style.top = (inputOffset.top + inputWrapperCR.height / 2 + 2) + \\'px\\';\\n            autocompleteInputWrapper.style.width = inputWrapperCR.width + \\'px\\';\\n            autocompleteInputWrapper.style.height = \\'0\\';\\n        }\\n    };\\n\\n    let updateTextArea = (copyBlock) => {\\n        copyBlock.innerText = input.value;\\n        copyBlock.classList.remove(\\'h\\');\\n        inputTextArea.classList.add(\\'h\\');\\n        copyBlock.width = inputTextArea.getBoundingClientRect().width + \\'px\\';\\n        inputTextArea.width = inputTextArea.getBoundingClientRect().width + \\'px\\';\\n        let copyBlockBox = copyBlock.getBoundingClientRect();\\n        copyBlock.classList.add(\\'h\\');\\n        inputTextArea.classList.remove(\\'h\\');\\n        inputTextArea.style.height = copyBlockBox.height + \\'px\\';\\n    };\\n\\n    let init = () => {\\n\\n        ddL = createLanguageDropDrown();\\n        ddS = createDirectionDropDown();\\n        ddT = createDirectionDropDown();\\n\\n        if (controls) {\\n            if (!config.is_mobile && config.action === \\'index\\') {\\n                controls.remove();\\n                document.querySelector(\\'.index-controls-place\\').append(controls);\\n            }\\n        }\\n\\n        if (header) {\\n            if (config.is_mobile && !config.test_static_header) {\\n                header.style.position = \\'fixed\\';\\n                header.style.top = \\'0\\';\\n                space = document.createElement(\\'div\\');\\n                // space.style.height = header.getBoundingClientRect().height + \\'px\\';\\n                space.style.height = 82 + \\'px\\';\\n                document.body.insertBefore(space, header);\\n            }\\n        }\\n\\n        if (clearQueryButton) {\\n            clearQueryButton.addEventListener(\\'click\\', () => {\\n                if (input) {\\n                    input.value = \\'\\';\\n                }\\n                if (inputTextArea) {\\n                    inputTextArea.value = \\'\\';\\n                }\\n                config.query = \\'\\';\\n                clear();\\n                input.focus();\\n            });\\n        }\\n\\n        if (menuButton && config.is_mobile) {\\n\\n            controls.remove();\\n            // controls.style.display = \\'block\\';\\n\\n            let controlsWrapper = document.createElement(\\'div\\');\\n            controlsWrapper.style.position = \\'relative\\';\\n            controlsWrapper.style.top = \\'0\\';\\n            controlsWrapper.style.left = \\'0\\';\\n            controlsWrapper.style.width = \\'100%\\';\\n            controlsWrapper.style.zIndex = \\'20000\\';\\n\\n            controlsWrapper.classList.add(\\'h\\');\\n            // controlsWrapper.append(controls);\\n            header.append(controlsWrapper);\\n\\n            controlsWrapper.innerHTML = `\\n<div class=\"collapse navbar-collapse\" id=\"mobile-language-chooser\"\\n                 style=\"background-color: rgb(228, 229, 230); border-bottom: 1px solid #ddd;\">\\n                <ul class=\"navbar-nav\">\\n                    <li class=\"nav-item\" style=\"text-align: left\">\\n                        <div class=\"flex\" style=\"background-color: #fafafa; padding: 0.25rem 0.5rem\">\\n                            <div class=\"flex as-content\"\\n                                 style=\"width: 50%; align-items: center; font-size: 0.9rem;\">${config.strings[\\'language\\'].capitalize()}\\n                                :\\n                            </div>\\n                            <div class=\"flex fit-rest\" style=\"align-items: center; justify-content: center\" id=\"lang-button-place\">\\n                            </div>\\n                        </div>\\n                    </li>\\n                    <li class=\"nav-item\" style=\"text-align: left\">\\n                        <div class=\"flex\" style=\"background-color: #fafafa;     padding: 0.5rem 0.5rem;\\n    border-top: 1px solid #ddd;\">\\n                            <div class=\"flex fit-rest\">\\n                                <div class=\"flex as-content\"\\n                                     style=\"width: 50%; align-items: center; font-size: 0.9rem;\">${config.strings[\\'text_size\\'].capitalize()}\\n                                    :\\n                                </div>\\n                                <div class=\"flex fit-rest\">\\n                                    <div class=\"flex fit-rest\" style=\"align-items: center; justify-content: center\">\\n                                        <div class=\"btn-size btn-size-dec\">-</div>\\n                                    </div>\\n                                    <div class=\"flex as-content\" id=\"text-size-label\"\\n                                         style=\"align-items: center; font-size: 0.9rem;\">100%\\n                                    </div>\\n                                    <div class=\"flex fit-rest\" style=\"align-items: center; justify-content: center\">\\n                                        <div class=\"btn-size btn-size-inc\">+</div>\\n                                    </div>\\n                                </div>\\n                            </div>\\n                        </div>\\n                    </li>\\n                </ul>\\n            </div>            \\n            `;\\n            controlsWrapper.querySelector(\\'#lang-button-place\\').append(languageButton);\\n\\n            menuButton.addEventListener(\\'click\\', (e) => {\\n                e.preventDefault();\\n                e.stopPropagation();\\n\\n                if (controlsWrapper.classList.contains(\\'h\\')) {\\n                    controlsWrapper.classList.remove(\\'h\\');\\n                } else {\\n                    controlsWrapper.classList.add(\\'h\\');\\n                }\\n            });\\n        }\\n\\n        if (input) {\\n\\n            let copyBlock = document.createElement(\\'div\\');\\n            copyBlock.classList.add(\\'h\\');\\n            copyBlock.style.width = input.getBoundingClientRect().width + \\'px\\';\\n            copyBlock.style.fontSize = \\'1rem\\';\\n            inputField.append(copyBlock);\\n\\n            autocompleteInputWrapper = document.createElement(\\'div\\');\\n            autocompleteInputWrapper.style.position = \\'absolute\\';\\n            autocompleteInputWrapper.style.zIndex = \\'10000\\';\\n            if (config.is_mobile) {\\n                autocompleteInputWrapper.style.display = \\'flex\\';\\n            }\\n\\n            // let autocompleteInput =\\n            let autocompleteInput = document.createElement(\\'input\\');\\n            autocompleteInput.classList.add(\\'autocomplete-place\\', \\'hidden\\');\\n            autocompleteInputWrapper.append(autocompleteInput);\\n            document.body.append(autocompleteInputWrapper);\\n\\n            config.search = new AutoComplete(\\'.autocomplete-place\\');\\n\\n            updateAutocomplete();\\n\\n            let inputClick = () => {\\n                if (config.is_mobile && input.value) {\\n                    inputTextArea.value = input.value;\\n                    inputTextArea.classList.remove(\\'h\\');\\n                    inputTextArea.focus();\\n                    if (clearQueryButton) {\\n                        clearQueryButton.classList.remove(\\'h\\');\\n                    }\\n                }\\n\\n                let caretPostion = getCaretPosition(input);\\n                if (caretPostion === input.value.length) {\\n                    openSuggestsOnInput(autocompleteInput, input.value);\\n                }\\n\\n                if (config.is_mobile && input.value) {\\n                    input.classList.add(\\'h\\');\\n                    updateTextArea(copyBlock);\\n                }\\n            }\\n\\n            input.addEventListener(\\'click\\', inputClick);\\n            // inputTextArea.addEventListener(\\'click\\', inputClick);\\n\\n            if (config.is_mobile) {\\n                inputTextArea.addEventListener(\\'input\\', () => {\\n                    input.value = inputTextArea.value;\\n                    updateTextArea(copyBlock);\\n                    config.query = input.value;\\n                    updateAutocomplete();\\n                    openSuggestsOnInput(autocompleteInput, input.value);\\n                });\\n\\n                inputTextArea.addEventListener(\\'keydown\\', (e) => {\\n                    if (e.key === \\'Enter\\') {\\n                        e.preventDefault();\\n                        changeLocation();\\n                    }\\n                });\\n            }\\n\\n            input.addEventListener(\\'input\\', () => {\\n                config.query = input.value;\\n                openSuggestsOnInput(autocompleteInput, input.value);\\n\\n                // show clear button\\n                if (clearQueryButton && clearQueryButton.classList.contains(\\'h\\') && input.value) {\\n                    clearQueryButton.classList.remove(\\'h\\');\\n                }\\n            });\\n\\n            input.addEventListener(\\'keydown\\', (e) => {\\n                if (e.key === \\'Enter\\') {\\n                    e.preventDefault();\\n                    changeLocation();\\n                }\\n            });\\n\\n            if (!config.is_mobile) {\\n                input.focus();\\n                const length = input.value.length;\\n                input.setSelectionRange(length, length);\\n            }\\n\\n        }\\n\\n        if (filter) {\\n            filter.dataset.toggle = \\'popover\\';\\n            filter.dataset.placement = \\'top\\';\\n            filter.dataset.message = config.strings[\\'filter_finer_tooltip_message\\'];\\n        }\\n\\n        if (submit) {\\n            submit.addEventListener(\\'click\\', () => {\\n                let href = buildSearchUrl(navigation.input.value, true);\\n                submit.dataset.href = href;\\n                gTagLink(submit).then(() => {\\n                    if (href && href.length) {\\n                        link(href, false);\\n                        spanClicked = false;\\n                    }\\n                });\\n            });\\n        }\\n\\n        if (direction) {\\n\\n            let swapBtn = direction.querySelector(\\'.dir-switch\\');\\n            swapBtn.addEventListener(\\'click\\', (e) => {\\n                e.preventDefault();\\n                e.stopPropagation();\\n                clear();\\n                swapLanguages();\\n                update();\\n                gtag(\\'event\\', \\'click\\', {\\n                    \\'event_category\\': \\'Direction reverse\\',\\n                    \\'event_label\\': document.location.href,\\n                });\\n            });\\n\\n            let ddSBtn = direction.querySelector(\\'.dd-s\\');\\n            ddSBtn.addEventListener(\\'click\\', (e) => {\\n                e.preventDefault();\\n                e.stopPropagation();\\n                clear();\\n                ddS.dataset.type = \\'s\\';\\n                renderDropDown(ddS, \\'s\\');\\n\\n                if (config.is_mobile) {\\n                    showMobileDropDown(ddS);\\n                    return;\\n                }\\n\\n                ddS.show(ddSBtn);\\n            });\\n\\n            let ddTBtn = direction.querySelector(\\'.dd-t\\');\\n            ddTBtn.addEventListener(\\'click\\', (e) => {\\n                e.preventDefault();\\n                e.stopPropagation();\\n                clear();\\n                ddT.dataset.type = \\'t\\';\\n                renderDropDown(ddT, \\'t\\');\\n\\n                if (config.is_mobile) {\\n                    showMobileDropDown(ddT);\\n                    return;\\n                }\\n\\n                ddT.show(ddTBtn);\\n            });\\n        }\\n\\n        languageButton.addEventListener(\\'click\\', (e) => {\\n            e.preventDefault();\\n            e.stopPropagation();\\n            clear();\\n\\n            if (config.is_mobile) {\\n                showMobileDropDown(ddL);\\n                return;\\n            }\\n\\n            ddL.show(languageButton);\\n        });\\n\\n        if (!config.is_mobile) {\\n            isRealScroll = true;\\n        } else {\\n            document.addEventListener(\\'touchstart\\', () => {\\n                isRealScroll = true;\\n            });\\n\\n            document.addEventListener(\\'mousedown\\', () => {\\n                isRealScroll = true;\\n            });\\n\\n            document.addEventListener(\\'mouseup\\', () => {\\n                isRealScroll = false;\\n            });\\n\\n            document.addEventListener(\\'touchend\\', () => {\\n                isRealScroll = false;\\n            });\\n\\n            let t = -1;\\n            let updateWheelTimer = () => {\\n                if (t > -1) {\\n                    clearTimeout(t);\\n                }\\n                t = setTimeout(() => {\\n                    isRealScroll = false;\\n                }, 300);\\n            };\\n\\n            window.addEventListener(\"wheel\", () => {\\n                isRealScroll = true;\\n                updateWheelTimer();\\n            });\\n        }\\n\\n        window.addEventListener(\\'scroll\\', updateNavigation);\\n    };\\n\\n    let value = () => {\\n        return input.value;\\n    };\\n\\n    return {\\n        init: init,\\n        update: update,\\n        clear: clear,\\n        value: value,\\n        updateAutocomplete: updateAutocomplete,\\n        input: input,\\n        direction: direction,\\n        inputWrapper: inputWrapper,\\n        header: header,\\n        form: form\\n    }\\n}();\\nfunction link(href, blank = false) {\\n    if (blank) {\\n        let link = document.createElement(\\'a\\');\\n        link.setAttribute(\\'href\\', href);\\n        link.setAttribute(\\'target\\', \\'_blank\\');\\n        link.setAttribute(\\'id\\', \\'_open_new_tab\\');\\n        document.body.appendChild(link);\\n        document.getElementById(\\'_open_new_tab\\').click();\\n        link.remove();\\n    } else {\\n        window.location.href = href;\\n    }\\n}\\n\\nfunction parseJailParam(paramName) {\\n    let jail_index = document.location.href.lastIndexOf(\\'#\\');\\n    if (jail_index > 0) {\\n        let filter = document.location.href.substring(jail_index + 1);\\n        let filterDecode = decodeURI(filter);\\n        if (filterDecode.lastIndexOf(paramName + \\':\\') !== 0) {\\n            return \\'\\';\\n        }\\n\\n        filterDecode = filterDecode.replace(paramName + \\':\\', \\'\\');\\n\\n        return filterDecode;\\n    }\\n    return \\'\\';\\n}\\n\\nfunction getJailQuery() {\\n    return parseJailParam(\\'translation\\');\\n}\\n\\nlet api = new Api();\\n\\nfunction sendStat(method, cat1 = \\'\\', cat2 = \\'\\', cat3 = \\'\\') {\\n    let ref = getJailQuery();\\n\\n    let wrapfabtest = document.getElementById(\\'wrapfabtest\\');\\n    let test = !(wrapfabtest && wrapfabtest.getBoundingClientRect().height > 0);\\n\\n    // noinspection JSUnresolvedVariable\\n    let ua = navigator.userAgent || navigator.vendor || window.opera;\\n\\n    let info = {\\n        adb: test,\\n        noi: config.noindex,\\n        can: !(config.canonical.length === 0),\\n        ur: document.referrer,\\n        u: document.location.href,\\n        res: [screen.width, screen.height],\\n        res2: [window.innerWidth, window.innerHeight],\\n        ua: ua,\\n        is: config.is,\\n        dc: config.dc,\\n        dcpt: config.dcpt,\\n        dop: config.dop,\\n        tm: config.translation_method,\\n        cma: config.cma,\\n        aa: config.allow_ads,\\n        ric: document.getElementsByClassName(\\'context-examples-wrapper\\').length > 0,\\n        ricc: document.getElementsByClassName(\\'context-example\\').length,\\n        rc: config.rc,\\n        cat1: cat1,\\n        cat2: cat2,\\n        cat3: cat3\\n    };\\n\\n    let q = config.query;\\n    if (q === \\'\\') {\\n        q = \\'NO_QUERY\\';\\n    }\\n\\n    let uri = \\'/\\' + method + \\'/\\' + config.from + \\'-\\' + config.to + \\'/\\' +\\n        q + \\'?r=\\' + ref + \\'&i=\\' + JSON.stringify(info).b64e();\\n    api.call(uri).then(() => {\\n    });\\n}\\n\\nlet tokenChecked = false;\\n\\nfunction checkToken() {\\n    if (tokenChecked) {\\n        return false;\\n    }\\n    tokenChecked = true;\\n\\n    sendStat(\\'check_token\\');\\n}\\n\\nlet submitChecked = false;\\n\\nfunction checkSubmit() {\\n    if (submitChecked) {\\n        return false;\\n    }\\n    submitChecked = true;\\n\\n    sendStat(\\'check_submit\\');\\n}\\n\\nlet changeLocationCalled = false;\\n\\nfunction changeLocation(skipSendEvent = false) {\\n    if (!changeLocationCalled) {\\n        changeLocationCalled = true;\\n        if (config.action === \\'translation\\') {\\n            let label = config.query;\\n            label += \\'|\\' + window.location.href;\\n\\n            if (!skipSendEvent) {\\n                let gTagLinkLabel = \\'Search Input Submit\\';\\n                gtag(\\'event\\', \\'click\\', {\\n                    \\'event_category\\': gTagLinkLabel,\\n                    \\'event_label\\': label\\n                });\\n\\n                if (config.action === \\'translation\\') {\\n                    sendStat(\\'a_click\\', \\'a_click\\', gTagLinkLabel, label);\\n                }\\n            }\\n\\n            checkSubmit();\\n        }\\n    }\\n\\n    let uri = buildSearchUrl(config.query, true);\\n    uri = uri.replaceAll(\\'%20\\', \\'+\\');\\n    window.location = uri;\\n}\\n\\nfunction gTagLink(linkNode) {\\n\\n    let el = linkNode;\\n    el.hasClass = (className) => {\\n        return el.classList.contains(className);\\n    };\\n    let href = el.getAttribute(\\'data-href\\') || el.getAttribute(\\'href\\');\\n    let gTagLinkLabel = \\'\\';\\n\\n    if (el.id === \\'btn-prev-page-float\\') {\\n        gTagLinkLabel = \\'Previous Page (Contexts)\\';\\n    }\\n    if (el.id === \\'btn-next-page-float\\') {\\n        gTagLinkLabel = \\'Next Page (Contexts)\\';\\n    }\\n    if (el.id === \\'btn-prev-page\\') {\\n        gTagLinkLabel = \\'Previous Page\\';\\n    }\\n    if (el.id === \\'btn-next-page\\') {\\n        gTagLinkLabel = \\'Next Page\\';\\n    }\\n    if (el.hasClass(\\'context-reverse-button\\')) {\\n        gTagLinkLabel = \\'Reverse context mob button\\';\\n    }\\n    if (el.hasClass(\\'source-url\\')) {\\n        gTagLinkLabel = \\'Outbound Link\\';\\n    }\\n    if (el.closest(\\'.related-translations\\')) {\\n        if (el.closest(\\'#related-keywords\\')) {\\n            gTagLinkLabel = \\'Examples Target Link\\';\\n        } else {\\n            gTagLinkLabel = \\'See Also Target Link\\';\\n        }\\n    } else if (el.closest(\\'.related\\')) {\\n        if (el.closest(\\'#related-keywords\\')) {\\n            gTagLinkLabel = \\'Examples Source Link\\';\\n        } else {\\n            gTagLinkLabel = \\'See Also Source Link\\';\\n        }\\n    }\\n    if (el.classList.contains(\\'other\\')) {\\n        gTagLinkLabel = \\'Others Link\\';\\n    }\\n    if (el.classList.contains(\\'synonym\\')) {\\n        gTagLinkLabel = \\'Synonym Link\\';\\n    }\\n    if (el.hasClass(\\'ctx-link\\') && el.closest(\\'.stc-t\\')) {\\n        gTagLinkLabel = \\'Context Target Link\\';\\n    }\\n    if (el.hasClass(\\'ctx-lin\\') && el.closest(\\'.stc-s\\')) {\\n        gTagLinkLabel = \\'Context Source Link\\';\\n    }\\n    if (el.hasClass(\\'query-translation\\')) {\\n        gTagLinkLabel = \\'Translation Link\\';\\n    }\\n    if (el.hasClass(\\'translation-reversed\\')) {\\n        gTagLinkLabel = \\'Synonym Link\\';\\n    }\\n    if (el.hasClass(\\'queries-link\\')) {\\n        gTagLinkLabel = \\'Queries Link\\';\\n    }\\n    if (el.hasClass(\\'text-selection-link\\')) {\\n        gTagLinkLabel = \\'Context Selection: Lookup For Link\\';\\n    }\\n    if (el.hasClass(\\'text-selection-more\\')) {\\n        gTagLinkLabel = \\'Context Selection: More Link\\';\\n    }\\n    if (el.hasClass(\\'text-selection-translation-link\\')) {\\n        gTagLinkLabel = \\'Context Selection: Translation Link\\';\\n    }\\n    if (el.hasClass(\\'selected-translation\\')) {\\n        gTagLinkLabel = \\'Selected translation\\';\\n    }\\n    if (el.hasClass(\\'selected-translation-tr\\')) {\\n        gTagLinkLabel = \\'Selected translation translation\\';\\n    }\\n    if (el.hasClass(\\'span-link-gray\\')) {\\n        gTagLinkLabel = \\'Gray link click\\';\\n    }\\n    if (el.hasClass(\\'text-selection-button\\')) {\\n        gTagLinkLabel = \\'Lookup For Click\\';\\n    }\\n    if (el.hasClass(\\'context-example\\')) {\\n        gTagLinkLabel = \\'Example in context\\';\\n    }\\n    if (el.hasClass(\\'app-banner-small-button\\')) {\\n        gTagLinkLabel = \\'App banner small download\\';\\n    }\\n    if (el.hasClass(\\'app-banner-small-button-2\\')) {\\n        gTagLinkLabel = \\'App banner big download\\';\\n    }\\n    if (el.hasClass(\\'android-badge-link\\')) {\\n        gTagLinkLabel = \\'Android badge link\\' + ` [${config.action}]`;\\n    }\\n    if (el.hasClass(\\'mobile-search-back-button\\')) {\\n                                gTagLinkLabel = \\'Search back button\\';\\n    }\\n    if (el.closest(\\'.submit\\')) {\\n        gTagLinkLabel = \\'Search button\\';\\n    }\\n    if (el.hasClass(\\'scrollable-translation\\') || el.parentNode.classList.contains(\\'scrollable-translation\\')) {\\n        gTagLinkLabel = \\'Scrollable translation\\';\\n    }\\n    if (gTagLinkLabel.length && href && href.length) {\\n\\n        if (config.action === \\'translation\\' || el.hasClass(\\'android-badge-link\\')) {\\n            sendStat(\\'a_click\\', \\'a_click\\', gTagLinkLabel, href);\\n        }\\n\\n        return new Promise((resolve) => {\\n            gtag(\\'event\\', \\'click\\', {\\n                \\'event_category\\': gTagLinkLabel,\\n                \\'event_label\\': href,\\n                \\'event_callback\\': () => {\\n                }\\n            });\\n            resolve();\\n        });\\n    } else {\\n        if (config.action === \\'translation\\') {\\n            sendStat(\\'a_click\\', \\'a_click\\', \\'No label or href\\');\\n        }\\n        return new Promise((resolve) => {\\n            resolve();\\n        });\\n    }\\n}\\n\\nfunction buildSearchUrl(q, isSubmit = false) {\\n\\n    if (q !== q.toUpperCase()) {\\n        q = q.toLowerCase();\\n    }\\n\\n    q = encodeURIComponent(q);\\n    q = q.replaceAll(\\'%20\\', \\'+\\');\\n\\n    let method = config.strings[\\'method_word_translation\\'];\\n    let from = config.strings[\\'lang.\\' + config.from].replace(\\' \\', \\'+\\');\\n    let to = config.strings[\\'lang.\\' + config.to].replace(\\' \\', \\'+\\');\\n    let uri = \\'/\\' + method + \\'/\\' + from + \\'-\\' + to + \\'/\\' +\\n        (config.action === \\'translation_test\\' ? \\'search/\\' : \\'\\') +\\n        (config.action === \\'translation_test_new\\' ? \\'search_new/\\' : \\'\\') +\\n        q.split(\\' \\').join(\\'+\\');\\n    if (isSubmit && !isBot()) {\\n        uri += (\\'?search=\\' + q);\\n    }\\n    uri = uri.replaceAll(\\'\\\\n\\', \\' \\').trim();\\n    return uri;\\n}\\n\\nfunction openSuggestsOnInput(input, new_value = \\'\\') {\\n    input.contentEditable = \\'true\\';\\n\\n    let val = input.value;\\n    let ev = new Event(\\'input\\', {bubbles: true});\\n\\n    if (new_value === val) {\\n        input.value = val + \" \";\\n        input.defaultValue = val + \" \";\\n        input.dispatchEvent(ev);\\n    }\\n\\n    input.value = new_value;\\n    input.defaultValue = new_value;\\n    input.dispatchEvent(ev);\\n}\\n\\nfunction copyText(text) {\\n\\n\\n    try {\\n\\n        navigator.clipboard.writeText(text).then(function () {\\n            console.log(\\'Async: Copying to clipboard was successful!\\');\\n        }, function (err) {\\n            console.error(\\'Async: Could not copy text: \\', err);\\n        });\\n\\n        return new Promise((resolve) => {\\n            resolve();\\n        });\\n\\n    } catch (err) {\\n        console.log(\\'Copy to clipboard fail! Unsupported Browser!\\');\\n    }\\n\\n    return false;\\n}\\n\\nfunction makeDialog() {\\n    let dialog = null;\\n    let message = null;\\n    let urlInput = null;\\n    let header = null;\\n\\n    let showElement = function (element) {\\n        let dialogElement = dialog.querySelector(\\'.share-dialog\\');\\n        dialogElement.innerHTML = \\'\\';\\n        dialogElement.append(element);\\n        dialog.classList.remove(\\'hidden\\');\\n    };\\n\\n    let showCustom = function (\\n        url, headerText, messageText = \\'Click to copy link\\') {\\n        urlInput.value = url;\\n        message.innerText = messageText;\\n        header.innerText = headerText;\\n        dialog.classList.remove(\\'hidden\\');\\n    };\\n\\n    let show = function (url) {\\n        urlInput.value = url;\\n\\n        if (navigator.share) {\\n            navigator.share({\\n                title: \\'\\',\\n                url: url\\n            }).then(() => {\\n                console.log(\\'Thanks for sharing!\\');\\n            }).catch(console.error);\\n        } else {\\n            // shareDialog.classList.add(\\'is-open\\');\\n            dialog.classList.remove(\\'hidden\\');\\n            message.innerText = \\'Click to copy link to these sentences\\';\\n        }\\n    };\\n\\n    let hide = function () {\\n        if (dialog) {\\n            dialog.classList.add(\\'hidden\\');\\n        }\\n    };\\n\\n    let init = function () {\\n        dialog = document.createElement(\\'div\\');\\n        dialog.classList.add(\\'share-dialog-wrapper\\', \\'hidden\\');\\n        document.body.append(dialog);\\n\\n        dialog.innerHTML = `\\n<!--suppress HtmlRequiredAltAttribute -->\\n<div class=\"share-dialog\">\\n    <div class=\"header\">\\n      <h3 class=\"dialog-title\">Share</h3>\\n      <button class=\"main-button close-button\" style=\"position: relative\">\\n        <svg class=\"svg-main\" style=\"\\n    top: -0.2rem;\\n    position: absolute;\\n    right: -0.2rem;\\n\">\\n          <use href=\"#close\"></use>\\n        </svg>\\n      </button>\\n    </div>\\n    <div class=\"message\"></div>\\n    <div class=\"link\">\\n      <input class=\"pen-url\" type=\"text\" value=\"\"/>\\n      <button class=\"main-button copy-link\">\\n        <!--suppress HtmlUnknownTarget -->\\n        <img src=\"/img/material-icons/svg/link/baseline.svg\">\\n      </button>\\n    </div>\\n  </div>\\n<svg class=\"svg-main hidden\">\\n    <defs>\\n      <symbol id=\"close\" viewBox=\"0 0 24 24\" fill=\"none\" stroke=\"currentColor\" stroke-width=\"2\" stroke-linecap=\"round\"\\n              stroke-linejoin=\"round\" class=\"feather feather-x-square\">\\n        <rect x=\"3\" y=\"3\" width=\"18\" height=\"18\" rx=\"2\" ry=\"2\"></rect>\\n        <line x1=\"9\" y1=\"9\" x2=\"15\" y2=\"15\"></line>\\n        <line x1=\"15\" y1=\"9\" x2=\"9\" y2=\"15\"></line>\\n      </symbol>\\n    </defs>\\n</svg>\\n`;\\n\\n        const closeButton = dialog.querySelector(\\'.close-button\\');\\n        const copyLink = dialog.querySelector(\\'.copy-link\\');\\n        urlInput = dialog.querySelector(\\'.pen-url\\');\\n        message = dialog.querySelector(\\'.message\\');\\n\\n        header = dialog.querySelector(\\'.dialog-title\\');\\n\\n        closeButton.addEventListener(\\'click\\', event => {\\n            event.stopPropagation();\\n            dialog.classList.remove(\\'is-open\\');\\n            this.hide();\\n        });\\n\\n        dialog.addEventListener(\\'click\\', () => {\\n            this.hide();\\n        });\\n\\n        let copyFunction = event => {\\n            event.stopPropagation();\\n            let copyPromise = copyText(urlInput.value);\\n            if (copyPromise) {\\n                copyPromise.then(() => {\\n                    message.innerText = \\'Link copied\\';\\n                    urlInput.focus();\\n                    urlInput.select();\\n                });\\n            }\\n        };\\n\\n        copyLink.addEventListener(\\'click\\', copyFunction);\\n        urlInput.addEventListener(\\'click\\', copyFunction);\\n    };\\n\\n    let getDialog = function () {\\n        return dialog.querySelector(\\'.share-dialog\\');\\n    };\\n\\n    let getWrapper = function () {\\n        return dialog;\\n    };\\n\\n    return {\\n        getDialog: getDialog,\\n        getWrapper: getWrapper,\\n        show: show,\\n        hide: hide,\\n        init: init,\\n        showCustom: showCustom,\\n        showElement: showElement\\n    };\\n}\\n\\nlet selectDialog = makeDialog();\\n\\n(function (code) {\\n\\n    code(window, document);\\n\\n}(() => {\\n\\n    // The $ is now locally scoped\\n    // The DOM is ready\\n    ready(() => {\\n        navigation.init();\\n    })\\n}));    </script>\\n<div class=\"desktop\">\\n    <a href=\"javascript:\" id=\"return-to-top\">\\n        <img src=\"https://st.tr-ex.me/img/material-icons/svg/arrow_upward/baseline.svg\" width=\"24\" height=\"24\" style=\"filter: invert(1)\">\\n    </a>\\n</div>\\n<div class=\"alerts\">\\n    <div id=\"cookie-alert\" class=\"trex-alert alert alert-primary alert-dismissable\" style=\"display: none\">\\n  <b>Notice</b>\\n  <br>\\n  This website or its third-party tools use cookies, which are necessary to its functioning <div class=\"hidden cookie-alert-hidden\">and required to achieve\\n  the purposes illustrated in the cookie policy. If you want to know more or withdraw\\n  your consent to all or some of the cookies, please refer to the <span class=\"span-link\" data-href=\"/privacy\">cookie policy</span>.\\n  <br>\\n  By closing this banner, scrolling this page, clicking a link or continuing to browse otherwise, you agree to the use\\n  of cookies.</div>\\n  <button id=\"show-cookie-alert-hidden\" class=\"btn btn-secondary\">More</button>\\n  <button id=\"close-cookie-alert\" class=\"btn btn-primary\" data-dismiss=\"alert\">OK</button>\\n</div>    <div id=\"opt-out-alert\" class=\"trex-alert alert alert-primary alert-dismissable\" style=\"display: none\">\\n    <b>Opt-Out of the sale of personal information</b>\\n    <br>\\n    We won\\'t sell your personal information to inform the ads you see. You may still see interest-based ads if your\\n    information is sold by other companies or was sold previously.\\n<button id=\"opt-out-ok\" class=\"btn btn-primary\">Opt-Out</button>\\n<button id=\"opt-out-dismiss\" class=\"btn btn-primary\">Dismiss</button>\\n</div></div>\\n    <div id=\"tooltips\"></div>\\n    <!-- Google Tag Manager -->\\n    <script>(function (w, d, s, l, i) {\\n            w[l] = w[l] || [];\\n            w[l].push({\\n                \\'gtm.start\\':\\n                    new Date().getTime(), event: \\'gtm.js\\',\\n            });\\n            let f = d.getElementsByTagName(s)[0],\\n                j = d.createElement(s), dl = l !== \\'dataLayer\\' ? \\'&l=\\' + l : \\'\\';\\n            j.async = true;\\n            j.src =\\n                \\'https://www.googletagmanager.com/gtm.js?id=\\' + i + dl;\\n            f.parentNode.insertBefore(j, f);\\n        })(window, document, \\'script\\', \\'dataLayer\\', \\'GTM-57H7CR6\\');</script>\\n    <!-- End Google Tag Manager -->\\n\\n    <!-- Google Tag Manager (noscript) -->\\n    <noscript>\\n        <iframe src=\"https://www.googletagmanager.com/ns.html?id=GTM-57H7CR6\"\\n                height=\"0\" width=\"0\" style=\"display:none;visibility:hidden\"></iframe>\\n    </noscript>\\n    <!-- End Google Tag Manager (noscript) -->\\n\\n    <!-- Global site tag (gtag.js) - Google Analytics -->\\n</body>\\n</html>'"
      ]
     },
     "execution_count": 4,
     "metadata": {},
     "output_type": "execute_result"
    }
   ],
   "source": [
    "requests.get(URL, {}).text"
   ]
  },
  {
   "cell_type": "code",
   "execution_count": 5,
   "metadata": {
    "id": "l2xmEoZf5cSX"
   },
   "outputs": [],
   "source": [
    "web_page = bs4.BeautifulSoup(requests.get(URL, {}).text, \"lxml\")\n",
    "#Full html on web page\n",
    "#web_page"
   ]
  },
  {
   "cell_type": "markdown",
   "metadata": {
    "id": "X4_pJ_h-uOIO"
   },
   "source": [
    "## End to end word Vocabs Meaning"
   ]
  },
  {
   "cell_type": "code",
   "execution_count": 6,
   "metadata": {
    "id": "_pmVQrQtuS0O"
   },
   "outputs": [],
   "source": [
    "ID_Vocab = \"makan\"\n",
    "ID_Vocab = ID_Vocab.lower()"
   ]
  },
  {
   "cell_type": "code",
   "execution_count": 7,
   "metadata": {
    "id": "V1bZ6b-FuV7-"
   },
   "outputs": [],
   "source": [
    "#Search the div\n",
    "r = requests.get(\"https://tr-ex.me/translation/indonesian-english/\" + ID_Vocab)\n",
    "c = r.content\n",
    "from bs4 import BeautifulSoup"
   ]
  },
  {
   "cell_type": "code",
   "execution_count": 8,
   "metadata": {
    "colab": {
     "base_uri": "https://localhost:8080/"
    },
    "id": "mv41c9N29edb",
    "outputId": "3e428290-b891-4451-ce1e-c31501ee1ce4"
   },
   "outputs": [
    {
     "data": {
      "text/plain": [
       "['eat', 'meal', 'food', 'consume', 'feed']"
      ]
     },
     "execution_count": 8,
     "metadata": {},
     "output_type": "execute_result"
    }
   ],
   "source": [
    "soup = BeautifulSoup(c)\n",
    "main_content = soup.find_all('span', attrs = {'class': 'text'})\n",
    "main_content = str(main_content)\n",
    "result_vocab = re.sub('<.*?>', '', main_content)\n",
    "\n",
    "result_vocab = result_vocab.replace(\"[\",\"\")\n",
    "result_vocab = result_vocab.replace(\"]\",\"\")\n",
    "result_vocab = result_vocab.split(\",\")\n",
    "\n",
    "result_vocab = [x.strip(' ') for x in result_vocab]\n",
    "\n",
    "if 'indonesian' in result_vocab: result_vocab.remove('indonesian')\n",
    "if 'english' in result_vocab: result_vocab.remove('english')\n",
    "\n",
    "result_vocab[0:5]"
   ]
  },
  {
   "cell_type": "markdown",
   "metadata": {
    "id": "NRJ17jH9tPS1"
   },
   "source": [
    "## End to end word Context"
   ]
  },
  {
   "cell_type": "code",
   "execution_count": 9,
   "metadata": {
    "id": "nU4k9i8HtRo1"
   },
   "outputs": [],
   "source": [
    "ID_Vocab = \"makan\"\n",
    "ID_Vocab = ID_Vocab.lower()"
   ]
  },
  {
   "cell_type": "code",
   "execution_count": 10,
   "metadata": {
    "id": "RFynwMkCMRKS"
   },
   "outputs": [],
   "source": [
    "#Search the div\n",
    "r = requests.get(\"https://tr-ex.me/translation/indonesian-english/\" + ID_Vocab)\n",
    "c = r.content\n",
    "from bs4 import BeautifulSoup\n",
    "\n",
    "soup = BeautifulSoup(c)\n",
    "main_content = soup.find_all('div', attrs = {'class': 'm'})"
   ]
  },
  {
   "cell_type": "code",
   "execution_count": 11,
   "metadata": {
    "id": "hSy7tMKc5go6"
   },
   "outputs": [],
   "source": [
    "main_content = str(main_content)\n",
    "\n",
    "main_content = main_content.partition('\\n')[0]\n",
    "Result = re.sub('<.*?>', '', main_content)\n",
    "\n",
    "Result = Result.replace('\"',\"\")\n",
    "Result = Result.replace('”',\"\")\n",
    "Result = Result.split(\"!|?|.\")"
   ]
  },
  {
   "cell_type": "code",
   "execution_count": 12,
   "metadata": {
    "id": "UkEpg3ao8PUN"
   },
   "outputs": [],
   "source": [
    "Result_Context = \"\".join(Result)\n",
    "Result_Context = Result_Context.replace(']',\"\")\n",
    "Result_Context = Result_Context.replace('[',\"\")"
   ]
  },
  {
   "cell_type": "code",
   "execution_count": 13,
   "metadata": {
    "colab": {
     "base_uri": "https://localhost:8080/",
     "height": 145
    },
    "id": "yJbMuKX4-wzM",
    "outputId": "cd5eaae7-52bf-4069-b7c3-f11b7035014b"
   },
   "outputs": [
    {
     "data": {
      "text/plain": [
       "\"Satu-satunya waktu makan Kanada bacon Kanada adalah ketika mereka berada di Amerika Serikat., The just time the Canadian consumes Canadian sausage is once they are in the usa., Direkturnya selalu makan di restoran ibuku dan dia suka steaknya., Plus the director dines in my mom's restaurant and he loves the prime rib., Hari kedua: Makan semua jenis sayuran segar sebaiknya yang alami., Day 2: Consumes all kinds of fresh vegetables preferably raw., Dia makan di sini sepanjang masa.., She dines here all the time.., Anak Anda mungkin salah satu dari mereka yang hanya makan beberapa makanan., Your youngster might be one of those who only consumes a few meals., Makan di restoran adalah hal yang boros., Dinners at restaurant is something I do alot., Ada beberapa kekurangan saat seseorang makan Viagra., There are some disadvantages when a person consumes Viagra., Menjadikan acara makan keluarga semakin seru., Event family dinners are getting faster., Presiden Perancis makan di situ., The President of France dines there., Mengambil langkah berikutnya dan paket di penginapan dan makan dan mungkin aktivitas ketiga., Make the following stride and bundle in hotel and dinners and perhaps a third action., Di malam hari kelompok mahasiswa makan di sebuah restoran di Fisherman's Wharf., In the evening the student group dines in a restaurant at Fishermen's Wharf., Bisa Anda bayangkan biaya untuk keluarga makan di sini?, Can you imagine family dinners here?, Siapa berani makan di restoran-restoran ini?, Who dines at this restaurant?, Di malam hari kelompok mahasiswa makan di sebuah restoran di Fisherman's Wharf., In the evening the student group dines at a restaurant on Fishermen's Wharf., Dia memberi tahu Anda betapa cantiknya Anda dan anggur serta makan Anda., He tells you how beautiful you are and wines and dines you., Mayor Daley tidak lagi makan disini., Mayor Daley no longer dines here., Hampir tiap minggu dia selalu makan di sini., He usually dines here every other week., Tidak tuan. Mayor Daley tidak lagi makan disini., No sir. Mayor Daley no longer dines here., Uang makan dan transport., FOOD AND WATER., Kamu bisa makan itu!, YOU CAN EAT THAT!, Makan untuk Kesehatan dan Hidup!, EAT IN for health and happiness!, Silakan makan sesuatu., PLEASE EAT SOMETHING., Lucuuu sekali melihat mereka makan!, It sure was good to see them EAT!, Mereka keturunan separuh hewan Yang memperkosa dan makan ibu mereka sendiri., THEY ARE A SPOILED BLOODLINE OF INBRED ANIMALS WHO RAPE AND EAT THEIR OWN MOTHERS., Kalau kami semua bisa makan., Then we can all EAT., Kekenyangan bukan datang dari apa yang kita makan., Fulfillment doesn't come from what you EAT., Tetapi hal itu akan makan waktu., But that will EAT time., Hal yang pertama yang kami lakukan adalah makan., First thing we did was EAT., Mereka biasanya datang hanya untuk numpang makan!, They usually just come for FOOD!, Bagi banyak orang ini berarti mengubah segala sesuatu tentang cara mereka makan., For many this means changing the way YOU EAT.\""
      ]
     },
     "execution_count": 13,
     "metadata": {},
     "output_type": "execute_result"
    }
   ],
   "source": [
    "Result_Context"
   ]
  },
  {
   "cell_type": "code",
   "execution_count": 14,
   "metadata": {
    "id": "q1xkvfN0-SSG"
   },
   "outputs": [],
   "source": [
    "List_Result_Context = list(Result_Context.split(\".,\"))"
   ]
  },
  {
   "cell_type": "code",
   "execution_count": 15,
   "metadata": {
    "colab": {
     "base_uri": "https://localhost:8080/"
    },
    "id": "MRqjhLDz-ybk",
    "outputId": "93004be5-7aa4-4484-9628-dcafcb0f0b3a"
   },
   "outputs": [
    {
     "data": {
      "text/plain": [
       "['Satu-satunya waktu makan Kanada bacon Kanada adalah ketika mereka berada di Amerika Serikat',\n",
       " ' The just time the Canadian consumes Canadian sausage is once they are in the usa',\n",
       " ' Direkturnya selalu makan di restoran ibuku dan dia suka steaknya',\n",
       " \" Plus the director dines in my mom's restaurant and he loves the prime rib\",\n",
       " ' Hari kedua: Makan semua jenis sayuran segar sebaiknya yang alami']"
      ]
     },
     "execution_count": 15,
     "metadata": {},
     "output_type": "execute_result"
    }
   ],
   "source": [
    "List_Result_Context[0:5]"
   ]
  },
  {
   "cell_type": "code",
   "execution_count": 16,
   "metadata": {
    "id": "UgDSYM-t2gXu"
   },
   "outputs": [],
   "source": [
    "#Result= [s.replace(\"[\", \"\") for s in list_of_strings]"
   ]
  },
  {
   "cell_type": "code",
   "execution_count": 18,
   "metadata": {
    "colab": {
     "base_uri": "https://localhost:8080/"
    },
    "id": "f_GAtaoFgEWf",
    "outputId": "0205bfd0-4a67-4c73-fbe2-2a71a526215b"
   },
   "outputs": [
    {
     "data": {
      "text/plain": [
       "(24, 2)"
      ]
     },
     "execution_count": 18,
     "metadata": {},
     "output_type": "execute_result"
    }
   ],
   "source": [
    "Df_Result_Context = []\n",
    "\n",
    "for i in range(0, len(List_Result_Context), 2):\n",
    "    Df_Result_Context.append([List_Result_Context[i], List_Result_Context[i+1]])\n",
    "np.shape(Df_Result_Context)"
   ]
  },
  {
   "cell_type": "code",
   "execution_count": 19,
   "metadata": {
    "colab": {
     "base_uri": "https://localhost:8080/"
    },
    "id": "UxCVL7-v6963",
    "outputId": "7677039d-1e8d-4c95-dc50-b48ae77b3bea"
   },
   "outputs": [
    {
     "data": {
      "text/plain": [
       "['Satu-satunya waktu makan Kanada bacon Kanada adalah ketika mereka berada di Amerika Serikat',\n",
       " ' The just time the Canadian consumes Canadian sausage is once they are in the usa']"
      ]
     },
     "execution_count": 19,
     "metadata": {},
     "output_type": "execute_result"
    }
   ],
   "source": [
    "Df_Result_Context[0]"
   ]
  },
  {
   "cell_type": "code",
   "execution_count": 20,
   "metadata": {
    "colab": {
     "base_uri": "https://localhost:8080/",
     "height": 206
    },
    "id": "-IBsg1MhxbPF",
    "outputId": "db518e30-d621-4d1d-f2ea-f3a033e3ece5"
   },
   "outputs": [
    {
     "data": {
      "text/html": [
       "<div>\n",
       "<style scoped>\n",
       "    .dataframe tbody tr th:only-of-type {\n",
       "        vertical-align: middle;\n",
       "    }\n",
       "\n",
       "    .dataframe tbody tr th {\n",
       "        vertical-align: top;\n",
       "    }\n",
       "\n",
       "    .dataframe thead th {\n",
       "        text-align: right;\n",
       "    }\n",
       "</style>\n",
       "<table border=\"1\" class=\"dataframe\">\n",
       "  <thead>\n",
       "    <tr style=\"text-align: right;\">\n",
       "      <th></th>\n",
       "      <th>ID</th>\n",
       "      <th>EN</th>\n",
       "    </tr>\n",
       "  </thead>\n",
       "  <tbody>\n",
       "    <tr>\n",
       "      <th>0</th>\n",
       "      <td>Satu-satunya waktu makan Kanada bacon Kanada a...</td>\n",
       "      <td>The just time the Canadian consumes Canadian ...</td>\n",
       "    </tr>\n",
       "    <tr>\n",
       "      <th>1</th>\n",
       "      <td>Direkturnya selalu makan di restoran ibuku da...</td>\n",
       "      <td>Plus the director dines in my mom's restauran...</td>\n",
       "    </tr>\n",
       "    <tr>\n",
       "      <th>2</th>\n",
       "      <td>Hari kedua: Makan semua jenis sayuran segar s...</td>\n",
       "      <td>Day 2: Consumes all kinds of fresh vegetables...</td>\n",
       "    </tr>\n",
       "    <tr>\n",
       "      <th>3</th>\n",
       "      <td>Dia makan di sini sepanjang masa.</td>\n",
       "      <td>She dines here all the time.</td>\n",
       "    </tr>\n",
       "    <tr>\n",
       "      <th>4</th>\n",
       "      <td>Anak Anda mungkin salah satu dari mereka yang...</td>\n",
       "      <td>Your youngster might be one of those who only...</td>\n",
       "    </tr>\n",
       "  </tbody>\n",
       "</table>\n",
       "</div>"
      ],
      "text/plain": [
       "                                                  ID  \\\n",
       "0  Satu-satunya waktu makan Kanada bacon Kanada a...   \n",
       "1   Direkturnya selalu makan di restoran ibuku da...   \n",
       "2   Hari kedua: Makan semua jenis sayuran segar s...   \n",
       "3                  Dia makan di sini sepanjang masa.   \n",
       "4   Anak Anda mungkin salah satu dari mereka yang...   \n",
       "\n",
       "                                                  EN  \n",
       "0   The just time the Canadian consumes Canadian ...  \n",
       "1   Plus the director dines in my mom's restauran...  \n",
       "2   Day 2: Consumes all kinds of fresh vegetables...  \n",
       "3                       She dines here all the time.  \n",
       "4   Your youngster might be one of those who only...  "
      ]
     },
     "execution_count": 20,
     "metadata": {},
     "output_type": "execute_result"
    }
   ],
   "source": [
    "df = pd.DataFrame(Df_Result_Context, columns =['ID', 'EN'])\n",
    "df.head(5)"
   ]
  },
  {
   "cell_type": "markdown",
   "metadata": {
    "id": "8m4JBtmP80zL"
   },
   "source": [
    "## Data Cleaning"
   ]
  },
  {
   "cell_type": "code",
   "execution_count": 21,
   "metadata": {
    "colab": {
     "base_uri": "https://localhost:8080/"
    },
    "id": "rhLpIuzy4Nus",
    "outputId": "1dcd1dcc-c101-49ae-88b5-0fabf4dc5d20"
   },
   "outputs": [
    {
     "name": "stderr",
     "output_type": "stream",
     "text": [
      "d:\\2. python\\python 3.7\\lib\\site-packages\\ipykernel_launcher.py:4: FutureWarning: The default value of regex will change from True to False in a future version.\n",
      "  after removing the cwd from sys.path.\n"
     ]
    }
   ],
   "source": [
    "for item in df.EN:\n",
    "    item = re.sub(r\"(@\\[A-Za-z0-9]+)|([^0-9A-Za-z \\t])|(\\w+:\\/\\/\\S+)|^rt|http.+?\", \"\", item)\n",
    "\n",
    "df[\"ID\"] = df.ID.str.replace('~[^a-zA-Z0-9\\s]+~', '')"
   ]
  },
  {
   "cell_type": "code",
   "execution_count": 22,
   "metadata": {
    "id": "dMoA7G8w46Fp"
   },
   "outputs": [],
   "source": [
    "for i in df.ID :\n",
    "    i = i.replace('~[^a-zA-Z0-9\\s]+~', '')"
   ]
  },
  {
   "cell_type": "code",
   "execution_count": 23,
   "metadata": {
    "colab": {
     "base_uri": "https://localhost:8080/",
     "height": 206
    },
    "id": "RThzpvrb6gK7",
    "outputId": "4e0d0e5b-6c1a-4ab4-9dba-71f80fa254c1"
   },
   "outputs": [
    {
     "data": {
      "text/html": [
       "<div>\n",
       "<style scoped>\n",
       "    .dataframe tbody tr th:only-of-type {\n",
       "        vertical-align: middle;\n",
       "    }\n",
       "\n",
       "    .dataframe tbody tr th {\n",
       "        vertical-align: top;\n",
       "    }\n",
       "\n",
       "    .dataframe thead th {\n",
       "        text-align: right;\n",
       "    }\n",
       "</style>\n",
       "<table border=\"1\" class=\"dataframe\">\n",
       "  <thead>\n",
       "    <tr style=\"text-align: right;\">\n",
       "      <th></th>\n",
       "      <th>ID</th>\n",
       "      <th>EN</th>\n",
       "    </tr>\n",
       "  </thead>\n",
       "  <tbody>\n",
       "    <tr>\n",
       "      <th>0</th>\n",
       "      <td>Satu-satunya waktu makan Kanada bacon Kanada a...</td>\n",
       "      <td>The just time the Canadian consumes Canadian ...</td>\n",
       "    </tr>\n",
       "    <tr>\n",
       "      <th>1</th>\n",
       "      <td>Direkturnya selalu makan di restoran ibuku da...</td>\n",
       "      <td>Plus the director dines in my mom's restauran...</td>\n",
       "    </tr>\n",
       "    <tr>\n",
       "      <th>2</th>\n",
       "      <td>Hari kedua: Makan semua jenis sayuran segar s...</td>\n",
       "      <td>Day 2: Consumes all kinds of fresh vegetables...</td>\n",
       "    </tr>\n",
       "    <tr>\n",
       "      <th>3</th>\n",
       "      <td>Dia makan di sini sepanjang masa.</td>\n",
       "      <td>She dines here all the time.</td>\n",
       "    </tr>\n",
       "    <tr>\n",
       "      <th>4</th>\n",
       "      <td>Anak Anda mungkin salah satu dari mereka yang...</td>\n",
       "      <td>Your youngster might be one of those who only...</td>\n",
       "    </tr>\n",
       "  </tbody>\n",
       "</table>\n",
       "</div>"
      ],
      "text/plain": [
       "                                                  ID  \\\n",
       "0  Satu-satunya waktu makan Kanada bacon Kanada a...   \n",
       "1   Direkturnya selalu makan di restoran ibuku da...   \n",
       "2   Hari kedua: Makan semua jenis sayuran segar s...   \n",
       "3                  Dia makan di sini sepanjang masa.   \n",
       "4   Anak Anda mungkin salah satu dari mereka yang...   \n",
       "\n",
       "                                                  EN  \n",
       "0   The just time the Canadian consumes Canadian ...  \n",
       "1   Plus the director dines in my mom's restauran...  \n",
       "2   Day 2: Consumes all kinds of fresh vegetables...  \n",
       "3                       She dines here all the time.  \n",
       "4   Your youngster might be one of those who only...  "
      ]
     },
     "execution_count": 23,
     "metadata": {},
     "output_type": "execute_result"
    }
   ],
   "source": [
    "df.head(5)"
   ]
  },
  {
   "cell_type": "markdown",
   "metadata": {
    "id": "kIJZjYz0_pk7"
   },
   "source": [
    "## End to End Getting Vocab and Context of ID Word"
   ]
  },
  {
   "cell_type": "code",
   "execution_count": 24,
   "metadata": {
    "id": "28p4WKf4_uc7"
   },
   "outputs": [],
   "source": [
    "ID_Vocab = \"Jancuk\"\n",
    "ID_Vocab = ID_Vocab.lower()"
   ]
  },
  {
   "cell_type": "code",
   "execution_count": 25,
   "metadata": {
    "id": "XczgEfn7AqwU"
   },
   "outputs": [],
   "source": [
    "#Search the div\n",
    "r = requests.get(\"https://tr-ex.me/translation/indonesian-english/\" + ID_Vocab)\n",
    "c = r.content\n",
    "from bs4 import BeautifulSoup"
   ]
  },
  {
   "cell_type": "code",
   "execution_count": 26,
   "metadata": {
    "colab": {
     "base_uri": "https://localhost:8080/"
    },
    "id": "0Vxz1uH_A41X",
    "outputId": "de568375-ca80-48b7-967a-f3ae04fbb767"
   },
   "outputs": [
    {
     "data": {
      "text/plain": [
       "[]"
      ]
     },
     "execution_count": 26,
     "metadata": {},
     "output_type": "execute_result"
    }
   ],
   "source": [
    "soup = BeautifulSoup(c)\n",
    "main_content = soup.find_all('span', attrs = {'class': 'text'})\n",
    "main_content = str(main_content)\n",
    "result_vocab = re.sub('<.*?>', '', main_content)\n",
    "\n",
    "result_vocab = result_vocab.replace(\"[\",\"\")\n",
    "result_vocab = result_vocab.replace(\"]\",\"\")\n",
    "result_vocab = result_vocab.split(\",\")\n",
    "\n",
    "result_vocab = [x.strip(' ') for x in result_vocab]\n",
    "\n",
    "if 'indonesian' in result_vocab: result_vocab.remove('indonesian')\n",
    "if 'english' in result_vocab: result_vocab.remove('english')\n",
    "\n",
    "result_vocab[0:5]"
   ]
  },
  {
   "cell_type": "code",
   "execution_count": 27,
   "metadata": {
    "id": "DbR-KG1LA9Bw"
   },
   "outputs": [],
   "source": [
    "main_content = soup.find_all('div', attrs = {'class': 'm'})\n",
    "main_content = str(main_content)\n",
    "\n",
    "main_content = main_content.partition('\\n')[0]\n",
    "Result = re.sub('<.*?>', '', main_content)\n",
    "\n",
    "Result = Result.replace('\"',\"\")\n",
    "Result = Result.replace('”',\"\")\n",
    "Result = Result.split(\"!|?|.\")"
   ]
  },
  {
   "cell_type": "code",
   "execution_count": 28,
   "metadata": {
    "colab": {
     "base_uri": "https://localhost:8080/",
     "height": 91
    },
    "id": "6bWLUZUdBsdT",
    "outputId": "334b6bde-90ed-417b-c35f-e5ee674e99a2"
   },
   "outputs": [
    {
     "data": {
      "text/plain": [
       "\"Jancuk kalian berani memanggilku pembohong?, Lol are you calling me a liar?, Jancuk kalian berani memanggilku pembohong?, WTF you dare to call me a liar?, Jancuk aku tak bisa berpikir!, Shit I can't think of anything!, Ada yang bilang bahwa jancuk itu berasal dari bahasa arab dari kata Da' Su'yang berarti tinggalkanlah kejelekan atau keburukan., They kept saying it was haram haram an Arabic word that means sinful or prohibited., Versi lain menyebutkan bahwa kata Jancuk berasal dari kata kerja diencuk., According to another version the name derived from the word amanjutal which means'free community service.\""
      ]
     },
     "execution_count": 28,
     "metadata": {},
     "output_type": "execute_result"
    }
   ],
   "source": [
    "Result_Context = \"\".join(Result)\n",
    "Result_Context = Result_Context.replace(']',\"\")\n",
    "Result_Context = Result_Context.replace('[',\"\")\n",
    "\n",
    "Result_Context"
   ]
  },
  {
   "cell_type": "code",
   "execution_count": 29,
   "metadata": {
    "colab": {
     "base_uri": "https://localhost:8080/"
    },
    "id": "E0nIDI4EBxSc",
    "outputId": "a5dfed0e-c689-479e-a30a-9952281f7d3c"
   },
   "outputs": [
    {
     "data": {
      "text/plain": [
       "['Jancuk kalian berani memanggilku pembohong?',\n",
       " ' Lol are you calling me a liar?',\n",
       " ' Jancuk kalian berani memanggilku pembohong?',\n",
       " ' WTF you dare to call me a liar?',\n",
       " ' Jancuk aku tak bisa berpikir!']"
      ]
     },
     "execution_count": 29,
     "metadata": {},
     "output_type": "execute_result"
    }
   ],
   "source": [
    "List_Result_Context = list(Result_Context.split(\",\"))\n",
    "List_Result_Context[0:5]"
   ]
  },
  {
   "cell_type": "code",
   "execution_count": 30,
   "metadata": {
    "colab": {
     "base_uri": "https://localhost:8080/"
    },
    "id": "GoaR4xDnB22z",
    "outputId": "c968f74a-3814-4b3e-c8ce-e0a473af7a43"
   },
   "outputs": [
    {
     "data": {
      "text/plain": [
       "['Jancuk kalian berani memanggilku pembohong?',\n",
       " ' Lol are you calling me a liar?']"
      ]
     },
     "execution_count": 30,
     "metadata": {},
     "output_type": "execute_result"
    }
   ],
   "source": [
    "Df_Result_Context = []\n",
    "\n",
    "for i in range(0, len(List_Result_Context), 2):\n",
    "    Df_Result_Context.append([List_Result_Context[i], List_Result_Context[i+1]])\n",
    "np.shape(Df_Result_Context)\n",
    "\n",
    "Df_Result_Context[0]"
   ]
  },
  {
   "cell_type": "code",
   "execution_count": 31,
   "metadata": {
    "colab": {
     "base_uri": "https://localhost:8080/",
     "height": 206
    },
    "id": "gJzMWrsXB7yj",
    "outputId": "27c396be-f303-4a68-ce9b-9b65f35e3f50"
   },
   "outputs": [
    {
     "data": {
      "text/html": [
       "<div>\n",
       "<style scoped>\n",
       "    .dataframe tbody tr th:only-of-type {\n",
       "        vertical-align: middle;\n",
       "    }\n",
       "\n",
       "    .dataframe tbody tr th {\n",
       "        vertical-align: top;\n",
       "    }\n",
       "\n",
       "    .dataframe thead th {\n",
       "        text-align: right;\n",
       "    }\n",
       "</style>\n",
       "<table border=\"1\" class=\"dataframe\">\n",
       "  <thead>\n",
       "    <tr style=\"text-align: right;\">\n",
       "      <th></th>\n",
       "      <th>ID</th>\n",
       "      <th>EN</th>\n",
       "    </tr>\n",
       "  </thead>\n",
       "  <tbody>\n",
       "    <tr>\n",
       "      <th>0</th>\n",
       "      <td>Jancuk kalian berani memanggilku pembohong?</td>\n",
       "      <td>Lol are you calling me a liar?</td>\n",
       "    </tr>\n",
       "    <tr>\n",
       "      <th>1</th>\n",
       "      <td>Jancuk kalian berani memanggilku pembohong?</td>\n",
       "      <td>WTF you dare to call me a liar?</td>\n",
       "    </tr>\n",
       "    <tr>\n",
       "      <th>2</th>\n",
       "      <td>Jancuk aku tak bisa berpikir!</td>\n",
       "      <td>Shit I can't think of anything!</td>\n",
       "    </tr>\n",
       "    <tr>\n",
       "      <th>3</th>\n",
       "      <td>Ada yang bilang bahwa jancuk itu berasal dari...</td>\n",
       "      <td>They kept saying it was haram haram an Arabic...</td>\n",
       "    </tr>\n",
       "    <tr>\n",
       "      <th>4</th>\n",
       "      <td>Versi lain menyebutkan bahwa kata Jancuk bera...</td>\n",
       "      <td>According to another version the name derived...</td>\n",
       "    </tr>\n",
       "  </tbody>\n",
       "</table>\n",
       "</div>"
      ],
      "text/plain": [
       "                                                  ID  \\\n",
       "0        Jancuk kalian berani memanggilku pembohong?   \n",
       "1        Jancuk kalian berani memanggilku pembohong?   \n",
       "2                      Jancuk aku tak bisa berpikir!   \n",
       "3   Ada yang bilang bahwa jancuk itu berasal dari...   \n",
       "4   Versi lain menyebutkan bahwa kata Jancuk bera...   \n",
       "\n",
       "                                                  EN  \n",
       "0                     Lol are you calling me a liar?  \n",
       "1                    WTF you dare to call me a liar?  \n",
       "2                    Shit I can't think of anything!  \n",
       "3   They kept saying it was haram haram an Arabic...  \n",
       "4   According to another version the name derived...  "
      ]
     },
     "execution_count": 31,
     "metadata": {},
     "output_type": "execute_result"
    }
   ],
   "source": [
    "df = pd.DataFrame(Df_Result_Context, columns =['ID', 'EN'])\n",
    "df.head(5)"
   ]
  },
  {
   "cell_type": "markdown",
   "metadata": {
    "id": "AV1USrnyIEim"
   },
   "source": [
    "## Applying to the Dict.json"
   ]
  },
  {
   "cell_type": "code",
   "execution_count": 32,
   "metadata": {
    "colab": {
     "base_uri": "https://localhost:8080/",
     "height": 206
    },
    "id": "cJnYYzcGIHjU",
    "outputId": "9d2404b8-ade9-427e-972b-eed7e2ad2541"
   },
   "outputs": [
    {
     "data": {
      "text/html": [
       "<div>\n",
       "<style scoped>\n",
       "    .dataframe tbody tr th:only-of-type {\n",
       "        vertical-align: middle;\n",
       "    }\n",
       "\n",
       "    .dataframe tbody tr th {\n",
       "        vertical-align: top;\n",
       "    }\n",
       "\n",
       "    .dataframe thead th {\n",
       "        text-align: right;\n",
       "    }\n",
       "</style>\n",
       "<table border=\"1\" class=\"dataframe\">\n",
       "  <thead>\n",
       "    <tr style=\"text-align: right;\">\n",
       "      <th></th>\n",
       "      <th>meaning</th>\n",
       "      <th>frequency</th>\n",
       "    </tr>\n",
       "  </thead>\n",
       "  <tbody>\n",
       "    <tr>\n",
       "      <th>hai</th>\n",
       "      <td>hey</td>\n",
       "      <td>37966</td>\n",
       "    </tr>\n",
       "    <tr>\n",
       "      <th>aku</th>\n",
       "      <td>I</td>\n",
       "      <td>25196</td>\n",
       "    </tr>\n",
       "    <tr>\n",
       "      <th>ya</th>\n",
       "      <td>yes</td>\n",
       "      <td>25028</td>\n",
       "    </tr>\n",
       "    <tr>\n",
       "      <th>ini</th>\n",
       "      <td>this</td>\n",
       "      <td>16311</td>\n",
       "    </tr>\n",
       "    <tr>\n",
       "      <th>oke</th>\n",
       "      <td>OK</td>\n",
       "      <td>14433</td>\n",
       "    </tr>\n",
       "  </tbody>\n",
       "</table>\n",
       "</div>"
      ],
      "text/plain": [
       "    meaning frequency\n",
       "hai     hey     37966\n",
       "aku       I     25196\n",
       "ya      yes     25028\n",
       "ini    this     16311\n",
       "oke      OK     14433"
      ]
     },
     "execution_count": 32,
     "metadata": {},
     "output_type": "execute_result"
    }
   ],
   "source": [
    "dictionary_url = 'https://raw.githubusercontent.com/holodata/learn-bahasa-indonesia/main/dictionary/build/dictionary.json'\n",
    "df_dict = pd.read_json(dictionary_url)\n",
    "df_dict = df_dict.T\n",
    "df_dict.head(5)"
   ]
  },
  {
   "cell_type": "code",
   "execution_count": 33,
   "metadata": {
    "id": "VOJV3nQ9KfqF"
   },
   "outputs": [],
   "source": [
    "# Custome function\n",
    "def get_vocab(i) :\n",
    "    ID_Vocab = i\n",
    "    ID_Vocab = ID_Vocab.lower()\n",
    "\n",
    "    r = requests.get(\"https://tr-ex.me/translation/indonesian-english/\" + ID_Vocab)\n",
    "    c = r.content\n",
    "    from bs4 import BeautifulSoup\n",
    "\n",
    "    soup = BeautifulSoup(c)\n",
    "    main_content = soup.find_all('span', attrs = {'class': 'text'})\n",
    "    synonyms = soup.find_all('div', attrs = {'class': 'synonyms'})\n",
    "\n",
    "    synonyms = str(synonyms)\n",
    "    result_synonyms = re.sub('<.*?>', ',', synonyms)\n",
    "    result_synonyms = result_synonyms.replace(\"[\",\"\")\n",
    "    result_synonyms = result_synonyms.replace(\"]\",\"\")\n",
    "    result_synonyms = result_synonyms.split(\",\")\n",
    "    result_synonyms = [x.strip(' ') for x in result_synonyms]\n",
    "\n",
    "    main_content = str(main_content)\n",
    "    result_vocab = re.sub('<.*?>', '', main_content)\n",
    "    result_vocab = result_vocab.replace(\"[\",\"\")\n",
    "    result_vocab = result_vocab.replace(\"]\",\"\")\n",
    "    result_vocab = result_vocab.split(\",\")\n",
    "    result_vocab = [x.strip(' ') for x in result_vocab]\n",
    "\n",
    "    for element in result_synonyms:\n",
    "        if element in result_vocab:\n",
    "            result_vocab.remove(element)\n",
    "\n",
    "    if 'indonesian' in result_vocab: result_vocab.remove('indonesian')\n",
    "    if 'english' in result_vocab: result_vocab.remove('english')\n",
    "\n",
    "    return result_vocab"
   ]
  },
  {
   "cell_type": "code",
   "execution_count": 34,
   "metadata": {
    "id": "fAajJn6gVSYm"
   },
   "outputs": [],
   "source": [
    "def get_context(i) :\n",
    "    ID_Vocab = i\n",
    "    ID_Vocab = ID_Vocab.lower()\n",
    "\n",
    "    r = requests.get(\"https://tr-ex.me/translation/indonesian-english/\" + ID_Vocab)\n",
    "    c = r.content\n",
    "    from bs4 import BeautifulSoup\n",
    "    soup = BeautifulSoup(c)\n",
    "\n",
    "    main_content = soup.find_all('div', attrs = {'class': 'm'})\n",
    "    main_content = str(main_content)\n",
    "\n",
    "    main_content = main_content.partition('\\n')[0]\n",
    "    Result = re.sub('<.*?>', '', main_content)\n",
    "\n",
    "    Result = Result.replace('\"',\"\")\n",
    "    Result = Result.replace('”',\"\")\n",
    "    Result = Result.split(\"!|?|.\")\n",
    "    Result_Context = \"\".join(Result)\n",
    "    Result_Context = Result_Context.replace(']',\"\")\n",
    "    Result_Context = Result_Context.replace('[',\"\")\n",
    "\n",
    "    List_Result_Context = list(Result_Context.split(\",\"))\n",
    "    return List_Result_Context"
   ]
  },
  {
   "cell_type": "code",
   "execution_count": 45,
   "metadata": {
    "colab": {
     "base_uri": "https://localhost:8080/",
     "height": 377
    },
    "id": "OTKYuBD3JXJZ",
    "outputId": "310835b2-42ea-47b2-e26a-eacad7c535ab"
   },
   "outputs": [
    {
     "ename": "TypeError",
     "evalue": "can only concatenate str (not \"int\") to str",
     "output_type": "error",
     "traceback": [
      "\u001b[1;31m---------------------------------------------------------------------------\u001b[0m",
      "\u001b[1;31mTypeError\u001b[0m                                 Traceback (most recent call last)",
      "\u001b[1;32m~\\AppData\\Local\\Temp/ipykernel_23052/4144557184.py\u001b[0m in \u001b[0;36m<module>\u001b[1;34m\u001b[0m\n\u001b[0;32m     15\u001b[0m     \u001b[0mindex\u001b[0m \u001b[1;33m=\u001b[0m \u001b[0mindex\u001b[0m\u001b[1;33m+\u001b[0m\u001b[1;36m1\u001b[0m\u001b[1;33m\u001b[0m\u001b[1;33m\u001b[0m\u001b[0m\n\u001b[0;32m     16\u001b[0m     \u001b[1;32mif\u001b[0m \u001b[0mindex\u001b[0m\u001b[1;33m%\u001b[0m\u001b[1;36m10\u001b[0m \u001b[1;33m==\u001b[0m \u001b[1;36m0\u001b[0m\u001b[1;33m:\u001b[0m\u001b[1;33m\u001b[0m\u001b[1;33m\u001b[0m\u001b[0m\n\u001b[1;32m---> 17\u001b[1;33m         \u001b[0mprint\u001b[0m\u001b[1;33m(\u001b[0m\u001b[1;34m\"index number :\"\u001b[0m\u001b[1;33m+\u001b[0m\u001b[0mindex\u001b[0m\u001b[1;33m)\u001b[0m\u001b[1;33m\u001b[0m\u001b[1;33m\u001b[0m\u001b[0m\n\u001b[0m",
      "\u001b[1;31mTypeError\u001b[0m: can only concatenate str (not \"int\") to str"
     ]
    }
   ],
   "source": [
    "#df_test = df_dict.head(20)\n",
    "#df_test[\"new_meaning\"] = \"\"\n",
    "#df_test[\"context_sentences\"] = \"\"\n",
    "\n",
    "index = 0\n",
    "df_dict[\"new_meaning\"] = \"\"\n",
    "df_dict[\"context_sentences\"] = \"\"\n",
    "\n",
    "for i in df_dict.index:\n",
    "    if len(df_dict[\"context_sentences\"][index]) == 0 :\n",
    "        df_dict[\"new_meaning\"][index] =  get_vocab(i)\n",
    "        df_dict[\"context_sentences\"][index] =  get_context(i)\n",
    "    else :\n",
    "        pass\n",
    "    index = index+1\n",
    "    if index%10 == 0:\n",
    "        print(\"index number :\"+index)"
   ]
  },
  {
   "cell_type": "code",
   "execution_count": null,
   "metadata": {
    "colab": {
     "base_uri": "https://localhost:8080/",
     "height": 34
    },
    "id": "H_4IcUtgnKRr",
    "outputId": "0b966f40-9fcd-499e-910d-af8365beb1cd"
   },
   "outputs": [],
   "source": [
    "#from google.colab import files\n",
    "\n",
    "df_dict.to_csv('output_dict.csv', encoding = 'utf-8-sig') \n",
    "#files.download('output.csv')"
   ]
  },
  {
   "cell_type": "code",
   "execution_count": 164,
   "metadata": {
    "colab": {
     "base_uri": "https://localhost:8080/"
    },
    "id": "cz0salaELrGp",
    "outputId": "c2513d15-b977-4ed5-b719-645e0470a9f2"
   },
   "outputs": [
    {
     "data": {
      "text/plain": [
       "['yes',\n",
       " 'ya',\n",
       " 'yeah',\n",
       " 'ya',\n",
       " 'huh',\n",
       " 'ya',\n",
       " 'well',\n",
       " 'dengan baik',\n",
       " 'nah',\n",
       " 'o',\n",
       " 'o',\n",
       " 'ya',\n",
       " 'oh',\n",
       " 'oh',\n",
       " 'ah',\n",
       " 'yep',\n",
       " 'ya',\n",
       " 'yea',\n",
       " 'ya',\n",
       " 'dan',\n",
       " 'aye',\n",
       " 'ya',\n",
       " '\\x91O',\n",
       " 'o',\n",
       " 'ya',\n",
       " 'ayes',\n",
       " 'ya']"
      ]
     },
     "execution_count": 164,
     "metadata": {},
     "output_type": "execute_result"
    }
   ],
   "source": [
    "## Fix Vocab\n",
    "ID_Vocab = \"ya\"\n",
    "ID_Vocab = ID_Vocab.lower()\n",
    "\n",
    "r = requests.get(\"https://tr-ex.me/translation/indonesian-english/\" + ID_Vocab)\n",
    "c = r.content\n",
    "from bs4 import BeautifulSoup\n",
    "\n",
    "soup = BeautifulSoup(c)\n",
    "main_content = soup.find_all('span', attrs = {'class': 'text'})\n",
    "synonyms = soup.find_all('div', attrs = {'class': 'synonyms'})\n",
    "\n",
    "synonyms = str(synonyms)\n",
    "result_synonyms = re.sub('<.*?>', ',', synonyms)\n",
    "result_synonyms = result_synonyms.replace(\"[\",\"\")\n",
    "result_synonyms = result_synonyms.replace(\"]\",\"\")\n",
    "result_synonyms = result_synonyms.split(\",\")\n",
    "result_synonyms = [x.strip(' ') for x in result_synonyms]\n",
    "\n",
    "main_content = str(main_content)\n",
    "result_vocab = re.sub('<.*?>', '', main_content)\n",
    "result_vocab = result_vocab.replace(\"[\",\"\")\n",
    "result_vocab = result_vocab.replace(\"]\",\"\")\n",
    "result_vocab = result_vocab.split(\",\")\n",
    "result_vocab = [x.strip(' ') for x in result_vocab]\n",
    "\n",
    "for element in result_synonyms:\n",
    "    if element in result_vocab:\n",
    "        result_vocab.remove(element)\n",
    "\n",
    "if 'indonesian' in result_vocab: result_vocab.remove('indonesian')\n",
    "if 'english' in result_vocab: result_vocab.remove('english')\n",
    "\n",
    "result_vocab"
   ]
  },
  {
   "cell_type": "code",
   "execution_count": null,
   "metadata": {
    "id": "uzrxmdiLm5ZB"
   },
   "outputs": [],
   "source": []
  }
 ],
 "metadata": {
  "colab": {
   "collapsed_sections": [],
   "name": "TR-EX Scrapper For Vocab Meaning and Context.ipynb",
   "provenance": []
  },
  "kernelspec": {
   "display_name": "Python 3 (ipykernel)",
   "language": "python",
   "name": "python3"
  },
  "language_info": {
   "codemirror_mode": {
    "name": "ipython",
    "version": 3
   },
   "file_extension": ".py",
   "mimetype": "text/x-python",
   "name": "python",
   "nbconvert_exporter": "python",
   "pygments_lexer": "ipython3",
   "version": "3.7.5"
  }
 },
 "nbformat": 4,
 "nbformat_minor": 1
}
